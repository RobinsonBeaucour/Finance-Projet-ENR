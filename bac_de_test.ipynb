{
 "cells": [
  {
   "cell_type": "code",
   "execution_count": 1,
   "metadata": {},
   "outputs": [],
   "source": [
    "import pandas as pd\n",
    "import numpy as np\n",
    "import matplotlib.pyplot as plt\n",
    "import plotly.graph_objects as go\n",
    "import plotly.express as px\n",
    "from relife import Weibull\n",
    "pd.options.plotting.backend = \"plotly\""
   ]
  },
  {
   "cell_type": "code",
   "execution_count": 69,
   "metadata": {},
   "outputs": [],
   "source": [
    "duree_construction = 3\n",
    "duree_projet = 30\n",
    "duree_amortissement = 10\n",
    "CAPEX = 1200000\n",
    "OPEX = CAPEX * 3/100\n",
    "dette = CAPEX / 3\n",
    "duree_dette = duree_construction + duree_amortissement\n",
    "taux_actualisation = 5\n",
    "taux_interets = 2\n",
    "prod_annuelle_MWh = 2200\n",
    "Cfd_price = 75\n",
    "taux_imposition = 30/100"
   ]
  },
  {
   "cell_type": "code",
   "execution_count": 78,
   "metadata": {},
   "outputs": [
    {
     "data": {
      "application/vnd.plotly.v1+json": {
       "config": {
        "plotlyServerURL": "https://plot.ly"
       },
       "data": [
        {
         "alignmentgroup": "True",
         "hovertemplate": "variable=CAPEX<br>index=%{x}<br>value=%{y}<extra></extra>",
         "legendgroup": "CAPEX",
         "marker": {
          "color": "#636efa",
          "pattern": {
           "shape": ""
          }
         },
         "name": "CAPEX",
         "offsetgroup": "CAPEX",
         "orientation": "v",
         "showlegend": true,
         "textposition": "auto",
         "type": "bar",
         "x": [
          -2,
          -1,
          0,
          1,
          2,
          3,
          4,
          5,
          6,
          7,
          8,
          9,
          10,
          11,
          12,
          13,
          14,
          15,
          16,
          17,
          18,
          19,
          20,
          21,
          22,
          23,
          24,
          25,
          26,
          27,
          28,
          29,
          30
         ],
         "xaxis": "x",
         "y": [
          -400000,
          -400000,
          -400000,
          null,
          null,
          null,
          null,
          null,
          null,
          null,
          null,
          null,
          null,
          null,
          null,
          null,
          null,
          null,
          null,
          null,
          null,
          null,
          -100000,
          -100000,
          null,
          null,
          null,
          null,
          null,
          null,
          null,
          null,
          null
         ],
         "yaxis": "y"
        },
        {
         "alignmentgroup": "True",
         "hovertemplate": "variable=OPEX<br>index=%{x}<br>value=%{y}<extra></extra>",
         "legendgroup": "OPEX",
         "marker": {
          "color": "#EF553B",
          "pattern": {
           "shape": ""
          }
         },
         "name": "OPEX",
         "offsetgroup": "OPEX",
         "orientation": "v",
         "showlegend": true,
         "textposition": "auto",
         "type": "bar",
         "x": [
          -2,
          -1,
          0,
          1,
          2,
          3,
          4,
          5,
          6,
          7,
          8,
          9,
          10,
          11,
          12,
          13,
          14,
          15,
          16,
          17,
          18,
          19,
          20,
          21,
          22,
          23,
          24,
          25,
          26,
          27,
          28,
          29,
          30
         ],
         "xaxis": "x",
         "y": [
          null,
          null,
          null,
          -36000,
          -36000,
          -36000,
          -36000,
          -36000,
          -36000,
          -36000,
          -36000,
          -36000,
          -36000,
          -36000,
          -36000,
          -36000,
          -36000,
          -36000,
          -36000,
          -36000,
          -36000,
          -36000,
          -36000,
          -36000,
          -36000,
          -36000,
          -36000,
          -36000,
          -36000,
          -36000,
          -36000,
          -36000,
          -36000
         ],
         "yaxis": "y"
        },
        {
         "alignmentgroup": "True",
         "hovertemplate": "variable=Revenus<br>index=%{x}<br>value=%{y}<extra></extra>",
         "legendgroup": "Revenus",
         "marker": {
          "color": "#00cc96",
          "pattern": {
           "shape": ""
          }
         },
         "name": "Revenus",
         "offsetgroup": "Revenus",
         "orientation": "v",
         "showlegend": true,
         "textposition": "auto",
         "type": "bar",
         "x": [
          -2,
          -1,
          0,
          1,
          2,
          3,
          4,
          5,
          6,
          7,
          8,
          9,
          10,
          11,
          12,
          13,
          14,
          15,
          16,
          17,
          18,
          19,
          20,
          21,
          22,
          23,
          24,
          25,
          26,
          27,
          28,
          29,
          30
         ],
         "xaxis": "x",
         "y": [
          null,
          null,
          null,
          165000,
          165000,
          165000,
          165000,
          165000,
          165000,
          165000,
          165000,
          165000,
          165000,
          165000,
          165000,
          165000,
          165000,
          165000,
          165000,
          165000,
          165000,
          165000,
          165000,
          165000,
          165000,
          165000,
          165000,
          165000,
          165000,
          165000,
          165000,
          165000,
          165000
         ],
         "yaxis": "y"
        },
        {
         "marker": {
          "color": "black"
         },
         "name": "Cash Flow",
         "type": "scatter",
         "x": [
          -2,
          -1,
          0,
          1,
          2,
          3,
          4,
          5,
          6,
          7,
          8,
          9,
          10,
          11,
          12,
          13,
          14,
          15,
          16,
          17,
          18,
          19,
          20,
          21,
          22,
          23,
          24,
          25,
          26,
          27,
          28,
          29,
          30
         ],
         "y": [
          -8000,
          -407384.6153846154,
          -406769.23076923075,
          121992.30769230769,
          122423.07692307694,
          122853.84615384616,
          123284.61538461538,
          123715.38461538462,
          124146.15384615384,
          124576.92307692306,
          125007.69230769231,
          125438.46153846153,
          125869.23076923078,
          90300,
          90300,
          90300,
          90300,
          90300,
          90300,
          90300,
          90300,
          90300,
          -9700,
          -9700,
          90300,
          90300,
          90300,
          90300,
          90300,
          90300,
          90300,
          90300,
          90300
         ]
        },
        {
         "marker": {
          "color": "orange"
         },
         "name": "Endettement",
         "type": "scatter",
         "x": [
          -2,
          -1,
          0,
          1,
          2,
          3,
          4,
          5,
          6,
          7,
          8,
          9,
          10,
          11,
          12,
          13,
          14,
          15,
          16,
          17,
          18,
          19,
          20,
          21,
          22,
          23,
          24,
          25,
          26,
          27,
          28,
          29,
          30
         ],
         "y": [
          400000,
          369230.76923076925,
          338461.53846153844,
          307692.3076923077,
          276923.07692307694,
          246153.84615384616,
          215384.61538461538,
          184615.38461538462,
          153846.15384615384,
          123076.92307692306,
          92307.69230769231,
          61538.46153846156,
          30769.23076923075,
          0,
          null,
          null,
          null,
          null,
          null,
          null,
          null,
          null,
          null,
          null,
          null,
          null,
          null,
          null,
          null,
          null,
          null,
          null,
          null
         ]
        }
       ],
       "layout": {
        "barmode": "relative",
        "hovermode": "x",
        "legend": {
         "title": {
          "text": "variable"
         },
         "tracegroupgap": 0
        },
        "margin": {
         "t": 60
        },
        "template": {
         "data": {
          "bar": [
           {
            "error_x": {
             "color": "#2a3f5f"
            },
            "error_y": {
             "color": "#2a3f5f"
            },
            "marker": {
             "line": {
              "color": "#E5ECF6",
              "width": 0.5
             },
             "pattern": {
              "fillmode": "overlay",
              "size": 10,
              "solidity": 0.2
             }
            },
            "type": "bar"
           }
          ],
          "barpolar": [
           {
            "marker": {
             "line": {
              "color": "#E5ECF6",
              "width": 0.5
             },
             "pattern": {
              "fillmode": "overlay",
              "size": 10,
              "solidity": 0.2
             }
            },
            "type": "barpolar"
           }
          ],
          "carpet": [
           {
            "aaxis": {
             "endlinecolor": "#2a3f5f",
             "gridcolor": "white",
             "linecolor": "white",
             "minorgridcolor": "white",
             "startlinecolor": "#2a3f5f"
            },
            "baxis": {
             "endlinecolor": "#2a3f5f",
             "gridcolor": "white",
             "linecolor": "white",
             "minorgridcolor": "white",
             "startlinecolor": "#2a3f5f"
            },
            "type": "carpet"
           }
          ],
          "choropleth": [
           {
            "colorbar": {
             "outlinewidth": 0,
             "ticks": ""
            },
            "type": "choropleth"
           }
          ],
          "contour": [
           {
            "colorbar": {
             "outlinewidth": 0,
             "ticks": ""
            },
            "colorscale": [
             [
              0,
              "#0d0887"
             ],
             [
              0.1111111111111111,
              "#46039f"
             ],
             [
              0.2222222222222222,
              "#7201a8"
             ],
             [
              0.3333333333333333,
              "#9c179e"
             ],
             [
              0.4444444444444444,
              "#bd3786"
             ],
             [
              0.5555555555555556,
              "#d8576b"
             ],
             [
              0.6666666666666666,
              "#ed7953"
             ],
             [
              0.7777777777777778,
              "#fb9f3a"
             ],
             [
              0.8888888888888888,
              "#fdca26"
             ],
             [
              1,
              "#f0f921"
             ]
            ],
            "type": "contour"
           }
          ],
          "contourcarpet": [
           {
            "colorbar": {
             "outlinewidth": 0,
             "ticks": ""
            },
            "type": "contourcarpet"
           }
          ],
          "heatmap": [
           {
            "colorbar": {
             "outlinewidth": 0,
             "ticks": ""
            },
            "colorscale": [
             [
              0,
              "#0d0887"
             ],
             [
              0.1111111111111111,
              "#46039f"
             ],
             [
              0.2222222222222222,
              "#7201a8"
             ],
             [
              0.3333333333333333,
              "#9c179e"
             ],
             [
              0.4444444444444444,
              "#bd3786"
             ],
             [
              0.5555555555555556,
              "#d8576b"
             ],
             [
              0.6666666666666666,
              "#ed7953"
             ],
             [
              0.7777777777777778,
              "#fb9f3a"
             ],
             [
              0.8888888888888888,
              "#fdca26"
             ],
             [
              1,
              "#f0f921"
             ]
            ],
            "type": "heatmap"
           }
          ],
          "heatmapgl": [
           {
            "colorbar": {
             "outlinewidth": 0,
             "ticks": ""
            },
            "colorscale": [
             [
              0,
              "#0d0887"
             ],
             [
              0.1111111111111111,
              "#46039f"
             ],
             [
              0.2222222222222222,
              "#7201a8"
             ],
             [
              0.3333333333333333,
              "#9c179e"
             ],
             [
              0.4444444444444444,
              "#bd3786"
             ],
             [
              0.5555555555555556,
              "#d8576b"
             ],
             [
              0.6666666666666666,
              "#ed7953"
             ],
             [
              0.7777777777777778,
              "#fb9f3a"
             ],
             [
              0.8888888888888888,
              "#fdca26"
             ],
             [
              1,
              "#f0f921"
             ]
            ],
            "type": "heatmapgl"
           }
          ],
          "histogram": [
           {
            "marker": {
             "pattern": {
              "fillmode": "overlay",
              "size": 10,
              "solidity": 0.2
             }
            },
            "type": "histogram"
           }
          ],
          "histogram2d": [
           {
            "colorbar": {
             "outlinewidth": 0,
             "ticks": ""
            },
            "colorscale": [
             [
              0,
              "#0d0887"
             ],
             [
              0.1111111111111111,
              "#46039f"
             ],
             [
              0.2222222222222222,
              "#7201a8"
             ],
             [
              0.3333333333333333,
              "#9c179e"
             ],
             [
              0.4444444444444444,
              "#bd3786"
             ],
             [
              0.5555555555555556,
              "#d8576b"
             ],
             [
              0.6666666666666666,
              "#ed7953"
             ],
             [
              0.7777777777777778,
              "#fb9f3a"
             ],
             [
              0.8888888888888888,
              "#fdca26"
             ],
             [
              1,
              "#f0f921"
             ]
            ],
            "type": "histogram2d"
           }
          ],
          "histogram2dcontour": [
           {
            "colorbar": {
             "outlinewidth": 0,
             "ticks": ""
            },
            "colorscale": [
             [
              0,
              "#0d0887"
             ],
             [
              0.1111111111111111,
              "#46039f"
             ],
             [
              0.2222222222222222,
              "#7201a8"
             ],
             [
              0.3333333333333333,
              "#9c179e"
             ],
             [
              0.4444444444444444,
              "#bd3786"
             ],
             [
              0.5555555555555556,
              "#d8576b"
             ],
             [
              0.6666666666666666,
              "#ed7953"
             ],
             [
              0.7777777777777778,
              "#fb9f3a"
             ],
             [
              0.8888888888888888,
              "#fdca26"
             ],
             [
              1,
              "#f0f921"
             ]
            ],
            "type": "histogram2dcontour"
           }
          ],
          "mesh3d": [
           {
            "colorbar": {
             "outlinewidth": 0,
             "ticks": ""
            },
            "type": "mesh3d"
           }
          ],
          "parcoords": [
           {
            "line": {
             "colorbar": {
              "outlinewidth": 0,
              "ticks": ""
             }
            },
            "type": "parcoords"
           }
          ],
          "pie": [
           {
            "automargin": true,
            "type": "pie"
           }
          ],
          "scatter": [
           {
            "fillpattern": {
             "fillmode": "overlay",
             "size": 10,
             "solidity": 0.2
            },
            "type": "scatter"
           }
          ],
          "scatter3d": [
           {
            "line": {
             "colorbar": {
              "outlinewidth": 0,
              "ticks": ""
             }
            },
            "marker": {
             "colorbar": {
              "outlinewidth": 0,
              "ticks": ""
             }
            },
            "type": "scatter3d"
           }
          ],
          "scattercarpet": [
           {
            "marker": {
             "colorbar": {
              "outlinewidth": 0,
              "ticks": ""
             }
            },
            "type": "scattercarpet"
           }
          ],
          "scattergeo": [
           {
            "marker": {
             "colorbar": {
              "outlinewidth": 0,
              "ticks": ""
             }
            },
            "type": "scattergeo"
           }
          ],
          "scattergl": [
           {
            "marker": {
             "colorbar": {
              "outlinewidth": 0,
              "ticks": ""
             }
            },
            "type": "scattergl"
           }
          ],
          "scattermapbox": [
           {
            "marker": {
             "colorbar": {
              "outlinewidth": 0,
              "ticks": ""
             }
            },
            "type": "scattermapbox"
           }
          ],
          "scatterpolar": [
           {
            "marker": {
             "colorbar": {
              "outlinewidth": 0,
              "ticks": ""
             }
            },
            "type": "scatterpolar"
           }
          ],
          "scatterpolargl": [
           {
            "marker": {
             "colorbar": {
              "outlinewidth": 0,
              "ticks": ""
             }
            },
            "type": "scatterpolargl"
           }
          ],
          "scatterternary": [
           {
            "marker": {
             "colorbar": {
              "outlinewidth": 0,
              "ticks": ""
             }
            },
            "type": "scatterternary"
           }
          ],
          "surface": [
           {
            "colorbar": {
             "outlinewidth": 0,
             "ticks": ""
            },
            "colorscale": [
             [
              0,
              "#0d0887"
             ],
             [
              0.1111111111111111,
              "#46039f"
             ],
             [
              0.2222222222222222,
              "#7201a8"
             ],
             [
              0.3333333333333333,
              "#9c179e"
             ],
             [
              0.4444444444444444,
              "#bd3786"
             ],
             [
              0.5555555555555556,
              "#d8576b"
             ],
             [
              0.6666666666666666,
              "#ed7953"
             ],
             [
              0.7777777777777778,
              "#fb9f3a"
             ],
             [
              0.8888888888888888,
              "#fdca26"
             ],
             [
              1,
              "#f0f921"
             ]
            ],
            "type": "surface"
           }
          ],
          "table": [
           {
            "cells": {
             "fill": {
              "color": "#EBF0F8"
             },
             "line": {
              "color": "white"
             }
            },
            "header": {
             "fill": {
              "color": "#C8D4E3"
             },
             "line": {
              "color": "white"
             }
            },
            "type": "table"
           }
          ]
         },
         "layout": {
          "annotationdefaults": {
           "arrowcolor": "#2a3f5f",
           "arrowhead": 0,
           "arrowwidth": 1
          },
          "autotypenumbers": "strict",
          "coloraxis": {
           "colorbar": {
            "outlinewidth": 0,
            "ticks": ""
           }
          },
          "colorscale": {
           "diverging": [
            [
             0,
             "#8e0152"
            ],
            [
             0.1,
             "#c51b7d"
            ],
            [
             0.2,
             "#de77ae"
            ],
            [
             0.3,
             "#f1b6da"
            ],
            [
             0.4,
             "#fde0ef"
            ],
            [
             0.5,
             "#f7f7f7"
            ],
            [
             0.6,
             "#e6f5d0"
            ],
            [
             0.7,
             "#b8e186"
            ],
            [
             0.8,
             "#7fbc41"
            ],
            [
             0.9,
             "#4d9221"
            ],
            [
             1,
             "#276419"
            ]
           ],
           "sequential": [
            [
             0,
             "#0d0887"
            ],
            [
             0.1111111111111111,
             "#46039f"
            ],
            [
             0.2222222222222222,
             "#7201a8"
            ],
            [
             0.3333333333333333,
             "#9c179e"
            ],
            [
             0.4444444444444444,
             "#bd3786"
            ],
            [
             0.5555555555555556,
             "#d8576b"
            ],
            [
             0.6666666666666666,
             "#ed7953"
            ],
            [
             0.7777777777777778,
             "#fb9f3a"
            ],
            [
             0.8888888888888888,
             "#fdca26"
            ],
            [
             1,
             "#f0f921"
            ]
           ],
           "sequentialminus": [
            [
             0,
             "#0d0887"
            ],
            [
             0.1111111111111111,
             "#46039f"
            ],
            [
             0.2222222222222222,
             "#7201a8"
            ],
            [
             0.3333333333333333,
             "#9c179e"
            ],
            [
             0.4444444444444444,
             "#bd3786"
            ],
            [
             0.5555555555555556,
             "#d8576b"
            ],
            [
             0.6666666666666666,
             "#ed7953"
            ],
            [
             0.7777777777777778,
             "#fb9f3a"
            ],
            [
             0.8888888888888888,
             "#fdca26"
            ],
            [
             1,
             "#f0f921"
            ]
           ]
          },
          "colorway": [
           "#636efa",
           "#EF553B",
           "#00cc96",
           "#ab63fa",
           "#FFA15A",
           "#19d3f3",
           "#FF6692",
           "#B6E880",
           "#FF97FF",
           "#FECB52"
          ],
          "font": {
           "color": "#2a3f5f"
          },
          "geo": {
           "bgcolor": "white",
           "lakecolor": "white",
           "landcolor": "#E5ECF6",
           "showlakes": true,
           "showland": true,
           "subunitcolor": "white"
          },
          "hoverlabel": {
           "align": "left"
          },
          "hovermode": "closest",
          "mapbox": {
           "style": "light"
          },
          "paper_bgcolor": "white",
          "plot_bgcolor": "#E5ECF6",
          "polar": {
           "angularaxis": {
            "gridcolor": "white",
            "linecolor": "white",
            "ticks": ""
           },
           "bgcolor": "#E5ECF6",
           "radialaxis": {
            "gridcolor": "white",
            "linecolor": "white",
            "ticks": ""
           }
          },
          "scene": {
           "xaxis": {
            "backgroundcolor": "#E5ECF6",
            "gridcolor": "white",
            "gridwidth": 2,
            "linecolor": "white",
            "showbackground": true,
            "ticks": "",
            "zerolinecolor": "white"
           },
           "yaxis": {
            "backgroundcolor": "#E5ECF6",
            "gridcolor": "white",
            "gridwidth": 2,
            "linecolor": "white",
            "showbackground": true,
            "ticks": "",
            "zerolinecolor": "white"
           },
           "zaxis": {
            "backgroundcolor": "#E5ECF6",
            "gridcolor": "white",
            "gridwidth": 2,
            "linecolor": "white",
            "showbackground": true,
            "ticks": "",
            "zerolinecolor": "white"
           }
          },
          "shapedefaults": {
           "line": {
            "color": "#2a3f5f"
           }
          },
          "ternary": {
           "aaxis": {
            "gridcolor": "white",
            "linecolor": "white",
            "ticks": ""
           },
           "baxis": {
            "gridcolor": "white",
            "linecolor": "white",
            "ticks": ""
           },
           "bgcolor": "#E5ECF6",
           "caxis": {
            "gridcolor": "white",
            "linecolor": "white",
            "ticks": ""
           }
          },
          "title": {
           "x": 0.05
          },
          "xaxis": {
           "automargin": true,
           "gridcolor": "white",
           "linecolor": "white",
           "ticks": "",
           "title": {
            "standoff": 15
           },
           "zerolinecolor": "white",
           "zerolinewidth": 2
          },
          "yaxis": {
           "automargin": true,
           "gridcolor": "white",
           "linecolor": "white",
           "ticks": "",
           "title": {
            "standoff": 15
           },
           "zerolinecolor": "white",
           "zerolinewidth": 2
          }
         }
        },
        "xaxis": {
         "anchor": "y",
         "domain": [
          0,
          1
         ],
         "title": {
          "text": "index"
         }
        },
        "yaxis": {
         "anchor": "x",
         "domain": [
          0,
          1
         ],
         "title": {
          "text": "value"
         }
        }
       }
      }
     },
     "metadata": {},
     "output_type": "display_data"
    }
   ],
   "source": [
    "df = pd.DataFrame(columns=[k for k in range(-duree_construction+1,duree_projet+1)])\n",
    "df.loc[\"Coef. actualisation\"] = [(1+taux_actualisation/100)**k for k in df.columns]\n",
    "df.loc[\"CAPEX\",:0] = -CAPEX/duree_construction\n",
    "df.loc[\"CAPEX\",20:21] = -CAPEX/12\n",
    "df.loc[\"OPEX\",1:] = -OPEX\n",
    "# df.loc[\"TOTEX\"] = df.loc[\"CAPEX\"] + df.loc[\"OPEX\"]\n",
    "df.loc[\"Prod. (MWh)\",1:] = prod_annuelle_MWh\n",
    "df.loc[\"Revenus\"] = Cfd_price * df.loc[\"Prod. (MWh)\"]\n",
    "df.loc[\"EBITDA\"] = df.loc[[\"OPEX\",\"Revenus\"]].sum()\n",
    "df.loc[\"Amortissements\",1:duree_amortissement] = - CAPEX/duree_amortissement\n",
    "df.loc[\"EBIT\"] = df.loc[[\"EBITDA\",\"Amortissements\"]].sum()\n",
    "df.loc[\"Dette BOP\",:duree_dette-duree_construction+1] = np.linspace(dette,0,duree_dette+1)\n",
    "df.loc[\"Tirage\",-2] = dette\n",
    "df.loc[\"Remboursement\",:duree_dette-duree_construction] = - dette/duree_dette\n",
    "df.loc[\"Dette EOP\"] = df.loc[[\"Dette BOP\", \"Remboursement\"]].sum()\n",
    "# df.loc[\"Dette EOP\",:duree_dette-duree_construction+1] = df.loc[\"Dette BOP\",:duree_dette-duree_construction]\n",
    "df.loc[\"Intérêts financiers\"] = - df.loc[\"Dette BOP\",:duree_dette-duree_construction+1] * 2 / 100\n",
    "df.loc[\"Résultat avant IS\"] = df.loc[[\"EBIT\",\"Intérêts financiers\"]].sum()\n",
    "df.loc[\"Impôts (IS)\"] = - df.loc[\"Résultat avant IS\"].apply(lambda x : 0 if x < 0 else x) * taux_imposition\n",
    "df.loc[\"Résultat net\"] = df.loc[[\"Résultat avant IS\",\"Impôts (IS)\"]].sum()\n",
    "df.loc[\"Cash Flow\"] = df.loc[[\"OPEX\",\"CAPEX\",\"Revenus\",\"Intérêts financiers\", \"Impôts (IS)\",\"Tirage\"]].sum()\n",
    "fig = df.transpose().plot(kind = \"bar\", y = [\"CAPEX\",\"OPEX\",\"Revenus\"]).update_layout(hovermode='x')\n",
    "fig.add_trace(\n",
    "    go.Scatter(\n",
    "        x = df.columns,\n",
    "        y = df.loc[\"Cash Flow\"],\n",
    "        name = \"Cash Flow\",\n",
    "        marker_color = \"black\"\n",
    "    )\n",
    ")\n",
    "fig.add_trace(\n",
    "    go.Scatter(\n",
    "        x = df.columns,\n",
    "        y = df.loc[\"Dette BOP\"],\n",
    "        name = \"Endettement\",\n",
    "        marker_color = \"orange\"\n",
    "    )\n",
    ")"
   ]
  },
  {
   "cell_type": "code",
   "execution_count": 76,
   "metadata": {},
   "outputs": [
    {
     "data": {
      "application/vnd.plotly.v1+json": {
       "config": {
        "plotlyServerURL": "https://plot.ly"
       },
       "data": [
        {
         "alignmentgroup": "True",
         "hovertemplate": "variable=Dette EOP<br>index=%{x}<br>value=%{y}<extra></extra>",
         "legendgroup": "Dette EOP",
         "marker": {
          "color": "#636efa",
          "pattern": {
           "shape": ""
          }
         },
         "name": "Dette EOP",
         "offsetgroup": "Dette EOP",
         "orientation": "v",
         "showlegend": true,
         "textposition": "auto",
         "type": "bar",
         "x": [
          -2,
          -1,
          0,
          1,
          2,
          3,
          4,
          5,
          6,
          7,
          8,
          9,
          10,
          11,
          12,
          13,
          14,
          15,
          16,
          17,
          18,
          19,
          20,
          21,
          22,
          23,
          24,
          25,
          26,
          27,
          28,
          29,
          30
         ],
         "xaxis": "x",
         "y": [
          369230.76923076925,
          338461.5384615385,
          307692.3076923077,
          276923.07692307694,
          246153.84615384616,
          215384.61538461538,
          184615.3846153846,
          153846.15384615384,
          123076.92307692308,
          92307.6923076923,
          61538.461538461546,
          30769.23076923079,
          -1.8189894035458565e-11,
          0,
          0,
          0,
          0,
          0,
          0,
          0,
          0,
          0,
          0,
          0,
          0,
          0,
          0,
          0,
          0,
          0,
          0,
          0,
          0
         ],
         "yaxis": "y"
        }
       ],
       "layout": {
        "barmode": "relative",
        "hovermode": "x",
        "legend": {
         "title": {
          "text": "variable"
         },
         "tracegroupgap": 0
        },
        "margin": {
         "t": 60
        },
        "template": {
         "data": {
          "bar": [
           {
            "error_x": {
             "color": "#2a3f5f"
            },
            "error_y": {
             "color": "#2a3f5f"
            },
            "marker": {
             "line": {
              "color": "#E5ECF6",
              "width": 0.5
             },
             "pattern": {
              "fillmode": "overlay",
              "size": 10,
              "solidity": 0.2
             }
            },
            "type": "bar"
           }
          ],
          "barpolar": [
           {
            "marker": {
             "line": {
              "color": "#E5ECF6",
              "width": 0.5
             },
             "pattern": {
              "fillmode": "overlay",
              "size": 10,
              "solidity": 0.2
             }
            },
            "type": "barpolar"
           }
          ],
          "carpet": [
           {
            "aaxis": {
             "endlinecolor": "#2a3f5f",
             "gridcolor": "white",
             "linecolor": "white",
             "minorgridcolor": "white",
             "startlinecolor": "#2a3f5f"
            },
            "baxis": {
             "endlinecolor": "#2a3f5f",
             "gridcolor": "white",
             "linecolor": "white",
             "minorgridcolor": "white",
             "startlinecolor": "#2a3f5f"
            },
            "type": "carpet"
           }
          ],
          "choropleth": [
           {
            "colorbar": {
             "outlinewidth": 0,
             "ticks": ""
            },
            "type": "choropleth"
           }
          ],
          "contour": [
           {
            "colorbar": {
             "outlinewidth": 0,
             "ticks": ""
            },
            "colorscale": [
             [
              0,
              "#0d0887"
             ],
             [
              0.1111111111111111,
              "#46039f"
             ],
             [
              0.2222222222222222,
              "#7201a8"
             ],
             [
              0.3333333333333333,
              "#9c179e"
             ],
             [
              0.4444444444444444,
              "#bd3786"
             ],
             [
              0.5555555555555556,
              "#d8576b"
             ],
             [
              0.6666666666666666,
              "#ed7953"
             ],
             [
              0.7777777777777778,
              "#fb9f3a"
             ],
             [
              0.8888888888888888,
              "#fdca26"
             ],
             [
              1,
              "#f0f921"
             ]
            ],
            "type": "contour"
           }
          ],
          "contourcarpet": [
           {
            "colorbar": {
             "outlinewidth": 0,
             "ticks": ""
            },
            "type": "contourcarpet"
           }
          ],
          "heatmap": [
           {
            "colorbar": {
             "outlinewidth": 0,
             "ticks": ""
            },
            "colorscale": [
             [
              0,
              "#0d0887"
             ],
             [
              0.1111111111111111,
              "#46039f"
             ],
             [
              0.2222222222222222,
              "#7201a8"
             ],
             [
              0.3333333333333333,
              "#9c179e"
             ],
             [
              0.4444444444444444,
              "#bd3786"
             ],
             [
              0.5555555555555556,
              "#d8576b"
             ],
             [
              0.6666666666666666,
              "#ed7953"
             ],
             [
              0.7777777777777778,
              "#fb9f3a"
             ],
             [
              0.8888888888888888,
              "#fdca26"
             ],
             [
              1,
              "#f0f921"
             ]
            ],
            "type": "heatmap"
           }
          ],
          "heatmapgl": [
           {
            "colorbar": {
             "outlinewidth": 0,
             "ticks": ""
            },
            "colorscale": [
             [
              0,
              "#0d0887"
             ],
             [
              0.1111111111111111,
              "#46039f"
             ],
             [
              0.2222222222222222,
              "#7201a8"
             ],
             [
              0.3333333333333333,
              "#9c179e"
             ],
             [
              0.4444444444444444,
              "#bd3786"
             ],
             [
              0.5555555555555556,
              "#d8576b"
             ],
             [
              0.6666666666666666,
              "#ed7953"
             ],
             [
              0.7777777777777778,
              "#fb9f3a"
             ],
             [
              0.8888888888888888,
              "#fdca26"
             ],
             [
              1,
              "#f0f921"
             ]
            ],
            "type": "heatmapgl"
           }
          ],
          "histogram": [
           {
            "marker": {
             "pattern": {
              "fillmode": "overlay",
              "size": 10,
              "solidity": 0.2
             }
            },
            "type": "histogram"
           }
          ],
          "histogram2d": [
           {
            "colorbar": {
             "outlinewidth": 0,
             "ticks": ""
            },
            "colorscale": [
             [
              0,
              "#0d0887"
             ],
             [
              0.1111111111111111,
              "#46039f"
             ],
             [
              0.2222222222222222,
              "#7201a8"
             ],
             [
              0.3333333333333333,
              "#9c179e"
             ],
             [
              0.4444444444444444,
              "#bd3786"
             ],
             [
              0.5555555555555556,
              "#d8576b"
             ],
             [
              0.6666666666666666,
              "#ed7953"
             ],
             [
              0.7777777777777778,
              "#fb9f3a"
             ],
             [
              0.8888888888888888,
              "#fdca26"
             ],
             [
              1,
              "#f0f921"
             ]
            ],
            "type": "histogram2d"
           }
          ],
          "histogram2dcontour": [
           {
            "colorbar": {
             "outlinewidth": 0,
             "ticks": ""
            },
            "colorscale": [
             [
              0,
              "#0d0887"
             ],
             [
              0.1111111111111111,
              "#46039f"
             ],
             [
              0.2222222222222222,
              "#7201a8"
             ],
             [
              0.3333333333333333,
              "#9c179e"
             ],
             [
              0.4444444444444444,
              "#bd3786"
             ],
             [
              0.5555555555555556,
              "#d8576b"
             ],
             [
              0.6666666666666666,
              "#ed7953"
             ],
             [
              0.7777777777777778,
              "#fb9f3a"
             ],
             [
              0.8888888888888888,
              "#fdca26"
             ],
             [
              1,
              "#f0f921"
             ]
            ],
            "type": "histogram2dcontour"
           }
          ],
          "mesh3d": [
           {
            "colorbar": {
             "outlinewidth": 0,
             "ticks": ""
            },
            "type": "mesh3d"
           }
          ],
          "parcoords": [
           {
            "line": {
             "colorbar": {
              "outlinewidth": 0,
              "ticks": ""
             }
            },
            "type": "parcoords"
           }
          ],
          "pie": [
           {
            "automargin": true,
            "type": "pie"
           }
          ],
          "scatter": [
           {
            "fillpattern": {
             "fillmode": "overlay",
             "size": 10,
             "solidity": 0.2
            },
            "type": "scatter"
           }
          ],
          "scatter3d": [
           {
            "line": {
             "colorbar": {
              "outlinewidth": 0,
              "ticks": ""
             }
            },
            "marker": {
             "colorbar": {
              "outlinewidth": 0,
              "ticks": ""
             }
            },
            "type": "scatter3d"
           }
          ],
          "scattercarpet": [
           {
            "marker": {
             "colorbar": {
              "outlinewidth": 0,
              "ticks": ""
             }
            },
            "type": "scattercarpet"
           }
          ],
          "scattergeo": [
           {
            "marker": {
             "colorbar": {
              "outlinewidth": 0,
              "ticks": ""
             }
            },
            "type": "scattergeo"
           }
          ],
          "scattergl": [
           {
            "marker": {
             "colorbar": {
              "outlinewidth": 0,
              "ticks": ""
             }
            },
            "type": "scattergl"
           }
          ],
          "scattermapbox": [
           {
            "marker": {
             "colorbar": {
              "outlinewidth": 0,
              "ticks": ""
             }
            },
            "type": "scattermapbox"
           }
          ],
          "scatterpolar": [
           {
            "marker": {
             "colorbar": {
              "outlinewidth": 0,
              "ticks": ""
             }
            },
            "type": "scatterpolar"
           }
          ],
          "scatterpolargl": [
           {
            "marker": {
             "colorbar": {
              "outlinewidth": 0,
              "ticks": ""
             }
            },
            "type": "scatterpolargl"
           }
          ],
          "scatterternary": [
           {
            "marker": {
             "colorbar": {
              "outlinewidth": 0,
              "ticks": ""
             }
            },
            "type": "scatterternary"
           }
          ],
          "surface": [
           {
            "colorbar": {
             "outlinewidth": 0,
             "ticks": ""
            },
            "colorscale": [
             [
              0,
              "#0d0887"
             ],
             [
              0.1111111111111111,
              "#46039f"
             ],
             [
              0.2222222222222222,
              "#7201a8"
             ],
             [
              0.3333333333333333,
              "#9c179e"
             ],
             [
              0.4444444444444444,
              "#bd3786"
             ],
             [
              0.5555555555555556,
              "#d8576b"
             ],
             [
              0.6666666666666666,
              "#ed7953"
             ],
             [
              0.7777777777777778,
              "#fb9f3a"
             ],
             [
              0.8888888888888888,
              "#fdca26"
             ],
             [
              1,
              "#f0f921"
             ]
            ],
            "type": "surface"
           }
          ],
          "table": [
           {
            "cells": {
             "fill": {
              "color": "#EBF0F8"
             },
             "line": {
              "color": "white"
             }
            },
            "header": {
             "fill": {
              "color": "#C8D4E3"
             },
             "line": {
              "color": "white"
             }
            },
            "type": "table"
           }
          ]
         },
         "layout": {
          "annotationdefaults": {
           "arrowcolor": "#2a3f5f",
           "arrowhead": 0,
           "arrowwidth": 1
          },
          "autotypenumbers": "strict",
          "coloraxis": {
           "colorbar": {
            "outlinewidth": 0,
            "ticks": ""
           }
          },
          "colorscale": {
           "diverging": [
            [
             0,
             "#8e0152"
            ],
            [
             0.1,
             "#c51b7d"
            ],
            [
             0.2,
             "#de77ae"
            ],
            [
             0.3,
             "#f1b6da"
            ],
            [
             0.4,
             "#fde0ef"
            ],
            [
             0.5,
             "#f7f7f7"
            ],
            [
             0.6,
             "#e6f5d0"
            ],
            [
             0.7,
             "#b8e186"
            ],
            [
             0.8,
             "#7fbc41"
            ],
            [
             0.9,
             "#4d9221"
            ],
            [
             1,
             "#276419"
            ]
           ],
           "sequential": [
            [
             0,
             "#0d0887"
            ],
            [
             0.1111111111111111,
             "#46039f"
            ],
            [
             0.2222222222222222,
             "#7201a8"
            ],
            [
             0.3333333333333333,
             "#9c179e"
            ],
            [
             0.4444444444444444,
             "#bd3786"
            ],
            [
             0.5555555555555556,
             "#d8576b"
            ],
            [
             0.6666666666666666,
             "#ed7953"
            ],
            [
             0.7777777777777778,
             "#fb9f3a"
            ],
            [
             0.8888888888888888,
             "#fdca26"
            ],
            [
             1,
             "#f0f921"
            ]
           ],
           "sequentialminus": [
            [
             0,
             "#0d0887"
            ],
            [
             0.1111111111111111,
             "#46039f"
            ],
            [
             0.2222222222222222,
             "#7201a8"
            ],
            [
             0.3333333333333333,
             "#9c179e"
            ],
            [
             0.4444444444444444,
             "#bd3786"
            ],
            [
             0.5555555555555556,
             "#d8576b"
            ],
            [
             0.6666666666666666,
             "#ed7953"
            ],
            [
             0.7777777777777778,
             "#fb9f3a"
            ],
            [
             0.8888888888888888,
             "#fdca26"
            ],
            [
             1,
             "#f0f921"
            ]
           ]
          },
          "colorway": [
           "#636efa",
           "#EF553B",
           "#00cc96",
           "#ab63fa",
           "#FFA15A",
           "#19d3f3",
           "#FF6692",
           "#B6E880",
           "#FF97FF",
           "#FECB52"
          ],
          "font": {
           "color": "#2a3f5f"
          },
          "geo": {
           "bgcolor": "white",
           "lakecolor": "white",
           "landcolor": "#E5ECF6",
           "showlakes": true,
           "showland": true,
           "subunitcolor": "white"
          },
          "hoverlabel": {
           "align": "left"
          },
          "hovermode": "closest",
          "mapbox": {
           "style": "light"
          },
          "paper_bgcolor": "white",
          "plot_bgcolor": "#E5ECF6",
          "polar": {
           "angularaxis": {
            "gridcolor": "white",
            "linecolor": "white",
            "ticks": ""
           },
           "bgcolor": "#E5ECF6",
           "radialaxis": {
            "gridcolor": "white",
            "linecolor": "white",
            "ticks": ""
           }
          },
          "scene": {
           "xaxis": {
            "backgroundcolor": "#E5ECF6",
            "gridcolor": "white",
            "gridwidth": 2,
            "linecolor": "white",
            "showbackground": true,
            "ticks": "",
            "zerolinecolor": "white"
           },
           "yaxis": {
            "backgroundcolor": "#E5ECF6",
            "gridcolor": "white",
            "gridwidth": 2,
            "linecolor": "white",
            "showbackground": true,
            "ticks": "",
            "zerolinecolor": "white"
           },
           "zaxis": {
            "backgroundcolor": "#E5ECF6",
            "gridcolor": "white",
            "gridwidth": 2,
            "linecolor": "white",
            "showbackground": true,
            "ticks": "",
            "zerolinecolor": "white"
           }
          },
          "shapedefaults": {
           "line": {
            "color": "#2a3f5f"
           }
          },
          "ternary": {
           "aaxis": {
            "gridcolor": "white",
            "linecolor": "white",
            "ticks": ""
           },
           "baxis": {
            "gridcolor": "white",
            "linecolor": "white",
            "ticks": ""
           },
           "bgcolor": "#E5ECF6",
           "caxis": {
            "gridcolor": "white",
            "linecolor": "white",
            "ticks": ""
           }
          },
          "title": {
           "x": 0.05
          },
          "xaxis": {
           "automargin": true,
           "gridcolor": "white",
           "linecolor": "white",
           "ticks": "",
           "title": {
            "standoff": 15
           },
           "zerolinecolor": "white",
           "zerolinewidth": 2
          },
          "yaxis": {
           "automargin": true,
           "gridcolor": "white",
           "linecolor": "white",
           "ticks": "",
           "title": {
            "standoff": 15
           },
           "zerolinecolor": "white",
           "zerolinewidth": 2
          }
         }
        },
        "xaxis": {
         "anchor": "y",
         "domain": [
          0,
          1
         ],
         "title": {
          "text": "index"
         }
        },
        "yaxis": {
         "anchor": "x",
         "domain": [
          0,
          1
         ],
         "title": {
          "text": "value"
         }
        }
       }
      }
     },
     "metadata": {},
     "output_type": "display_data"
    }
   ],
   "source": [
    "df.transpose().plot(kind = \"bar\", y = [\"Dette EOP\"]).update_layout(hovermode='x')"
   ]
  },
  {
   "cell_type": "code",
   "execution_count": 36,
   "metadata": {},
   "outputs": [
    {
     "data": {
      "text/html": [
       "<div>\n",
       "<style scoped>\n",
       "    .dataframe tbody tr th:only-of-type {\n",
       "        vertical-align: middle;\n",
       "    }\n",
       "\n",
       "    .dataframe tbody tr th {\n",
       "        vertical-align: top;\n",
       "    }\n",
       "\n",
       "    .dataframe thead th {\n",
       "        text-align: right;\n",
       "    }\n",
       "</style>\n",
       "<table border=\"1\" class=\"dataframe\">\n",
       "  <thead>\n",
       "    <tr style=\"text-align: right;\">\n",
       "      <th></th>\n",
       "      <th>-2</th>\n",
       "      <th>-1</th>\n",
       "      <th>0</th>\n",
       "      <th>1</th>\n",
       "      <th>2</th>\n",
       "      <th>3</th>\n",
       "      <th>4</th>\n",
       "      <th>5</th>\n",
       "      <th>6</th>\n",
       "      <th>7</th>\n",
       "      <th>...</th>\n",
       "      <th>21</th>\n",
       "      <th>22</th>\n",
       "      <th>23</th>\n",
       "      <th>24</th>\n",
       "      <th>25</th>\n",
       "      <th>26</th>\n",
       "      <th>27</th>\n",
       "      <th>28</th>\n",
       "      <th>29</th>\n",
       "      <th>30</th>\n",
       "    </tr>\n",
       "  </thead>\n",
       "  <tbody>\n",
       "    <tr>\n",
       "      <th>Coef. actualisation</th>\n",
       "      <td>1.0</td>\n",
       "      <td>1.0</td>\n",
       "      <td>1.0</td>\n",
       "      <td>1.000000</td>\n",
       "      <td>1.000000</td>\n",
       "      <td>1.000000</td>\n",
       "      <td>1.000000</td>\n",
       "      <td>1.000000</td>\n",
       "      <td>1.000000</td>\n",
       "      <td>1.000000</td>\n",
       "      <td>...</td>\n",
       "      <td>1.000000</td>\n",
       "      <td>1.000000</td>\n",
       "      <td>1.000000</td>\n",
       "      <td>1.000000</td>\n",
       "      <td>1.000000</td>\n",
       "      <td>1.000000</td>\n",
       "      <td>1.000000</td>\n",
       "      <td>1.000000</td>\n",
       "      <td>1.000000</td>\n",
       "      <td>1.000000</td>\n",
       "    </tr>\n",
       "    <tr>\n",
       "      <th>CAPEX</th>\n",
       "      <td>-441000.0</td>\n",
       "      <td>-420000.0</td>\n",
       "      <td>-400000.0</td>\n",
       "      <td>NaN</td>\n",
       "      <td>NaN</td>\n",
       "      <td>NaN</td>\n",
       "      <td>NaN</td>\n",
       "      <td>NaN</td>\n",
       "      <td>NaN</td>\n",
       "      <td>NaN</td>\n",
       "      <td>...</td>\n",
       "      <td>-35894.236464</td>\n",
       "      <td>NaN</td>\n",
       "      <td>NaN</td>\n",
       "      <td>NaN</td>\n",
       "      <td>NaN</td>\n",
       "      <td>NaN</td>\n",
       "      <td>NaN</td>\n",
       "      <td>NaN</td>\n",
       "      <td>NaN</td>\n",
       "      <td>NaN</td>\n",
       "    </tr>\n",
       "    <tr>\n",
       "      <th>OPEX</th>\n",
       "      <td>NaN</td>\n",
       "      <td>NaN</td>\n",
       "      <td>NaN</td>\n",
       "      <td>-34285.714286</td>\n",
       "      <td>-32653.061224</td>\n",
       "      <td>-31098.153547</td>\n",
       "      <td>-29617.289093</td>\n",
       "      <td>-28206.941993</td>\n",
       "      <td>-26863.754279</td>\n",
       "      <td>-25584.527885</td>\n",
       "      <td>...</td>\n",
       "      <td>-12921.925127</td>\n",
       "      <td>-12306.595359</td>\n",
       "      <td>-11720.567009</td>\n",
       "      <td>-11162.444770</td>\n",
       "      <td>-10630.899781</td>\n",
       "      <td>-10124.666458</td>\n",
       "      <td>-9642.539484</td>\n",
       "      <td>-9183.370937</td>\n",
       "      <td>-8746.067559</td>\n",
       "      <td>-8329.588152</td>\n",
       "    </tr>\n",
       "    <tr>\n",
       "      <th>Prod. (MWh)</th>\n",
       "      <td>NaN</td>\n",
       "      <td>NaN</td>\n",
       "      <td>NaN</td>\n",
       "      <td>2095.238095</td>\n",
       "      <td>1995.464853</td>\n",
       "      <td>1900.442717</td>\n",
       "      <td>1809.945445</td>\n",
       "      <td>1723.757566</td>\n",
       "      <td>1641.673873</td>\n",
       "      <td>1563.498926</td>\n",
       "      <td>...</td>\n",
       "      <td>789.673202</td>\n",
       "      <td>752.069716</td>\n",
       "      <td>716.256873</td>\n",
       "      <td>682.149403</td>\n",
       "      <td>649.666098</td>\n",
       "      <td>618.729617</td>\n",
       "      <td>589.266302</td>\n",
       "      <td>561.206002</td>\n",
       "      <td>534.481906</td>\n",
       "      <td>509.030387</td>\n",
       "    </tr>\n",
       "    <tr>\n",
       "      <th>Revenus</th>\n",
       "      <td>NaN</td>\n",
       "      <td>NaN</td>\n",
       "      <td>NaN</td>\n",
       "      <td>157142.857143</td>\n",
       "      <td>149659.863946</td>\n",
       "      <td>142533.203758</td>\n",
       "      <td>135745.908341</td>\n",
       "      <td>129281.817467</td>\n",
       "      <td>123125.540445</td>\n",
       "      <td>117262.419471</td>\n",
       "      <td>...</td>\n",
       "      <td>59225.490166</td>\n",
       "      <td>56405.228729</td>\n",
       "      <td>53719.265456</td>\n",
       "      <td>51161.205197</td>\n",
       "      <td>48724.957330</td>\n",
       "      <td>46404.721267</td>\n",
       "      <td>44194.972635</td>\n",
       "      <td>42090.450129</td>\n",
       "      <td>40086.142980</td>\n",
       "      <td>38177.279028</td>\n",
       "    </tr>\n",
       "    <tr>\n",
       "      <th>EBITDA</th>\n",
       "      <td>0.0</td>\n",
       "      <td>0.0</td>\n",
       "      <td>0.0</td>\n",
       "      <td>122857.142857</td>\n",
       "      <td>117006.802721</td>\n",
       "      <td>111435.050211</td>\n",
       "      <td>106128.619248</td>\n",
       "      <td>101074.875474</td>\n",
       "      <td>96261.786166</td>\n",
       "      <td>91677.891587</td>\n",
       "      <td>...</td>\n",
       "      <td>46303.565039</td>\n",
       "      <td>44098.633370</td>\n",
       "      <td>41998.698448</td>\n",
       "      <td>39998.760426</td>\n",
       "      <td>38094.057549</td>\n",
       "      <td>36280.054809</td>\n",
       "      <td>34552.433151</td>\n",
       "      <td>32907.079191</td>\n",
       "      <td>31340.075420</td>\n",
       "      <td>29847.690877</td>\n",
       "    </tr>\n",
       "    <tr>\n",
       "      <th>Amortissements</th>\n",
       "      <td>NaN</td>\n",
       "      <td>NaN</td>\n",
       "      <td>NaN</td>\n",
       "      <td>-114285.714286</td>\n",
       "      <td>-108843.537415</td>\n",
       "      <td>-103660.511824</td>\n",
       "      <td>-98724.296975</td>\n",
       "      <td>-94023.139976</td>\n",
       "      <td>-89545.847596</td>\n",
       "      <td>-85281.759616</td>\n",
       "      <td>...</td>\n",
       "      <td>NaN</td>\n",
       "      <td>NaN</td>\n",
       "      <td>NaN</td>\n",
       "      <td>NaN</td>\n",
       "      <td>NaN</td>\n",
       "      <td>NaN</td>\n",
       "      <td>NaN</td>\n",
       "      <td>NaN</td>\n",
       "      <td>NaN</td>\n",
       "      <td>NaN</td>\n",
       "    </tr>\n",
       "    <tr>\n",
       "      <th>EBIT</th>\n",
       "      <td>0.0</td>\n",
       "      <td>0.0</td>\n",
       "      <td>0.0</td>\n",
       "      <td>8571.428571</td>\n",
       "      <td>8163.265306</td>\n",
       "      <td>7774.538387</td>\n",
       "      <td>7404.322273</td>\n",
       "      <td>7051.735498</td>\n",
       "      <td>6715.938570</td>\n",
       "      <td>6396.131971</td>\n",
       "      <td>...</td>\n",
       "      <td>46303.565039</td>\n",
       "      <td>44098.633370</td>\n",
       "      <td>41998.698448</td>\n",
       "      <td>39998.760426</td>\n",
       "      <td>38094.057549</td>\n",
       "      <td>36280.054809</td>\n",
       "      <td>34552.433151</td>\n",
       "      <td>32907.079191</td>\n",
       "      <td>31340.075420</td>\n",
       "      <td>29847.690877</td>\n",
       "    </tr>\n",
       "    <tr>\n",
       "      <th>Intérêts financiers</th>\n",
       "      <td>0.0</td>\n",
       "      <td>0.0</td>\n",
       "      <td>0.0</td>\n",
       "      <td>0.000000</td>\n",
       "      <td>0.000000</td>\n",
       "      <td>0.000000</td>\n",
       "      <td>0.000000</td>\n",
       "      <td>0.000000</td>\n",
       "      <td>0.000000</td>\n",
       "      <td>0.000000</td>\n",
       "      <td>...</td>\n",
       "      <td>0.000000</td>\n",
       "      <td>0.000000</td>\n",
       "      <td>0.000000</td>\n",
       "      <td>0.000000</td>\n",
       "      <td>0.000000</td>\n",
       "      <td>0.000000</td>\n",
       "      <td>0.000000</td>\n",
       "      <td>0.000000</td>\n",
       "      <td>0.000000</td>\n",
       "      <td>0.000000</td>\n",
       "    </tr>\n",
       "    <tr>\n",
       "      <th>Résultat avant IS</th>\n",
       "      <td>0.0</td>\n",
       "      <td>0.0</td>\n",
       "      <td>0.0</td>\n",
       "      <td>8571.428571</td>\n",
       "      <td>8163.265306</td>\n",
       "      <td>7774.538387</td>\n",
       "      <td>7404.322273</td>\n",
       "      <td>7051.735498</td>\n",
       "      <td>6715.938570</td>\n",
       "      <td>6396.131971</td>\n",
       "      <td>...</td>\n",
       "      <td>46303.565039</td>\n",
       "      <td>44098.633370</td>\n",
       "      <td>41998.698448</td>\n",
       "      <td>39998.760426</td>\n",
       "      <td>38094.057549</td>\n",
       "      <td>36280.054809</td>\n",
       "      <td>34552.433151</td>\n",
       "      <td>32907.079191</td>\n",
       "      <td>31340.075420</td>\n",
       "      <td>29847.690877</td>\n",
       "    </tr>\n",
       "    <tr>\n",
       "      <th>Impôts (IS)</th>\n",
       "      <td>-0.0</td>\n",
       "      <td>-0.0</td>\n",
       "      <td>-0.0</td>\n",
       "      <td>-2571.428571</td>\n",
       "      <td>-2448.979592</td>\n",
       "      <td>-2332.361516</td>\n",
       "      <td>-2221.296682</td>\n",
       "      <td>-2115.520649</td>\n",
       "      <td>-2014.781571</td>\n",
       "      <td>-1918.839591</td>\n",
       "      <td>...</td>\n",
       "      <td>-13891.069512</td>\n",
       "      <td>-13229.590011</td>\n",
       "      <td>-12599.609534</td>\n",
       "      <td>-11999.628128</td>\n",
       "      <td>-11428.217265</td>\n",
       "      <td>-10884.016443</td>\n",
       "      <td>-10365.729945</td>\n",
       "      <td>-9872.123757</td>\n",
       "      <td>-9402.022626</td>\n",
       "      <td>-8954.307263</td>\n",
       "    </tr>\n",
       "    <tr>\n",
       "      <th>Résultat net</th>\n",
       "      <td>0.0</td>\n",
       "      <td>0.0</td>\n",
       "      <td>0.0</td>\n",
       "      <td>6000.000000</td>\n",
       "      <td>5714.285714</td>\n",
       "      <td>5442.176871</td>\n",
       "      <td>5183.025591</td>\n",
       "      <td>4936.214849</td>\n",
       "      <td>4701.156999</td>\n",
       "      <td>4477.292380</td>\n",
       "      <td>...</td>\n",
       "      <td>32412.495527</td>\n",
       "      <td>30869.043359</td>\n",
       "      <td>29399.088913</td>\n",
       "      <td>27999.132299</td>\n",
       "      <td>26665.840284</td>\n",
       "      <td>25396.038366</td>\n",
       "      <td>24186.703206</td>\n",
       "      <td>23034.955434</td>\n",
       "      <td>21938.052794</td>\n",
       "      <td>20893.383614</td>\n",
       "    </tr>\n",
       "    <tr>\n",
       "      <th>Cash Flow</th>\n",
       "      <td>-441000.0</td>\n",
       "      <td>-420000.0</td>\n",
       "      <td>-400000.0</td>\n",
       "      <td>120285.714286</td>\n",
       "      <td>114557.823129</td>\n",
       "      <td>109102.688695</td>\n",
       "      <td>103907.322566</td>\n",
       "      <td>98959.354825</td>\n",
       "      <td>94247.004595</td>\n",
       "      <td>89759.051995</td>\n",
       "      <td>...</td>\n",
       "      <td>-3481.740937</td>\n",
       "      <td>30869.043359</td>\n",
       "      <td>29399.088913</td>\n",
       "      <td>27999.132299</td>\n",
       "      <td>26665.840284</td>\n",
       "      <td>25396.038366</td>\n",
       "      <td>24186.703206</td>\n",
       "      <td>23034.955434</td>\n",
       "      <td>21938.052794</td>\n",
       "      <td>20893.383614</td>\n",
       "    </tr>\n",
       "  </tbody>\n",
       "</table>\n",
       "<p>13 rows × 33 columns</p>\n",
       "</div>"
      ],
      "text/plain": [
       "                          -2        -1         0              1   \\\n",
       "Coef. actualisation       1.0       1.0       1.0       1.000000   \n",
       "CAPEX               -441000.0 -420000.0 -400000.0            NaN   \n",
       "OPEX                      NaN       NaN       NaN  -34285.714286   \n",
       "Prod. (MWh)               NaN       NaN       NaN    2095.238095   \n",
       "Revenus                   NaN       NaN       NaN  157142.857143   \n",
       "EBITDA                    0.0       0.0       0.0  122857.142857   \n",
       "Amortissements            NaN       NaN       NaN -114285.714286   \n",
       "EBIT                      0.0       0.0       0.0    8571.428571   \n",
       "Intérêts financiers       0.0       0.0       0.0       0.000000   \n",
       "Résultat avant IS         0.0       0.0       0.0    8571.428571   \n",
       "Impôts (IS)              -0.0      -0.0      -0.0   -2571.428571   \n",
       "Résultat net              0.0       0.0       0.0    6000.000000   \n",
       "Cash Flow           -441000.0 -420000.0 -400000.0  120285.714286   \n",
       "\n",
       "                                2              3              4   \\\n",
       "Coef. actualisation       1.000000       1.000000       1.000000   \n",
       "CAPEX                          NaN            NaN            NaN   \n",
       "OPEX                 -32653.061224  -31098.153547  -29617.289093   \n",
       "Prod. (MWh)            1995.464853    1900.442717    1809.945445   \n",
       "Revenus              149659.863946  142533.203758  135745.908341   \n",
       "EBITDA               117006.802721  111435.050211  106128.619248   \n",
       "Amortissements      -108843.537415 -103660.511824  -98724.296975   \n",
       "EBIT                   8163.265306    7774.538387    7404.322273   \n",
       "Intérêts financiers       0.000000       0.000000       0.000000   \n",
       "Résultat avant IS      8163.265306    7774.538387    7404.322273   \n",
       "Impôts (IS)           -2448.979592   -2332.361516   -2221.296682   \n",
       "Résultat net           5714.285714    5442.176871    5183.025591   \n",
       "Cash Flow            114557.823129  109102.688695  103907.322566   \n",
       "\n",
       "                                5              6              7   ...  \\\n",
       "Coef. actualisation       1.000000       1.000000       1.000000  ...   \n",
       "CAPEX                          NaN            NaN            NaN  ...   \n",
       "OPEX                 -28206.941993  -26863.754279  -25584.527885  ...   \n",
       "Prod. (MWh)            1723.757566    1641.673873    1563.498926  ...   \n",
       "Revenus              129281.817467  123125.540445  117262.419471  ...   \n",
       "EBITDA               101074.875474   96261.786166   91677.891587  ...   \n",
       "Amortissements       -94023.139976  -89545.847596  -85281.759616  ...   \n",
       "EBIT                   7051.735498    6715.938570    6396.131971  ...   \n",
       "Intérêts financiers       0.000000       0.000000       0.000000  ...   \n",
       "Résultat avant IS      7051.735498    6715.938570    6396.131971  ...   \n",
       "Impôts (IS)           -2115.520649   -2014.781571   -1918.839591  ...   \n",
       "Résultat net           4936.214849    4701.156999    4477.292380  ...   \n",
       "Cash Flow             98959.354825   94247.004595   89759.051995  ...   \n",
       "\n",
       "                               21            22            23            24  \\\n",
       "Coef. actualisation      1.000000      1.000000      1.000000      1.000000   \n",
       "CAPEX               -35894.236464           NaN           NaN           NaN   \n",
       "OPEX                -12921.925127 -12306.595359 -11720.567009 -11162.444770   \n",
       "Prod. (MWh)            789.673202    752.069716    716.256873    682.149403   \n",
       "Revenus              59225.490166  56405.228729  53719.265456  51161.205197   \n",
       "EBITDA               46303.565039  44098.633370  41998.698448  39998.760426   \n",
       "Amortissements                NaN           NaN           NaN           NaN   \n",
       "EBIT                 46303.565039  44098.633370  41998.698448  39998.760426   \n",
       "Intérêts financiers      0.000000      0.000000      0.000000      0.000000   \n",
       "Résultat avant IS    46303.565039  44098.633370  41998.698448  39998.760426   \n",
       "Impôts (IS)         -13891.069512 -13229.590011 -12599.609534 -11999.628128   \n",
       "Résultat net         32412.495527  30869.043359  29399.088913  27999.132299   \n",
       "Cash Flow            -3481.740937  30869.043359  29399.088913  27999.132299   \n",
       "\n",
       "                               25            26            27            28  \\\n",
       "Coef. actualisation      1.000000      1.000000      1.000000      1.000000   \n",
       "CAPEX                         NaN           NaN           NaN           NaN   \n",
       "OPEX                -10630.899781 -10124.666458  -9642.539484  -9183.370937   \n",
       "Prod. (MWh)            649.666098    618.729617    589.266302    561.206002   \n",
       "Revenus              48724.957330  46404.721267  44194.972635  42090.450129   \n",
       "EBITDA               38094.057549  36280.054809  34552.433151  32907.079191   \n",
       "Amortissements                NaN           NaN           NaN           NaN   \n",
       "EBIT                 38094.057549  36280.054809  34552.433151  32907.079191   \n",
       "Intérêts financiers      0.000000      0.000000      0.000000      0.000000   \n",
       "Résultat avant IS    38094.057549  36280.054809  34552.433151  32907.079191   \n",
       "Impôts (IS)         -11428.217265 -10884.016443 -10365.729945  -9872.123757   \n",
       "Résultat net         26665.840284  25396.038366  24186.703206  23034.955434   \n",
       "Cash Flow            26665.840284  25396.038366  24186.703206  23034.955434   \n",
       "\n",
       "                               29            30  \n",
       "Coef. actualisation      1.000000      1.000000  \n",
       "CAPEX                         NaN           NaN  \n",
       "OPEX                 -8746.067559  -8329.588152  \n",
       "Prod. (MWh)            534.481906    509.030387  \n",
       "Revenus              40086.142980  38177.279028  \n",
       "EBITDA               31340.075420  29847.690877  \n",
       "Amortissements                NaN           NaN  \n",
       "EBIT                 31340.075420  29847.690877  \n",
       "Intérêts financiers      0.000000      0.000000  \n",
       "Résultat avant IS    31340.075420  29847.690877  \n",
       "Impôts (IS)          -9402.022626  -8954.307263  \n",
       "Résultat net         21938.052794  20893.383614  \n",
       "Cash Flow            21938.052794  20893.383614  \n",
       "\n",
       "[13 rows x 33 columns]"
      ]
     },
     "execution_count": 36,
     "metadata": {},
     "output_type": "execute_result"
    }
   ],
   "source": [
    "dd = df / df.loc[\"Coef. actualisation\"]\n",
    "dd"
   ]
  },
  {
   "cell_type": "code",
   "execution_count": 37,
   "metadata": {},
   "outputs": [
    {
     "data": {
      "application/vnd.plotly.v1+json": {
       "config": {
        "plotlyServerURL": "https://plot.ly"
       },
       "data": [
        {
         "alignmentgroup": "True",
         "hovertemplate": "variable=CAPEX<br>index=%{x}<br>value=%{y}<extra></extra>",
         "legendgroup": "CAPEX",
         "marker": {
          "color": "#636efa",
          "pattern": {
           "shape": ""
          }
         },
         "name": "CAPEX",
         "offsetgroup": "CAPEX",
         "orientation": "v",
         "showlegend": true,
         "textposition": "auto",
         "type": "bar",
         "x": [
          -2,
          -1,
          0,
          1,
          2,
          3,
          4,
          5,
          6,
          7,
          8,
          9,
          10,
          11,
          12,
          13,
          14,
          15,
          16,
          17,
          18,
          19,
          20,
          21,
          22,
          23,
          24,
          25,
          26,
          27,
          28,
          29,
          30
         ],
         "xaxis": "x",
         "y": [
          -441000.00000000006,
          -420000,
          -400000,
          null,
          null,
          null,
          null,
          null,
          null,
          null,
          null,
          null,
          null,
          null,
          null,
          null,
          null,
          null,
          null,
          null,
          null,
          null,
          -37688.94828730004,
          -35894.23646409527,
          null,
          null,
          null,
          null,
          null,
          null,
          null,
          null,
          null
         ],
         "yaxis": "y"
        },
        {
         "alignmentgroup": "True",
         "hovertemplate": "variable=OPEX<br>index=%{x}<br>value=%{y}<extra></extra>",
         "legendgroup": "OPEX",
         "marker": {
          "color": "#EF553B",
          "pattern": {
           "shape": ""
          }
         },
         "name": "OPEX",
         "offsetgroup": "OPEX",
         "orientation": "v",
         "showlegend": true,
         "textposition": "auto",
         "type": "bar",
         "x": [
          -2,
          -1,
          0,
          1,
          2,
          3,
          4,
          5,
          6,
          7,
          8,
          9,
          10,
          11,
          12,
          13,
          14,
          15,
          16,
          17,
          18,
          19,
          20,
          21,
          22,
          23,
          24,
          25,
          26,
          27,
          28,
          29,
          30
         ],
         "xaxis": "x",
         "y": [
          null,
          null,
          null,
          -34285.71428571428,
          -32653.061224489797,
          -31098.153547133137,
          -29617.289092507744,
          -28206.94199286452,
          -26863.754278918586,
          -25584.52788468437,
          -24366.21703303273,
          -23205.920983840697,
          -22100.87712746733,
          -21048.45440711174,
          -20046.14705439213,
          -19091.5686232306,
          -18182.446307838665,
          -17316.615531274918,
          -16492.014791690402,
          -15706.680753990857,
          -14958.743575229388,
          -14246.422452599414,
          -13568.021383428015,
          -12921.925127074299,
          -12306.595359118379,
          -11720.56700868417,
          -11162.4447701754,
          -10630.899781119428,
          -10124.666458208978,
          -9642.53948400855,
          -9183.370937151,
          -8746.067559191428,
          -8329.588151610882
         ],
         "yaxis": "y"
        },
        {
         "alignmentgroup": "True",
         "hovertemplate": "variable=Revenus<br>index=%{x}<br>value=%{y}<extra></extra>",
         "legendgroup": "Revenus",
         "marker": {
          "color": "#00cc96",
          "pattern": {
           "shape": ""
          }
         },
         "name": "Revenus",
         "offsetgroup": "Revenus",
         "orientation": "v",
         "showlegend": true,
         "textposition": "auto",
         "type": "bar",
         "x": [
          -2,
          -1,
          0,
          1,
          2,
          3,
          4,
          5,
          6,
          7,
          8,
          9,
          10,
          11,
          12,
          13,
          14,
          15,
          16,
          17,
          18,
          19,
          20,
          21,
          22,
          23,
          24,
          25,
          26,
          27,
          28,
          29,
          30
         ],
         "xaxis": "x",
         "y": [
          null,
          null,
          null,
          157142.85714285713,
          149659.86394557822,
          142533.20375769353,
          135745.9083406605,
          129281.81746729571,
          123125.54044504353,
          117262.41947147003,
          111678.49473473335,
          106360.47117593652,
          101295.68683422526,
          96472.08269926214,
          91878.17399929727,
          87503.02285647359,
          83336.21224426056,
          79367.82118501005,
          75588.40112858101,
          71988.95345579143,
          68560.9080531347,
          65296.102907747314,
          62186.764674045065,
          59225.4901657572,
          56405.22872929257,
          53719.26545646911,
          51161.20519663725,
          48724.95733013071,
          46404.72126679115,
          44194.97263503919,
          42090.45012860875,
          40086.14297962737,
          38177.279028216544
         ],
         "yaxis": "y"
        },
        {
         "alignmentgroup": "True",
         "hovertemplate": "variable=Impôts (IS)<br>index=%{x}<br>value=%{y}<extra></extra>",
         "legendgroup": "Impôts (IS)",
         "marker": {
          "color": "#ab63fa",
          "pattern": {
           "shape": ""
          }
         },
         "name": "Impôts (IS)",
         "offsetgroup": "Impôts (IS)",
         "orientation": "v",
         "showlegend": true,
         "textposition": "auto",
         "type": "bar",
         "x": [
          -2,
          -1,
          0,
          1,
          2,
          3,
          4,
          5,
          6,
          7,
          8,
          9,
          10,
          11,
          12,
          13,
          14,
          15,
          16,
          17,
          18,
          19,
          20,
          21,
          22,
          23,
          24,
          25,
          26,
          27,
          28,
          29,
          30
         ],
         "xaxis": "x",
         "y": [
          0,
          0,
          0,
          -2571.428571428571,
          -2448.9795918367345,
          -2332.361516034985,
          -2221.296681938081,
          -2115.5206494648387,
          -2014.781570918894,
          -1918.8395913513277,
          -1827.466277477455,
          -1740.4440737880523,
          -1657.5657845600497,
          -22627.08848764512,
          -21549.608083471543,
          -20523.436269972895,
          -19546.129780926567,
          -18615.361696120537,
          -17728.915901067183,
          -16884.68181054017,
          -16080.649343371591,
          -15314.90413654437,
          -14585.622987185116,
          -13891.06951160487,
          -13229.590011052256,
          -12599.609534335483,
          -11999.628127938555,
          -11428.217264703384,
          -10884.016442574652,
          -10365.729945309191,
          -9872.123757437324,
          -9402.022626130783,
          -8954.3072629817
         ],
         "yaxis": "y"
        },
        {
         "marker": {
          "color": "black"
         },
         "name": "Cash Flow",
         "type": "scatter",
         "x": [
          -2,
          -1,
          0,
          1,
          2,
          3,
          4,
          5,
          6,
          7,
          8,
          9,
          10,
          11,
          12,
          13,
          14,
          15,
          16,
          17,
          18,
          19,
          20,
          21,
          22,
          23,
          24,
          25,
          26,
          27,
          28,
          29,
          30
         ],
         "y": [
          -441000.00000000006,
          -420000,
          -400000,
          120285.71428571428,
          114557.8231292517,
          109102.68869452542,
          103907.32256621467,
          98959.35482496634,
          94247.00459520605,
          89759.05199543432,
          85484.81142422317,
          81414.10611830777,
          77537.24392219789,
          52796.539804505286,
          50282.4188614336,
          47888.01796327009,
          45607.636155495326,
          43435.84395761459,
          41367.47043582342,
          39397.5908912604,
          37521.515134533714,
          35734.77631860353,
          -3655.827983868104,
          -3481.7409370172413,
          30869.043359121933,
          29399.08891344946,
          27999.132298523295,
          26665.8402843079,
          25396.03836600752,
          24186.703205721446,
          23034.955434020423,
          21938.052794305164,
          20893.383613623966
         ]
        }
       ],
       "layout": {
        "barmode": "relative",
        "hovermode": "x",
        "legend": {
         "title": {
          "text": "variable"
         },
         "tracegroupgap": 0
        },
        "margin": {
         "t": 60
        },
        "template": {
         "data": {
          "bar": [
           {
            "error_x": {
             "color": "#2a3f5f"
            },
            "error_y": {
             "color": "#2a3f5f"
            },
            "marker": {
             "line": {
              "color": "#E5ECF6",
              "width": 0.5
             },
             "pattern": {
              "fillmode": "overlay",
              "size": 10,
              "solidity": 0.2
             }
            },
            "type": "bar"
           }
          ],
          "barpolar": [
           {
            "marker": {
             "line": {
              "color": "#E5ECF6",
              "width": 0.5
             },
             "pattern": {
              "fillmode": "overlay",
              "size": 10,
              "solidity": 0.2
             }
            },
            "type": "barpolar"
           }
          ],
          "carpet": [
           {
            "aaxis": {
             "endlinecolor": "#2a3f5f",
             "gridcolor": "white",
             "linecolor": "white",
             "minorgridcolor": "white",
             "startlinecolor": "#2a3f5f"
            },
            "baxis": {
             "endlinecolor": "#2a3f5f",
             "gridcolor": "white",
             "linecolor": "white",
             "minorgridcolor": "white",
             "startlinecolor": "#2a3f5f"
            },
            "type": "carpet"
           }
          ],
          "choropleth": [
           {
            "colorbar": {
             "outlinewidth": 0,
             "ticks": ""
            },
            "type": "choropleth"
           }
          ],
          "contour": [
           {
            "colorbar": {
             "outlinewidth": 0,
             "ticks": ""
            },
            "colorscale": [
             [
              0,
              "#0d0887"
             ],
             [
              0.1111111111111111,
              "#46039f"
             ],
             [
              0.2222222222222222,
              "#7201a8"
             ],
             [
              0.3333333333333333,
              "#9c179e"
             ],
             [
              0.4444444444444444,
              "#bd3786"
             ],
             [
              0.5555555555555556,
              "#d8576b"
             ],
             [
              0.6666666666666666,
              "#ed7953"
             ],
             [
              0.7777777777777778,
              "#fb9f3a"
             ],
             [
              0.8888888888888888,
              "#fdca26"
             ],
             [
              1,
              "#f0f921"
             ]
            ],
            "type": "contour"
           }
          ],
          "contourcarpet": [
           {
            "colorbar": {
             "outlinewidth": 0,
             "ticks": ""
            },
            "type": "contourcarpet"
           }
          ],
          "heatmap": [
           {
            "colorbar": {
             "outlinewidth": 0,
             "ticks": ""
            },
            "colorscale": [
             [
              0,
              "#0d0887"
             ],
             [
              0.1111111111111111,
              "#46039f"
             ],
             [
              0.2222222222222222,
              "#7201a8"
             ],
             [
              0.3333333333333333,
              "#9c179e"
             ],
             [
              0.4444444444444444,
              "#bd3786"
             ],
             [
              0.5555555555555556,
              "#d8576b"
             ],
             [
              0.6666666666666666,
              "#ed7953"
             ],
             [
              0.7777777777777778,
              "#fb9f3a"
             ],
             [
              0.8888888888888888,
              "#fdca26"
             ],
             [
              1,
              "#f0f921"
             ]
            ],
            "type": "heatmap"
           }
          ],
          "heatmapgl": [
           {
            "colorbar": {
             "outlinewidth": 0,
             "ticks": ""
            },
            "colorscale": [
             [
              0,
              "#0d0887"
             ],
             [
              0.1111111111111111,
              "#46039f"
             ],
             [
              0.2222222222222222,
              "#7201a8"
             ],
             [
              0.3333333333333333,
              "#9c179e"
             ],
             [
              0.4444444444444444,
              "#bd3786"
             ],
             [
              0.5555555555555556,
              "#d8576b"
             ],
             [
              0.6666666666666666,
              "#ed7953"
             ],
             [
              0.7777777777777778,
              "#fb9f3a"
             ],
             [
              0.8888888888888888,
              "#fdca26"
             ],
             [
              1,
              "#f0f921"
             ]
            ],
            "type": "heatmapgl"
           }
          ],
          "histogram": [
           {
            "marker": {
             "pattern": {
              "fillmode": "overlay",
              "size": 10,
              "solidity": 0.2
             }
            },
            "type": "histogram"
           }
          ],
          "histogram2d": [
           {
            "colorbar": {
             "outlinewidth": 0,
             "ticks": ""
            },
            "colorscale": [
             [
              0,
              "#0d0887"
             ],
             [
              0.1111111111111111,
              "#46039f"
             ],
             [
              0.2222222222222222,
              "#7201a8"
             ],
             [
              0.3333333333333333,
              "#9c179e"
             ],
             [
              0.4444444444444444,
              "#bd3786"
             ],
             [
              0.5555555555555556,
              "#d8576b"
             ],
             [
              0.6666666666666666,
              "#ed7953"
             ],
             [
              0.7777777777777778,
              "#fb9f3a"
             ],
             [
              0.8888888888888888,
              "#fdca26"
             ],
             [
              1,
              "#f0f921"
             ]
            ],
            "type": "histogram2d"
           }
          ],
          "histogram2dcontour": [
           {
            "colorbar": {
             "outlinewidth": 0,
             "ticks": ""
            },
            "colorscale": [
             [
              0,
              "#0d0887"
             ],
             [
              0.1111111111111111,
              "#46039f"
             ],
             [
              0.2222222222222222,
              "#7201a8"
             ],
             [
              0.3333333333333333,
              "#9c179e"
             ],
             [
              0.4444444444444444,
              "#bd3786"
             ],
             [
              0.5555555555555556,
              "#d8576b"
             ],
             [
              0.6666666666666666,
              "#ed7953"
             ],
             [
              0.7777777777777778,
              "#fb9f3a"
             ],
             [
              0.8888888888888888,
              "#fdca26"
             ],
             [
              1,
              "#f0f921"
             ]
            ],
            "type": "histogram2dcontour"
           }
          ],
          "mesh3d": [
           {
            "colorbar": {
             "outlinewidth": 0,
             "ticks": ""
            },
            "type": "mesh3d"
           }
          ],
          "parcoords": [
           {
            "line": {
             "colorbar": {
              "outlinewidth": 0,
              "ticks": ""
             }
            },
            "type": "parcoords"
           }
          ],
          "pie": [
           {
            "automargin": true,
            "type": "pie"
           }
          ],
          "scatter": [
           {
            "fillpattern": {
             "fillmode": "overlay",
             "size": 10,
             "solidity": 0.2
            },
            "type": "scatter"
           }
          ],
          "scatter3d": [
           {
            "line": {
             "colorbar": {
              "outlinewidth": 0,
              "ticks": ""
             }
            },
            "marker": {
             "colorbar": {
              "outlinewidth": 0,
              "ticks": ""
             }
            },
            "type": "scatter3d"
           }
          ],
          "scattercarpet": [
           {
            "marker": {
             "colorbar": {
              "outlinewidth": 0,
              "ticks": ""
             }
            },
            "type": "scattercarpet"
           }
          ],
          "scattergeo": [
           {
            "marker": {
             "colorbar": {
              "outlinewidth": 0,
              "ticks": ""
             }
            },
            "type": "scattergeo"
           }
          ],
          "scattergl": [
           {
            "marker": {
             "colorbar": {
              "outlinewidth": 0,
              "ticks": ""
             }
            },
            "type": "scattergl"
           }
          ],
          "scattermapbox": [
           {
            "marker": {
             "colorbar": {
              "outlinewidth": 0,
              "ticks": ""
             }
            },
            "type": "scattermapbox"
           }
          ],
          "scatterpolar": [
           {
            "marker": {
             "colorbar": {
              "outlinewidth": 0,
              "ticks": ""
             }
            },
            "type": "scatterpolar"
           }
          ],
          "scatterpolargl": [
           {
            "marker": {
             "colorbar": {
              "outlinewidth": 0,
              "ticks": ""
             }
            },
            "type": "scatterpolargl"
           }
          ],
          "scatterternary": [
           {
            "marker": {
             "colorbar": {
              "outlinewidth": 0,
              "ticks": ""
             }
            },
            "type": "scatterternary"
           }
          ],
          "surface": [
           {
            "colorbar": {
             "outlinewidth": 0,
             "ticks": ""
            },
            "colorscale": [
             [
              0,
              "#0d0887"
             ],
             [
              0.1111111111111111,
              "#46039f"
             ],
             [
              0.2222222222222222,
              "#7201a8"
             ],
             [
              0.3333333333333333,
              "#9c179e"
             ],
             [
              0.4444444444444444,
              "#bd3786"
             ],
             [
              0.5555555555555556,
              "#d8576b"
             ],
             [
              0.6666666666666666,
              "#ed7953"
             ],
             [
              0.7777777777777778,
              "#fb9f3a"
             ],
             [
              0.8888888888888888,
              "#fdca26"
             ],
             [
              1,
              "#f0f921"
             ]
            ],
            "type": "surface"
           }
          ],
          "table": [
           {
            "cells": {
             "fill": {
              "color": "#EBF0F8"
             },
             "line": {
              "color": "white"
             }
            },
            "header": {
             "fill": {
              "color": "#C8D4E3"
             },
             "line": {
              "color": "white"
             }
            },
            "type": "table"
           }
          ]
         },
         "layout": {
          "annotationdefaults": {
           "arrowcolor": "#2a3f5f",
           "arrowhead": 0,
           "arrowwidth": 1
          },
          "autotypenumbers": "strict",
          "coloraxis": {
           "colorbar": {
            "outlinewidth": 0,
            "ticks": ""
           }
          },
          "colorscale": {
           "diverging": [
            [
             0,
             "#8e0152"
            ],
            [
             0.1,
             "#c51b7d"
            ],
            [
             0.2,
             "#de77ae"
            ],
            [
             0.3,
             "#f1b6da"
            ],
            [
             0.4,
             "#fde0ef"
            ],
            [
             0.5,
             "#f7f7f7"
            ],
            [
             0.6,
             "#e6f5d0"
            ],
            [
             0.7,
             "#b8e186"
            ],
            [
             0.8,
             "#7fbc41"
            ],
            [
             0.9,
             "#4d9221"
            ],
            [
             1,
             "#276419"
            ]
           ],
           "sequential": [
            [
             0,
             "#0d0887"
            ],
            [
             0.1111111111111111,
             "#46039f"
            ],
            [
             0.2222222222222222,
             "#7201a8"
            ],
            [
             0.3333333333333333,
             "#9c179e"
            ],
            [
             0.4444444444444444,
             "#bd3786"
            ],
            [
             0.5555555555555556,
             "#d8576b"
            ],
            [
             0.6666666666666666,
             "#ed7953"
            ],
            [
             0.7777777777777778,
             "#fb9f3a"
            ],
            [
             0.8888888888888888,
             "#fdca26"
            ],
            [
             1,
             "#f0f921"
            ]
           ],
           "sequentialminus": [
            [
             0,
             "#0d0887"
            ],
            [
             0.1111111111111111,
             "#46039f"
            ],
            [
             0.2222222222222222,
             "#7201a8"
            ],
            [
             0.3333333333333333,
             "#9c179e"
            ],
            [
             0.4444444444444444,
             "#bd3786"
            ],
            [
             0.5555555555555556,
             "#d8576b"
            ],
            [
             0.6666666666666666,
             "#ed7953"
            ],
            [
             0.7777777777777778,
             "#fb9f3a"
            ],
            [
             0.8888888888888888,
             "#fdca26"
            ],
            [
             1,
             "#f0f921"
            ]
           ]
          },
          "colorway": [
           "#636efa",
           "#EF553B",
           "#00cc96",
           "#ab63fa",
           "#FFA15A",
           "#19d3f3",
           "#FF6692",
           "#B6E880",
           "#FF97FF",
           "#FECB52"
          ],
          "font": {
           "color": "#2a3f5f"
          },
          "geo": {
           "bgcolor": "white",
           "lakecolor": "white",
           "landcolor": "#E5ECF6",
           "showlakes": true,
           "showland": true,
           "subunitcolor": "white"
          },
          "hoverlabel": {
           "align": "left"
          },
          "hovermode": "closest",
          "mapbox": {
           "style": "light"
          },
          "paper_bgcolor": "white",
          "plot_bgcolor": "#E5ECF6",
          "polar": {
           "angularaxis": {
            "gridcolor": "white",
            "linecolor": "white",
            "ticks": ""
           },
           "bgcolor": "#E5ECF6",
           "radialaxis": {
            "gridcolor": "white",
            "linecolor": "white",
            "ticks": ""
           }
          },
          "scene": {
           "xaxis": {
            "backgroundcolor": "#E5ECF6",
            "gridcolor": "white",
            "gridwidth": 2,
            "linecolor": "white",
            "showbackground": true,
            "ticks": "",
            "zerolinecolor": "white"
           },
           "yaxis": {
            "backgroundcolor": "#E5ECF6",
            "gridcolor": "white",
            "gridwidth": 2,
            "linecolor": "white",
            "showbackground": true,
            "ticks": "",
            "zerolinecolor": "white"
           },
           "zaxis": {
            "backgroundcolor": "#E5ECF6",
            "gridcolor": "white",
            "gridwidth": 2,
            "linecolor": "white",
            "showbackground": true,
            "ticks": "",
            "zerolinecolor": "white"
           }
          },
          "shapedefaults": {
           "line": {
            "color": "#2a3f5f"
           }
          },
          "ternary": {
           "aaxis": {
            "gridcolor": "white",
            "linecolor": "white",
            "ticks": ""
           },
           "baxis": {
            "gridcolor": "white",
            "linecolor": "white",
            "ticks": ""
           },
           "bgcolor": "#E5ECF6",
           "caxis": {
            "gridcolor": "white",
            "linecolor": "white",
            "ticks": ""
           }
          },
          "title": {
           "x": 0.05
          },
          "xaxis": {
           "automargin": true,
           "gridcolor": "white",
           "linecolor": "white",
           "ticks": "",
           "title": {
            "standoff": 15
           },
           "zerolinecolor": "white",
           "zerolinewidth": 2
          },
          "yaxis": {
           "automargin": true,
           "gridcolor": "white",
           "linecolor": "white",
           "ticks": "",
           "title": {
            "standoff": 15
           },
           "zerolinecolor": "white",
           "zerolinewidth": 2
          }
         }
        },
        "xaxis": {
         "anchor": "y",
         "domain": [
          0,
          1
         ],
         "title": {
          "text": "index"
         }
        },
        "yaxis": {
         "anchor": "x",
         "domain": [
          0,
          1
         ],
         "title": {
          "text": "value"
         }
        }
       }
      }
     },
     "metadata": {},
     "output_type": "display_data"
    }
   ],
   "source": [
    "fig = dd.transpose().plot(kind = \"bar\", y = [\"CAPEX\",\"OPEX\",\"Revenus\",\"Impôts (IS)\"]).update_layout(hovermode='x')\n",
    "fig.add_trace(\n",
    "    go.Scatter(\n",
    "        x = dd.columns,\n",
    "        y = dd.loc[\"Cash Flow\"],\n",
    "        name = \"Cash Flow\",\n",
    "        marker_color = \"black\"\n",
    "    )\n",
    ")"
   ]
  },
  {
   "cell_type": "code",
   "execution_count": 38,
   "metadata": {},
   "outputs": [
    {
     "data": {
      "text/html": [
       "<div>\n",
       "<style scoped>\n",
       "    .dataframe tbody tr th:only-of-type {\n",
       "        vertical-align: middle;\n",
       "    }\n",
       "\n",
       "    .dataframe tbody tr th {\n",
       "        vertical-align: top;\n",
       "    }\n",
       "\n",
       "    .dataframe thead th {\n",
       "        text-align: right;\n",
       "    }\n",
       "</style>\n",
       "<table border=\"1\" class=\"dataframe\">\n",
       "  <thead>\n",
       "    <tr style=\"text-align: right;\">\n",
       "      <th></th>\n",
       "      <th>Type de flux</th>\n",
       "      <th>Année projet</th>\n",
       "      <th>value</th>\n",
       "      <th>Période projet</th>\n",
       "    </tr>\n",
       "  </thead>\n",
       "  <tbody>\n",
       "    <tr>\n",
       "      <th>0</th>\n",
       "      <td>OPEX</td>\n",
       "      <td>-2</td>\n",
       "      <td>NaN</td>\n",
       "      <td>Années négatives</td>\n",
       "    </tr>\n",
       "    <tr>\n",
       "      <th>1</th>\n",
       "      <td>CAPEX</td>\n",
       "      <td>-2</td>\n",
       "      <td>441000.0</td>\n",
       "      <td>Années négatives</td>\n",
       "    </tr>\n",
       "    <tr>\n",
       "      <th>2</th>\n",
       "      <td>Revenus</td>\n",
       "      <td>-2</td>\n",
       "      <td>NaN</td>\n",
       "      <td>Années négatives</td>\n",
       "    </tr>\n",
       "    <tr>\n",
       "      <th>3</th>\n",
       "      <td>Impôts (IS)</td>\n",
       "      <td>-2</td>\n",
       "      <td>0.0</td>\n",
       "      <td>Années négatives</td>\n",
       "    </tr>\n",
       "    <tr>\n",
       "      <th>4</th>\n",
       "      <td>OPEX</td>\n",
       "      <td>-1</td>\n",
       "      <td>NaN</td>\n",
       "      <td>Années négatives</td>\n",
       "    </tr>\n",
       "    <tr>\n",
       "      <th>...</th>\n",
       "      <td>...</td>\n",
       "      <td>...</td>\n",
       "      <td>...</td>\n",
       "      <td>...</td>\n",
       "    </tr>\n",
       "    <tr>\n",
       "      <th>127</th>\n",
       "      <td>Impôts (IS)</td>\n",
       "      <td>29</td>\n",
       "      <td>9402.0</td>\n",
       "      <td>Années 26-30</td>\n",
       "    </tr>\n",
       "    <tr>\n",
       "      <th>128</th>\n",
       "      <td>OPEX</td>\n",
       "      <td>30</td>\n",
       "      <td>8330.0</td>\n",
       "      <td>Années 26-30</td>\n",
       "    </tr>\n",
       "    <tr>\n",
       "      <th>129</th>\n",
       "      <td>CAPEX</td>\n",
       "      <td>30</td>\n",
       "      <td>NaN</td>\n",
       "      <td>Années 26-30</td>\n",
       "    </tr>\n",
       "    <tr>\n",
       "      <th>130</th>\n",
       "      <td>Revenus</td>\n",
       "      <td>30</td>\n",
       "      <td>38177.0</td>\n",
       "      <td>Années 26-30</td>\n",
       "    </tr>\n",
       "    <tr>\n",
       "      <th>131</th>\n",
       "      <td>Impôts (IS)</td>\n",
       "      <td>30</td>\n",
       "      <td>8954.0</td>\n",
       "      <td>Années 26-30</td>\n",
       "    </tr>\n",
       "  </tbody>\n",
       "</table>\n",
       "<p>132 rows × 4 columns</p>\n",
       "</div>"
      ],
      "text/plain": [
       "    Type de flux Année projet     value    Période projet\n",
       "0           OPEX           -2       NaN  Années négatives\n",
       "1          CAPEX           -2  441000.0  Années négatives\n",
       "2        Revenus           -2       NaN  Années négatives\n",
       "3    Impôts (IS)           -2       0.0  Années négatives\n",
       "4           OPEX           -1       NaN  Années négatives\n",
       "..           ...          ...       ...               ...\n",
       "127  Impôts (IS)           29    9402.0      Années 26-30\n",
       "128         OPEX           30    8330.0      Années 26-30\n",
       "129        CAPEX           30       NaN      Années 26-30\n",
       "130      Revenus           30   38177.0      Années 26-30\n",
       "131  Impôts (IS)           30    8954.0      Années 26-30\n",
       "\n",
       "[132 rows x 4 columns]"
      ]
     },
     "execution_count": 38,
     "metadata": {},
     "output_type": "execute_result"
    }
   ],
   "source": [
    "def groupement_année(k):\n",
    "    if k<=0:\n",
    "        return \"Années négatives\"\n",
    "    else:\n",
    "        return f\"Années {((k-1)//5)*5+1}-{((k-1)//5+1)*5}\"\n",
    "de = pd.melt(dd.loc[[\"OPEX\",\"CAPEX\",\"Revenus\",\"Impôts (IS)\"]].reset_index(),id_vars=\"index\").rename({\"variable\":\"Année projet\",\"index\":\"Type de flux\"},axis=1)\n",
    "de[\"value\"] = de[\"value\"].abs().round()\n",
    "de[\"Période projet\"] = de[\"Année projet\"].apply(groupement_année)\n",
    "de"
   ]
  },
  {
   "cell_type": "code",
   "execution_count": 39,
   "metadata": {},
   "outputs": [
    {
     "data": {
      "application/vnd.plotly.v1+json": {
       "config": {
        "plotlyServerURL": "https://plot.ly"
       },
       "data": [
        {
         "branchvalues": "total",
         "domain": {
          "x": [
           0,
           1
          ],
          "y": [
           0,
           1
          ]
         },
         "hovertemplate": "labels=%{label}<br>value=%{value}<br>parent=%{parent}<br>id=%{id}<extra></extra>",
         "ids": [
          "Ensemble du projet/CAPEX/Années négatives/-2",
          "Ensemble du projet/Impôts (IS)/Années négatives/-2",
          "Ensemble du projet/OPEX/Années négatives/-2",
          "Ensemble du projet/Revenus/Années négatives/-2",
          "Ensemble du projet/CAPEX/Années négatives/-1",
          "Ensemble du projet/Impôts (IS)/Années négatives/-1",
          "Ensemble du projet/OPEX/Années négatives/-1",
          "Ensemble du projet/Revenus/Années négatives/-1",
          "Ensemble du projet/CAPEX/Années négatives/0",
          "Ensemble du projet/Impôts (IS)/Années négatives/0",
          "Ensemble du projet/OPEX/Années négatives/0",
          "Ensemble du projet/Revenus/Années négatives/0",
          "Ensemble du projet/CAPEX/Années 1-5/1",
          "Ensemble du projet/Impôts (IS)/Années 1-5/1",
          "Ensemble du projet/OPEX/Années 1-5/1",
          "Ensemble du projet/Revenus/Années 1-5/1",
          "Ensemble du projet/CAPEX/Années 1-5/2",
          "Ensemble du projet/Impôts (IS)/Années 1-5/2",
          "Ensemble du projet/OPEX/Années 1-5/2",
          "Ensemble du projet/Revenus/Années 1-5/2",
          "Ensemble du projet/CAPEX/Années 1-5/3",
          "Ensemble du projet/Impôts (IS)/Années 1-5/3",
          "Ensemble du projet/OPEX/Années 1-5/3",
          "Ensemble du projet/Revenus/Années 1-5/3",
          "Ensemble du projet/CAPEX/Années 1-5/4",
          "Ensemble du projet/Impôts (IS)/Années 1-5/4",
          "Ensemble du projet/OPEX/Années 1-5/4",
          "Ensemble du projet/Revenus/Années 1-5/4",
          "Ensemble du projet/CAPEX/Années 1-5/5",
          "Ensemble du projet/Impôts (IS)/Années 1-5/5",
          "Ensemble du projet/OPEX/Années 1-5/5",
          "Ensemble du projet/Revenus/Années 1-5/5",
          "Ensemble du projet/CAPEX/Années 6-10/6",
          "Ensemble du projet/Impôts (IS)/Années 6-10/6",
          "Ensemble du projet/OPEX/Années 6-10/6",
          "Ensemble du projet/Revenus/Années 6-10/6",
          "Ensemble du projet/CAPEX/Années 6-10/7",
          "Ensemble du projet/Impôts (IS)/Années 6-10/7",
          "Ensemble du projet/OPEX/Années 6-10/7",
          "Ensemble du projet/Revenus/Années 6-10/7",
          "Ensemble du projet/CAPEX/Années 6-10/8",
          "Ensemble du projet/Impôts (IS)/Années 6-10/8",
          "Ensemble du projet/OPEX/Années 6-10/8",
          "Ensemble du projet/Revenus/Années 6-10/8",
          "Ensemble du projet/CAPEX/Années 6-10/9",
          "Ensemble du projet/Impôts (IS)/Années 6-10/9",
          "Ensemble du projet/OPEX/Années 6-10/9",
          "Ensemble du projet/Revenus/Années 6-10/9",
          "Ensemble du projet/CAPEX/Années 6-10/10",
          "Ensemble du projet/Impôts (IS)/Années 6-10/10",
          "Ensemble du projet/OPEX/Années 6-10/10",
          "Ensemble du projet/Revenus/Années 6-10/10",
          "Ensemble du projet/CAPEX/Années 11-15/11",
          "Ensemble du projet/Impôts (IS)/Années 11-15/11",
          "Ensemble du projet/OPEX/Années 11-15/11",
          "Ensemble du projet/Revenus/Années 11-15/11",
          "Ensemble du projet/CAPEX/Années 11-15/12",
          "Ensemble du projet/Impôts (IS)/Années 11-15/12",
          "Ensemble du projet/OPEX/Années 11-15/12",
          "Ensemble du projet/Revenus/Années 11-15/12",
          "Ensemble du projet/CAPEX/Années 11-15/13",
          "Ensemble du projet/Impôts (IS)/Années 11-15/13",
          "Ensemble du projet/OPEX/Années 11-15/13",
          "Ensemble du projet/Revenus/Années 11-15/13",
          "Ensemble du projet/CAPEX/Années 11-15/14",
          "Ensemble du projet/Impôts (IS)/Années 11-15/14",
          "Ensemble du projet/OPEX/Années 11-15/14",
          "Ensemble du projet/Revenus/Années 11-15/14",
          "Ensemble du projet/CAPEX/Années 11-15/15",
          "Ensemble du projet/Impôts (IS)/Années 11-15/15",
          "Ensemble du projet/OPEX/Années 11-15/15",
          "Ensemble du projet/Revenus/Années 11-15/15",
          "Ensemble du projet/CAPEX/Années 16-20/16",
          "Ensemble du projet/Impôts (IS)/Années 16-20/16",
          "Ensemble du projet/OPEX/Années 16-20/16",
          "Ensemble du projet/Revenus/Années 16-20/16",
          "Ensemble du projet/CAPEX/Années 16-20/17",
          "Ensemble du projet/Impôts (IS)/Années 16-20/17",
          "Ensemble du projet/OPEX/Années 16-20/17",
          "Ensemble du projet/Revenus/Années 16-20/17",
          "Ensemble du projet/CAPEX/Années 16-20/18",
          "Ensemble du projet/Impôts (IS)/Années 16-20/18",
          "Ensemble du projet/OPEX/Années 16-20/18",
          "Ensemble du projet/Revenus/Années 16-20/18",
          "Ensemble du projet/CAPEX/Années 16-20/19",
          "Ensemble du projet/Impôts (IS)/Années 16-20/19",
          "Ensemble du projet/OPEX/Années 16-20/19",
          "Ensemble du projet/Revenus/Années 16-20/19",
          "Ensemble du projet/CAPEX/Années 16-20/20",
          "Ensemble du projet/Impôts (IS)/Années 16-20/20",
          "Ensemble du projet/OPEX/Années 16-20/20",
          "Ensemble du projet/Revenus/Années 16-20/20",
          "Ensemble du projet/CAPEX/Années 21-25/21",
          "Ensemble du projet/Impôts (IS)/Années 21-25/21",
          "Ensemble du projet/OPEX/Années 21-25/21",
          "Ensemble du projet/Revenus/Années 21-25/21",
          "Ensemble du projet/CAPEX/Années 21-25/22",
          "Ensemble du projet/Impôts (IS)/Années 21-25/22",
          "Ensemble du projet/OPEX/Années 21-25/22",
          "Ensemble du projet/Revenus/Années 21-25/22",
          "Ensemble du projet/CAPEX/Années 21-25/23",
          "Ensemble du projet/Impôts (IS)/Années 21-25/23",
          "Ensemble du projet/OPEX/Années 21-25/23",
          "Ensemble du projet/Revenus/Années 21-25/23",
          "Ensemble du projet/CAPEX/Années 21-25/24",
          "Ensemble du projet/Impôts (IS)/Années 21-25/24",
          "Ensemble du projet/OPEX/Années 21-25/24",
          "Ensemble du projet/Revenus/Années 21-25/24",
          "Ensemble du projet/CAPEX/Années 21-25/25",
          "Ensemble du projet/Impôts (IS)/Années 21-25/25",
          "Ensemble du projet/OPEX/Années 21-25/25",
          "Ensemble du projet/Revenus/Années 21-25/25",
          "Ensemble du projet/CAPEX/Années 26-30/26",
          "Ensemble du projet/Impôts (IS)/Années 26-30/26",
          "Ensemble du projet/OPEX/Années 26-30/26",
          "Ensemble du projet/Revenus/Années 26-30/26",
          "Ensemble du projet/CAPEX/Années 26-30/27",
          "Ensemble du projet/Impôts (IS)/Années 26-30/27",
          "Ensemble du projet/OPEX/Années 26-30/27",
          "Ensemble du projet/Revenus/Années 26-30/27",
          "Ensemble du projet/CAPEX/Années 26-30/28",
          "Ensemble du projet/Impôts (IS)/Années 26-30/28",
          "Ensemble du projet/OPEX/Années 26-30/28",
          "Ensemble du projet/Revenus/Années 26-30/28",
          "Ensemble du projet/CAPEX/Années 26-30/29",
          "Ensemble du projet/Impôts (IS)/Années 26-30/29",
          "Ensemble du projet/OPEX/Années 26-30/29",
          "Ensemble du projet/Revenus/Années 26-30/29",
          "Ensemble du projet/CAPEX/Années 26-30/30",
          "Ensemble du projet/Impôts (IS)/Années 26-30/30",
          "Ensemble du projet/OPEX/Années 26-30/30",
          "Ensemble du projet/Revenus/Années 26-30/30",
          "Ensemble du projet/CAPEX/Années 1-5",
          "Ensemble du projet/Impôts (IS)/Années 1-5",
          "Ensemble du projet/OPEX/Années 1-5",
          "Ensemble du projet/Revenus/Années 1-5",
          "Ensemble du projet/CAPEX/Années 11-15",
          "Ensemble du projet/Impôts (IS)/Années 11-15",
          "Ensemble du projet/OPEX/Années 11-15",
          "Ensemble du projet/Revenus/Années 11-15",
          "Ensemble du projet/CAPEX/Années 16-20",
          "Ensemble du projet/Impôts (IS)/Années 16-20",
          "Ensemble du projet/OPEX/Années 16-20",
          "Ensemble du projet/Revenus/Années 16-20",
          "Ensemble du projet/CAPEX/Années 21-25",
          "Ensemble du projet/Impôts (IS)/Années 21-25",
          "Ensemble du projet/OPEX/Années 21-25",
          "Ensemble du projet/Revenus/Années 21-25",
          "Ensemble du projet/CAPEX/Années 26-30",
          "Ensemble du projet/Impôts (IS)/Années 26-30",
          "Ensemble du projet/OPEX/Années 26-30",
          "Ensemble du projet/Revenus/Années 26-30",
          "Ensemble du projet/CAPEX/Années 6-10",
          "Ensemble du projet/Impôts (IS)/Années 6-10",
          "Ensemble du projet/OPEX/Années 6-10",
          "Ensemble du projet/Revenus/Années 6-10",
          "Ensemble du projet/CAPEX/Années négatives",
          "Ensemble du projet/Impôts (IS)/Années négatives",
          "Ensemble du projet/OPEX/Années négatives",
          "Ensemble du projet/Revenus/Années négatives",
          "Ensemble du projet/CAPEX",
          "Ensemble du projet/Impôts (IS)",
          "Ensemble du projet/OPEX",
          "Ensemble du projet/Revenus",
          "Ensemble du projet"
         ],
         "labels": [
          "-2",
          "-2",
          "-2",
          "-2",
          "-1",
          "-1",
          "-1",
          "-1",
          "0",
          "0",
          "0",
          "0",
          "1",
          "1",
          "1",
          "1",
          "2",
          "2",
          "2",
          "2",
          "3",
          "3",
          "3",
          "3",
          "4",
          "4",
          "4",
          "4",
          "5",
          "5",
          "5",
          "5",
          "6",
          "6",
          "6",
          "6",
          "7",
          "7",
          "7",
          "7",
          "8",
          "8",
          "8",
          "8",
          "9",
          "9",
          "9",
          "9",
          "10",
          "10",
          "10",
          "10",
          "11",
          "11",
          "11",
          "11",
          "12",
          "12",
          "12",
          "12",
          "13",
          "13",
          "13",
          "13",
          "14",
          "14",
          "14",
          "14",
          "15",
          "15",
          "15",
          "15",
          "16",
          "16",
          "16",
          "16",
          "17",
          "17",
          "17",
          "17",
          "18",
          "18",
          "18",
          "18",
          "19",
          "19",
          "19",
          "19",
          "20",
          "20",
          "20",
          "20",
          "21",
          "21",
          "21",
          "21",
          "22",
          "22",
          "22",
          "22",
          "23",
          "23",
          "23",
          "23",
          "24",
          "24",
          "24",
          "24",
          "25",
          "25",
          "25",
          "25",
          "26",
          "26",
          "26",
          "26",
          "27",
          "27",
          "27",
          "27",
          "28",
          "28",
          "28",
          "28",
          "29",
          "29",
          "29",
          "29",
          "30",
          "30",
          "30",
          "30",
          "Années 1-5",
          "Années 1-5",
          "Années 1-5",
          "Années 1-5",
          "Années 11-15",
          "Années 11-15",
          "Années 11-15",
          "Années 11-15",
          "Années 16-20",
          "Années 16-20",
          "Années 16-20",
          "Années 16-20",
          "Années 21-25",
          "Années 21-25",
          "Années 21-25",
          "Années 21-25",
          "Années 26-30",
          "Années 26-30",
          "Années 26-30",
          "Années 26-30",
          "Années 6-10",
          "Années 6-10",
          "Années 6-10",
          "Années 6-10",
          "Années négatives",
          "Années négatives",
          "Années négatives",
          "Années négatives",
          "CAPEX",
          "Impôts (IS)",
          "OPEX",
          "Revenus",
          "Ensemble du projet"
         ],
         "maxdepth": 3,
         "name": "",
         "parents": [
          "Ensemble du projet/CAPEX/Années négatives",
          "Ensemble du projet/Impôts (IS)/Années négatives",
          "Ensemble du projet/OPEX/Années négatives",
          "Ensemble du projet/Revenus/Années négatives",
          "Ensemble du projet/CAPEX/Années négatives",
          "Ensemble du projet/Impôts (IS)/Années négatives",
          "Ensemble du projet/OPEX/Années négatives",
          "Ensemble du projet/Revenus/Années négatives",
          "Ensemble du projet/CAPEX/Années négatives",
          "Ensemble du projet/Impôts (IS)/Années négatives",
          "Ensemble du projet/OPEX/Années négatives",
          "Ensemble du projet/Revenus/Années négatives",
          "Ensemble du projet/CAPEX/Années 1-5",
          "Ensemble du projet/Impôts (IS)/Années 1-5",
          "Ensemble du projet/OPEX/Années 1-5",
          "Ensemble du projet/Revenus/Années 1-5",
          "Ensemble du projet/CAPEX/Années 1-5",
          "Ensemble du projet/Impôts (IS)/Années 1-5",
          "Ensemble du projet/OPEX/Années 1-5",
          "Ensemble du projet/Revenus/Années 1-5",
          "Ensemble du projet/CAPEX/Années 1-5",
          "Ensemble du projet/Impôts (IS)/Années 1-5",
          "Ensemble du projet/OPEX/Années 1-5",
          "Ensemble du projet/Revenus/Années 1-5",
          "Ensemble du projet/CAPEX/Années 1-5",
          "Ensemble du projet/Impôts (IS)/Années 1-5",
          "Ensemble du projet/OPEX/Années 1-5",
          "Ensemble du projet/Revenus/Années 1-5",
          "Ensemble du projet/CAPEX/Années 1-5",
          "Ensemble du projet/Impôts (IS)/Années 1-5",
          "Ensemble du projet/OPEX/Années 1-5",
          "Ensemble du projet/Revenus/Années 1-5",
          "Ensemble du projet/CAPEX/Années 6-10",
          "Ensemble du projet/Impôts (IS)/Années 6-10",
          "Ensemble du projet/OPEX/Années 6-10",
          "Ensemble du projet/Revenus/Années 6-10",
          "Ensemble du projet/CAPEX/Années 6-10",
          "Ensemble du projet/Impôts (IS)/Années 6-10",
          "Ensemble du projet/OPEX/Années 6-10",
          "Ensemble du projet/Revenus/Années 6-10",
          "Ensemble du projet/CAPEX/Années 6-10",
          "Ensemble du projet/Impôts (IS)/Années 6-10",
          "Ensemble du projet/OPEX/Années 6-10",
          "Ensemble du projet/Revenus/Années 6-10",
          "Ensemble du projet/CAPEX/Années 6-10",
          "Ensemble du projet/Impôts (IS)/Années 6-10",
          "Ensemble du projet/OPEX/Années 6-10",
          "Ensemble du projet/Revenus/Années 6-10",
          "Ensemble du projet/CAPEX/Années 6-10",
          "Ensemble du projet/Impôts (IS)/Années 6-10",
          "Ensemble du projet/OPEX/Années 6-10",
          "Ensemble du projet/Revenus/Années 6-10",
          "Ensemble du projet/CAPEX/Années 11-15",
          "Ensemble du projet/Impôts (IS)/Années 11-15",
          "Ensemble du projet/OPEX/Années 11-15",
          "Ensemble du projet/Revenus/Années 11-15",
          "Ensemble du projet/CAPEX/Années 11-15",
          "Ensemble du projet/Impôts (IS)/Années 11-15",
          "Ensemble du projet/OPEX/Années 11-15",
          "Ensemble du projet/Revenus/Années 11-15",
          "Ensemble du projet/CAPEX/Années 11-15",
          "Ensemble du projet/Impôts (IS)/Années 11-15",
          "Ensemble du projet/OPEX/Années 11-15",
          "Ensemble du projet/Revenus/Années 11-15",
          "Ensemble du projet/CAPEX/Années 11-15",
          "Ensemble du projet/Impôts (IS)/Années 11-15",
          "Ensemble du projet/OPEX/Années 11-15",
          "Ensemble du projet/Revenus/Années 11-15",
          "Ensemble du projet/CAPEX/Années 11-15",
          "Ensemble du projet/Impôts (IS)/Années 11-15",
          "Ensemble du projet/OPEX/Années 11-15",
          "Ensemble du projet/Revenus/Années 11-15",
          "Ensemble du projet/CAPEX/Années 16-20",
          "Ensemble du projet/Impôts (IS)/Années 16-20",
          "Ensemble du projet/OPEX/Années 16-20",
          "Ensemble du projet/Revenus/Années 16-20",
          "Ensemble du projet/CAPEX/Années 16-20",
          "Ensemble du projet/Impôts (IS)/Années 16-20",
          "Ensemble du projet/OPEX/Années 16-20",
          "Ensemble du projet/Revenus/Années 16-20",
          "Ensemble du projet/CAPEX/Années 16-20",
          "Ensemble du projet/Impôts (IS)/Années 16-20",
          "Ensemble du projet/OPEX/Années 16-20",
          "Ensemble du projet/Revenus/Années 16-20",
          "Ensemble du projet/CAPEX/Années 16-20",
          "Ensemble du projet/Impôts (IS)/Années 16-20",
          "Ensemble du projet/OPEX/Années 16-20",
          "Ensemble du projet/Revenus/Années 16-20",
          "Ensemble du projet/CAPEX/Années 16-20",
          "Ensemble du projet/Impôts (IS)/Années 16-20",
          "Ensemble du projet/OPEX/Années 16-20",
          "Ensemble du projet/Revenus/Années 16-20",
          "Ensemble du projet/CAPEX/Années 21-25",
          "Ensemble du projet/Impôts (IS)/Années 21-25",
          "Ensemble du projet/OPEX/Années 21-25",
          "Ensemble du projet/Revenus/Années 21-25",
          "Ensemble du projet/CAPEX/Années 21-25",
          "Ensemble du projet/Impôts (IS)/Années 21-25",
          "Ensemble du projet/OPEX/Années 21-25",
          "Ensemble du projet/Revenus/Années 21-25",
          "Ensemble du projet/CAPEX/Années 21-25",
          "Ensemble du projet/Impôts (IS)/Années 21-25",
          "Ensemble du projet/OPEX/Années 21-25",
          "Ensemble du projet/Revenus/Années 21-25",
          "Ensemble du projet/CAPEX/Années 21-25",
          "Ensemble du projet/Impôts (IS)/Années 21-25",
          "Ensemble du projet/OPEX/Années 21-25",
          "Ensemble du projet/Revenus/Années 21-25",
          "Ensemble du projet/CAPEX/Années 21-25",
          "Ensemble du projet/Impôts (IS)/Années 21-25",
          "Ensemble du projet/OPEX/Années 21-25",
          "Ensemble du projet/Revenus/Années 21-25",
          "Ensemble du projet/CAPEX/Années 26-30",
          "Ensemble du projet/Impôts (IS)/Années 26-30",
          "Ensemble du projet/OPEX/Années 26-30",
          "Ensemble du projet/Revenus/Années 26-30",
          "Ensemble du projet/CAPEX/Années 26-30",
          "Ensemble du projet/Impôts (IS)/Années 26-30",
          "Ensemble du projet/OPEX/Années 26-30",
          "Ensemble du projet/Revenus/Années 26-30",
          "Ensemble du projet/CAPEX/Années 26-30",
          "Ensemble du projet/Impôts (IS)/Années 26-30",
          "Ensemble du projet/OPEX/Années 26-30",
          "Ensemble du projet/Revenus/Années 26-30",
          "Ensemble du projet/CAPEX/Années 26-30",
          "Ensemble du projet/Impôts (IS)/Années 26-30",
          "Ensemble du projet/OPEX/Années 26-30",
          "Ensemble du projet/Revenus/Années 26-30",
          "Ensemble du projet/CAPEX/Années 26-30",
          "Ensemble du projet/Impôts (IS)/Années 26-30",
          "Ensemble du projet/OPEX/Années 26-30",
          "Ensemble du projet/Revenus/Années 26-30",
          "Ensemble du projet/CAPEX",
          "Ensemble du projet/Impôts (IS)",
          "Ensemble du projet/OPEX",
          "Ensemble du projet/Revenus",
          "Ensemble du projet/CAPEX",
          "Ensemble du projet/Impôts (IS)",
          "Ensemble du projet/OPEX",
          "Ensemble du projet/Revenus",
          "Ensemble du projet/CAPEX",
          "Ensemble du projet/Impôts (IS)",
          "Ensemble du projet/OPEX",
          "Ensemble du projet/Revenus",
          "Ensemble du projet/CAPEX",
          "Ensemble du projet/Impôts (IS)",
          "Ensemble du projet/OPEX",
          "Ensemble du projet/Revenus",
          "Ensemble du projet/CAPEX",
          "Ensemble du projet/Impôts (IS)",
          "Ensemble du projet/OPEX",
          "Ensemble du projet/Revenus",
          "Ensemble du projet/CAPEX",
          "Ensemble du projet/Impôts (IS)",
          "Ensemble du projet/OPEX",
          "Ensemble du projet/Revenus",
          "Ensemble du projet/CAPEX",
          "Ensemble du projet/Impôts (IS)",
          "Ensemble du projet/OPEX",
          "Ensemble du projet/Revenus",
          "Ensemble du projet",
          "Ensemble du projet",
          "Ensemble du projet",
          "Ensemble du projet",
          ""
         ],
         "root": {
          "color": "lightgrey"
         },
         "textinfo": "label+value",
         "type": "treemap",
         "values": [
          441000,
          0,
          0,
          0,
          420000,
          0,
          0,
          0,
          400000,
          0,
          0,
          0,
          0,
          2571,
          34286,
          157143,
          0,
          2449,
          32653,
          149660,
          0,
          2332,
          31098,
          142533,
          0,
          2221,
          29617,
          135746,
          0,
          2116,
          28207,
          129282,
          0,
          2015,
          26864,
          123126,
          0,
          1919,
          25585,
          117262,
          0,
          1827,
          24366,
          111678,
          0,
          1740,
          23206,
          106360,
          0,
          1658,
          22101,
          101296,
          0,
          22627,
          21048,
          96472,
          0,
          21550,
          20046,
          91878,
          0,
          20523,
          19092,
          87503,
          0,
          19546,
          18182,
          83336,
          0,
          18615,
          17317,
          79368,
          0,
          17729,
          16492,
          75588,
          0,
          16885,
          15707,
          71989,
          0,
          16081,
          14959,
          68561,
          0,
          15315,
          14246,
          65296,
          37689,
          14586,
          13568,
          62187,
          35894,
          13891,
          12922,
          59225,
          0,
          13230,
          12307,
          56405,
          0,
          12600,
          11721,
          53719,
          0,
          12000,
          11162,
          51161,
          0,
          11428,
          10631,
          48725,
          0,
          10884,
          10125,
          46405,
          0,
          10366,
          9643,
          44195,
          0,
          9872,
          9183,
          42090,
          0,
          9402,
          8746,
          40086,
          0,
          8954,
          8330,
          38177,
          0,
          11689,
          155861,
          714364,
          0,
          102861,
          95685,
          438557,
          37689,
          80596,
          74972,
          343621,
          35894,
          63149,
          58743,
          269235,
          0,
          49478,
          46027,
          210953,
          0,
          9159,
          122122,
          559722,
          1261000,
          0,
          0,
          0,
          1334583,
          316932,
          553410,
          2536452,
          4741377
         ]
        }
       ],
       "layout": {
        "legend": {
         "tracegroupgap": 0
        },
        "margin": {
         "t": 60
        },
        "template": {
         "data": {
          "bar": [
           {
            "error_x": {
             "color": "#2a3f5f"
            },
            "error_y": {
             "color": "#2a3f5f"
            },
            "marker": {
             "line": {
              "color": "#E5ECF6",
              "width": 0.5
             },
             "pattern": {
              "fillmode": "overlay",
              "size": 10,
              "solidity": 0.2
             }
            },
            "type": "bar"
           }
          ],
          "barpolar": [
           {
            "marker": {
             "line": {
              "color": "#E5ECF6",
              "width": 0.5
             },
             "pattern": {
              "fillmode": "overlay",
              "size": 10,
              "solidity": 0.2
             }
            },
            "type": "barpolar"
           }
          ],
          "carpet": [
           {
            "aaxis": {
             "endlinecolor": "#2a3f5f",
             "gridcolor": "white",
             "linecolor": "white",
             "minorgridcolor": "white",
             "startlinecolor": "#2a3f5f"
            },
            "baxis": {
             "endlinecolor": "#2a3f5f",
             "gridcolor": "white",
             "linecolor": "white",
             "minorgridcolor": "white",
             "startlinecolor": "#2a3f5f"
            },
            "type": "carpet"
           }
          ],
          "choropleth": [
           {
            "colorbar": {
             "outlinewidth": 0,
             "ticks": ""
            },
            "type": "choropleth"
           }
          ],
          "contour": [
           {
            "colorbar": {
             "outlinewidth": 0,
             "ticks": ""
            },
            "colorscale": [
             [
              0,
              "#0d0887"
             ],
             [
              0.1111111111111111,
              "#46039f"
             ],
             [
              0.2222222222222222,
              "#7201a8"
             ],
             [
              0.3333333333333333,
              "#9c179e"
             ],
             [
              0.4444444444444444,
              "#bd3786"
             ],
             [
              0.5555555555555556,
              "#d8576b"
             ],
             [
              0.6666666666666666,
              "#ed7953"
             ],
             [
              0.7777777777777778,
              "#fb9f3a"
             ],
             [
              0.8888888888888888,
              "#fdca26"
             ],
             [
              1,
              "#f0f921"
             ]
            ],
            "type": "contour"
           }
          ],
          "contourcarpet": [
           {
            "colorbar": {
             "outlinewidth": 0,
             "ticks": ""
            },
            "type": "contourcarpet"
           }
          ],
          "heatmap": [
           {
            "colorbar": {
             "outlinewidth": 0,
             "ticks": ""
            },
            "colorscale": [
             [
              0,
              "#0d0887"
             ],
             [
              0.1111111111111111,
              "#46039f"
             ],
             [
              0.2222222222222222,
              "#7201a8"
             ],
             [
              0.3333333333333333,
              "#9c179e"
             ],
             [
              0.4444444444444444,
              "#bd3786"
             ],
             [
              0.5555555555555556,
              "#d8576b"
             ],
             [
              0.6666666666666666,
              "#ed7953"
             ],
             [
              0.7777777777777778,
              "#fb9f3a"
             ],
             [
              0.8888888888888888,
              "#fdca26"
             ],
             [
              1,
              "#f0f921"
             ]
            ],
            "type": "heatmap"
           }
          ],
          "heatmapgl": [
           {
            "colorbar": {
             "outlinewidth": 0,
             "ticks": ""
            },
            "colorscale": [
             [
              0,
              "#0d0887"
             ],
             [
              0.1111111111111111,
              "#46039f"
             ],
             [
              0.2222222222222222,
              "#7201a8"
             ],
             [
              0.3333333333333333,
              "#9c179e"
             ],
             [
              0.4444444444444444,
              "#bd3786"
             ],
             [
              0.5555555555555556,
              "#d8576b"
             ],
             [
              0.6666666666666666,
              "#ed7953"
             ],
             [
              0.7777777777777778,
              "#fb9f3a"
             ],
             [
              0.8888888888888888,
              "#fdca26"
             ],
             [
              1,
              "#f0f921"
             ]
            ],
            "type": "heatmapgl"
           }
          ],
          "histogram": [
           {
            "marker": {
             "pattern": {
              "fillmode": "overlay",
              "size": 10,
              "solidity": 0.2
             }
            },
            "type": "histogram"
           }
          ],
          "histogram2d": [
           {
            "colorbar": {
             "outlinewidth": 0,
             "ticks": ""
            },
            "colorscale": [
             [
              0,
              "#0d0887"
             ],
             [
              0.1111111111111111,
              "#46039f"
             ],
             [
              0.2222222222222222,
              "#7201a8"
             ],
             [
              0.3333333333333333,
              "#9c179e"
             ],
             [
              0.4444444444444444,
              "#bd3786"
             ],
             [
              0.5555555555555556,
              "#d8576b"
             ],
             [
              0.6666666666666666,
              "#ed7953"
             ],
             [
              0.7777777777777778,
              "#fb9f3a"
             ],
             [
              0.8888888888888888,
              "#fdca26"
             ],
             [
              1,
              "#f0f921"
             ]
            ],
            "type": "histogram2d"
           }
          ],
          "histogram2dcontour": [
           {
            "colorbar": {
             "outlinewidth": 0,
             "ticks": ""
            },
            "colorscale": [
             [
              0,
              "#0d0887"
             ],
             [
              0.1111111111111111,
              "#46039f"
             ],
             [
              0.2222222222222222,
              "#7201a8"
             ],
             [
              0.3333333333333333,
              "#9c179e"
             ],
             [
              0.4444444444444444,
              "#bd3786"
             ],
             [
              0.5555555555555556,
              "#d8576b"
             ],
             [
              0.6666666666666666,
              "#ed7953"
             ],
             [
              0.7777777777777778,
              "#fb9f3a"
             ],
             [
              0.8888888888888888,
              "#fdca26"
             ],
             [
              1,
              "#f0f921"
             ]
            ],
            "type": "histogram2dcontour"
           }
          ],
          "mesh3d": [
           {
            "colorbar": {
             "outlinewidth": 0,
             "ticks": ""
            },
            "type": "mesh3d"
           }
          ],
          "parcoords": [
           {
            "line": {
             "colorbar": {
              "outlinewidth": 0,
              "ticks": ""
             }
            },
            "type": "parcoords"
           }
          ],
          "pie": [
           {
            "automargin": true,
            "type": "pie"
           }
          ],
          "scatter": [
           {
            "fillpattern": {
             "fillmode": "overlay",
             "size": 10,
             "solidity": 0.2
            },
            "type": "scatter"
           }
          ],
          "scatter3d": [
           {
            "line": {
             "colorbar": {
              "outlinewidth": 0,
              "ticks": ""
             }
            },
            "marker": {
             "colorbar": {
              "outlinewidth": 0,
              "ticks": ""
             }
            },
            "type": "scatter3d"
           }
          ],
          "scattercarpet": [
           {
            "marker": {
             "colorbar": {
              "outlinewidth": 0,
              "ticks": ""
             }
            },
            "type": "scattercarpet"
           }
          ],
          "scattergeo": [
           {
            "marker": {
             "colorbar": {
              "outlinewidth": 0,
              "ticks": ""
             }
            },
            "type": "scattergeo"
           }
          ],
          "scattergl": [
           {
            "marker": {
             "colorbar": {
              "outlinewidth": 0,
              "ticks": ""
             }
            },
            "type": "scattergl"
           }
          ],
          "scattermapbox": [
           {
            "marker": {
             "colorbar": {
              "outlinewidth": 0,
              "ticks": ""
             }
            },
            "type": "scattermapbox"
           }
          ],
          "scatterpolar": [
           {
            "marker": {
             "colorbar": {
              "outlinewidth": 0,
              "ticks": ""
             }
            },
            "type": "scatterpolar"
           }
          ],
          "scatterpolargl": [
           {
            "marker": {
             "colorbar": {
              "outlinewidth": 0,
              "ticks": ""
             }
            },
            "type": "scatterpolargl"
           }
          ],
          "scatterternary": [
           {
            "marker": {
             "colorbar": {
              "outlinewidth": 0,
              "ticks": ""
             }
            },
            "type": "scatterternary"
           }
          ],
          "surface": [
           {
            "colorbar": {
             "outlinewidth": 0,
             "ticks": ""
            },
            "colorscale": [
             [
              0,
              "#0d0887"
             ],
             [
              0.1111111111111111,
              "#46039f"
             ],
             [
              0.2222222222222222,
              "#7201a8"
             ],
             [
              0.3333333333333333,
              "#9c179e"
             ],
             [
              0.4444444444444444,
              "#bd3786"
             ],
             [
              0.5555555555555556,
              "#d8576b"
             ],
             [
              0.6666666666666666,
              "#ed7953"
             ],
             [
              0.7777777777777778,
              "#fb9f3a"
             ],
             [
              0.8888888888888888,
              "#fdca26"
             ],
             [
              1,
              "#f0f921"
             ]
            ],
            "type": "surface"
           }
          ],
          "table": [
           {
            "cells": {
             "fill": {
              "color": "#EBF0F8"
             },
             "line": {
              "color": "white"
             }
            },
            "header": {
             "fill": {
              "color": "#C8D4E3"
             },
             "line": {
              "color": "white"
             }
            },
            "type": "table"
           }
          ]
         },
         "layout": {
          "annotationdefaults": {
           "arrowcolor": "#2a3f5f",
           "arrowhead": 0,
           "arrowwidth": 1
          },
          "autotypenumbers": "strict",
          "coloraxis": {
           "colorbar": {
            "outlinewidth": 0,
            "ticks": ""
           }
          },
          "colorscale": {
           "diverging": [
            [
             0,
             "#8e0152"
            ],
            [
             0.1,
             "#c51b7d"
            ],
            [
             0.2,
             "#de77ae"
            ],
            [
             0.3,
             "#f1b6da"
            ],
            [
             0.4,
             "#fde0ef"
            ],
            [
             0.5,
             "#f7f7f7"
            ],
            [
             0.6,
             "#e6f5d0"
            ],
            [
             0.7,
             "#b8e186"
            ],
            [
             0.8,
             "#7fbc41"
            ],
            [
             0.9,
             "#4d9221"
            ],
            [
             1,
             "#276419"
            ]
           ],
           "sequential": [
            [
             0,
             "#0d0887"
            ],
            [
             0.1111111111111111,
             "#46039f"
            ],
            [
             0.2222222222222222,
             "#7201a8"
            ],
            [
             0.3333333333333333,
             "#9c179e"
            ],
            [
             0.4444444444444444,
             "#bd3786"
            ],
            [
             0.5555555555555556,
             "#d8576b"
            ],
            [
             0.6666666666666666,
             "#ed7953"
            ],
            [
             0.7777777777777778,
             "#fb9f3a"
            ],
            [
             0.8888888888888888,
             "#fdca26"
            ],
            [
             1,
             "#f0f921"
            ]
           ],
           "sequentialminus": [
            [
             0,
             "#0d0887"
            ],
            [
             0.1111111111111111,
             "#46039f"
            ],
            [
             0.2222222222222222,
             "#7201a8"
            ],
            [
             0.3333333333333333,
             "#9c179e"
            ],
            [
             0.4444444444444444,
             "#bd3786"
            ],
            [
             0.5555555555555556,
             "#d8576b"
            ],
            [
             0.6666666666666666,
             "#ed7953"
            ],
            [
             0.7777777777777778,
             "#fb9f3a"
            ],
            [
             0.8888888888888888,
             "#fdca26"
            ],
            [
             1,
             "#f0f921"
            ]
           ]
          },
          "colorway": [
           "#636efa",
           "#EF553B",
           "#00cc96",
           "#ab63fa",
           "#FFA15A",
           "#19d3f3",
           "#FF6692",
           "#B6E880",
           "#FF97FF",
           "#FECB52"
          ],
          "font": {
           "color": "#2a3f5f"
          },
          "geo": {
           "bgcolor": "white",
           "lakecolor": "white",
           "landcolor": "#E5ECF6",
           "showlakes": true,
           "showland": true,
           "subunitcolor": "white"
          },
          "hoverlabel": {
           "align": "left"
          },
          "hovermode": "closest",
          "mapbox": {
           "style": "light"
          },
          "paper_bgcolor": "white",
          "plot_bgcolor": "#E5ECF6",
          "polar": {
           "angularaxis": {
            "gridcolor": "white",
            "linecolor": "white",
            "ticks": ""
           },
           "bgcolor": "#E5ECF6",
           "radialaxis": {
            "gridcolor": "white",
            "linecolor": "white",
            "ticks": ""
           }
          },
          "scene": {
           "xaxis": {
            "backgroundcolor": "#E5ECF6",
            "gridcolor": "white",
            "gridwidth": 2,
            "linecolor": "white",
            "showbackground": true,
            "ticks": "",
            "zerolinecolor": "white"
           },
           "yaxis": {
            "backgroundcolor": "#E5ECF6",
            "gridcolor": "white",
            "gridwidth": 2,
            "linecolor": "white",
            "showbackground": true,
            "ticks": "",
            "zerolinecolor": "white"
           },
           "zaxis": {
            "backgroundcolor": "#E5ECF6",
            "gridcolor": "white",
            "gridwidth": 2,
            "linecolor": "white",
            "showbackground": true,
            "ticks": "",
            "zerolinecolor": "white"
           }
          },
          "shapedefaults": {
           "line": {
            "color": "#2a3f5f"
           }
          },
          "ternary": {
           "aaxis": {
            "gridcolor": "white",
            "linecolor": "white",
            "ticks": ""
           },
           "baxis": {
            "gridcolor": "white",
            "linecolor": "white",
            "ticks": ""
           },
           "bgcolor": "#E5ECF6",
           "caxis": {
            "gridcolor": "white",
            "linecolor": "white",
            "ticks": ""
           }
          },
          "title": {
           "x": 0.05
          },
          "xaxis": {
           "automargin": true,
           "gridcolor": "white",
           "linecolor": "white",
           "ticks": "",
           "title": {
            "standoff": 15
           },
           "zerolinecolor": "white",
           "zerolinewidth": 2
          },
          "yaxis": {
           "automargin": true,
           "gridcolor": "white",
           "linecolor": "white",
           "ticks": "",
           "title": {
            "standoff": 15
           },
           "zerolinecolor": "white",
           "zerolinewidth": 2
          }
         }
        },
        "title": {
         "text": "Valeur actualisé des flux du projet"
        }
       }
      }
     },
     "metadata": {},
     "output_type": "display_data"
    }
   ],
   "source": [
    "fig = px.treemap(\n",
    "    de, \n",
    "    path = [px.Constant(\"Ensemble du projet\"), \"Type de flux\", \"Période projet\", \"Année projet\"], \n",
    "    values=\"value\",\n",
    "    maxdepth=3\n",
    ")\n",
    "fig.data[0].textinfo = 'label+value'\n",
    "fig.update_traces(root_color=\"lightgrey\")\n",
    "fig.update_layout(title = \"Valeur actualisé des flux du projet\")\n",
    "fig.show()"
   ]
  },
  {
   "cell_type": "code",
   "execution_count": 40,
   "metadata": {},
   "outputs": [
    {
     "data": {
      "text/plain": [
       "-1334583.1847513954"
      ]
     },
     "execution_count": 40,
     "metadata": {},
     "output_type": "execute_result"
    }
   ],
   "source": [
    "aa = df.loc[\"CAPEX\"]/df.loc[\"Coef. actualisation\"]\n",
    "aa.sum()"
   ]
  },
  {
   "cell_type": "code",
   "execution_count": 41,
   "metadata": {},
   "outputs": [
    {
     "data": {
      "text/plain": [
       "331531.60042677744"
      ]
     },
     "execution_count": 41,
     "metadata": {},
     "output_type": "execute_result"
    }
   ],
   "source": [
    "aa = df.loc[\"Cash Flow\"]/df.loc[\"Coef. actualisation\"]\n",
    "aa.sum()"
   ]
  },
  {
   "cell_type": "code",
   "execution_count": 43,
   "metadata": {},
   "outputs": [],
   "source": [
    "import numpy_financial as npf"
   ]
  },
  {
   "cell_type": "code",
   "execution_count": 48,
   "metadata": {},
   "outputs": [
    {
     "data": {
      "text/plain": [
       "331531.60042677727"
      ]
     },
     "execution_count": 48,
     "metadata": {},
     "output_type": "execute_result"
    }
   ],
   "source": [
    "npf.npv(5/100,df.loc[\"Cash Flow\"])*(1+5/100)**2"
   ]
  },
  {
   "cell_type": "code",
   "execution_count": 45,
   "metadata": {},
   "outputs": [
    {
     "data": {
      "text/plain": [
       "7.30015972674376"
      ]
     },
     "execution_count": 45,
     "metadata": {},
     "output_type": "execute_result"
    }
   ],
   "source": [
    "npf.irr(df.loc[\"Cash Flow\"])*100"
   ]
  }
 ],
 "metadata": {
  "kernelspec": {
   "display_name": "Python 3",
   "language": "python",
   "name": "python3"
  },
  "language_info": {
   "codemirror_mode": {
    "name": "ipython",
    "version": 3
   },
   "file_extension": ".py",
   "mimetype": "text/x-python",
   "name": "python",
   "nbconvert_exporter": "python",
   "pygments_lexer": "ipython3",
   "version": "3.10.2"
  },
  "orig_nbformat": 4,
  "vscode": {
   "interpreter": {
    "hash": "487aeb59b838e470f58a3ecb1b55052a6f8068d9a2c619d70f6c7b7ccef94692"
   }
  }
 },
 "nbformat": 4,
 "nbformat_minor": 2
}
