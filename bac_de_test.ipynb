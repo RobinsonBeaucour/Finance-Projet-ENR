{
 "cells": [
  {
   "cell_type": "code",
   "execution_count": 4,
   "metadata": {},
   "outputs": [],
   "source": [
    "import pandas as pd\n",
    "import numpy as np\n",
    "import numpy_financial as npf\n",
    "import matplotlib.pyplot as plt\n",
    "import plotly.graph_objects as go\n",
    "import plotly.express as px\n",
    "from relife import Weibull\n",
    "pd.options.plotting.backend = \"plotly\""
   ]
  },
  {
   "cell_type": "code",
   "execution_count": 120,
   "metadata": {},
   "outputs": [],
   "source": [
    "class Dette:\n",
    "    def __init__(self,montant,annee_debut,annee_fin):\n",
    "        self.montant = montant\n",
    "        self.annee_debut = annee_debut\n",
    "        self.anne_fin = annee_fin\n",
    "        self.duree = annee_fin - annee_debut\n",
    "        self.remboursement_annuel = montant/(annee_fin - annee_debut)\n",
    "\n",
    "class Capex:\n",
    "    def __init__(self,montant,annee_debut,annee_fin,duree_amortissement):\n",
    "        self.montant = montant\n",
    "        self.annee_debut = annee_debut\n",
    "        self.anne_fin = annee_fin\n",
    "        self.duree = annee_fin - annee_debut\n",
    "        self.cout_annuel = montant/(annee_fin - annee_debut)\n",
    "        self.duree_amortissement = duree_amortissement\n",
    "\n",
    "class Opex:\n",
    "    def __init__(self,montant,annee_debut,annee_fin):\n",
    "        self.montant = montant\n",
    "        self.annee_debut = annee_debut\n",
    "        self.anne_fin = annee_fin\n",
    "        self.duree = annee_fin - annee_debut\n",
    "\n",
    "class Prix_MWh:\n",
    "    def __init__(self,prix_MWh,annee_debut,annee_fin):\n",
    "        self.prix_MWh = prix_MWh\n",
    "        self.annee_debut = annee_debut\n",
    "        self.anne_fin = annee_fin\n",
    "\n",
    "class Production:\n",
    "    def __init__(self,Nb_heures,capacite,annee_debut,annee_fin):\n",
    "        self.Nb_heures = Nb_heures\n",
    "        self.capacite = capacite\n",
    "        self.production = capacite * Nb_heures\n",
    "        self.annee_debut = annee_debut\n",
    "        self.anne_fin = annee_fin"
   ]
  },
  {
   "cell_type": "code",
   "execution_count": 121,
   "metadata": {},
   "outputs": [],
   "source": [
    "annee_debut_projet = -2\n",
    "annee_fin_projet = 30\n",
    "\n",
    "list_capex = [Capex(-1200000,-2,0,10),Capex(-1200000/12,15,17,5)]\n",
    "list_opex = [Opex(-1200000*3/100,1,30)]\n",
    "liste_dette = [Dette(1200000/3,-2,10), Dette(1200000/12,5,15)]\n",
    "list_prix_MWh = [Prix_MWh(75,1,15),Prix_MWh(55,16,30)]\n",
    "list_prod = [Production(2200,1,1,30)]\n",
    "\n",
    "taux_actualisation = 5\n",
    "taux_interets = 2\n",
    "capacite = 1\n",
    "prod_annuelle_MWh = 2200\n",
    "Cfd_price = 75\n",
    "taux_imposition = 30/100"
   ]
  },
  {
   "cell_type": "code",
   "execution_count": 124,
   "metadata": {},
   "outputs": [
    {
     "data": {
      "application/vnd.plotly.v1+json": {
       "config": {
        "plotlyServerURL": "https://plot.ly"
       },
       "data": [
        {
         "alignmentgroup": "True",
         "hovertemplate": "variable=CAPEX<br>index=%{x}<br>value=%{y}<extra></extra>",
         "legendgroup": "CAPEX",
         "marker": {
          "color": "#636efa",
          "pattern": {
           "shape": ""
          }
         },
         "name": "CAPEX",
         "offsetgroup": "CAPEX",
         "orientation": "v",
         "showlegend": true,
         "textposition": "auto",
         "type": "bar",
         "x": [
          -2,
          -1,
          0,
          1,
          2,
          3,
          4,
          5,
          6,
          7,
          8,
          9,
          10,
          11,
          12,
          13,
          14,
          15,
          16,
          17,
          18,
          19,
          20,
          21,
          22,
          23,
          24,
          25,
          26,
          27,
          28,
          29,
          30
         ],
         "xaxis": "x",
         "y": [
          -600000,
          -600000,
          -600000,
          0,
          0,
          0,
          0,
          0,
          0,
          0,
          0,
          0,
          0,
          0,
          0,
          0,
          0,
          -50000,
          -50000,
          -50000,
          0,
          0,
          0,
          0,
          0,
          0,
          0,
          0,
          0,
          0,
          0,
          0,
          0
         ],
         "yaxis": "y"
        },
        {
         "alignmentgroup": "True",
         "hovertemplate": "variable=OPEX<br>index=%{x}<br>value=%{y}<extra></extra>",
         "legendgroup": "OPEX",
         "marker": {
          "color": "#EF553B",
          "pattern": {
           "shape": ""
          }
         },
         "name": "OPEX",
         "offsetgroup": "OPEX",
         "orientation": "v",
         "showlegend": true,
         "textposition": "auto",
         "type": "bar",
         "x": [
          -2,
          -1,
          0,
          1,
          2,
          3,
          4,
          5,
          6,
          7,
          8,
          9,
          10,
          11,
          12,
          13,
          14,
          15,
          16,
          17,
          18,
          19,
          20,
          21,
          22,
          23,
          24,
          25,
          26,
          27,
          28,
          29,
          30
         ],
         "xaxis": "x",
         "y": [
          0,
          0,
          0,
          -36000,
          -36000,
          -36000,
          -36000,
          -36000,
          -36000,
          -36000,
          -36000,
          -36000,
          -36000,
          -36000,
          -36000,
          -36000,
          -36000,
          -36000,
          -36000,
          -36000,
          -36000,
          -36000,
          -36000,
          -36000,
          -36000,
          -36000,
          -36000,
          -36000,
          -36000,
          -36000,
          -36000,
          -36000,
          -36000
         ],
         "yaxis": "y"
        },
        {
         "alignmentgroup": "True",
         "hovertemplate": "variable=Revenus<br>index=%{x}<br>value=%{y}<extra></extra>",
         "legendgroup": "Revenus",
         "marker": {
          "color": "#00cc96",
          "pattern": {
           "shape": ""
          }
         },
         "name": "Revenus",
         "offsetgroup": "Revenus",
         "orientation": "v",
         "showlegend": true,
         "textposition": "auto",
         "type": "bar",
         "x": [
          -2,
          -1,
          0,
          1,
          2,
          3,
          4,
          5,
          6,
          7,
          8,
          9,
          10,
          11,
          12,
          13,
          14,
          15,
          16,
          17,
          18,
          19,
          20,
          21,
          22,
          23,
          24,
          25,
          26,
          27,
          28,
          29,
          30
         ],
         "xaxis": "x",
         "y": [
          0,
          0,
          0,
          165000,
          165000,
          165000,
          165000,
          165000,
          165000,
          165000,
          165000,
          165000,
          165000,
          165000,
          165000,
          165000,
          165000,
          165000,
          121000,
          121000,
          121000,
          121000,
          121000,
          121000,
          121000,
          121000,
          121000,
          121000,
          121000,
          121000,
          121000,
          121000,
          121000
         ],
         "yaxis": "y"
        },
        {
         "alignmentgroup": "True",
         "hovertemplate": "variable=Impôts (IS)<br>index=%{x}<br>value=%{y}<extra></extra>",
         "legendgroup": "Impôts (IS)",
         "marker": {
          "color": "#ab63fa",
          "pattern": {
           "shape": ""
          }
         },
         "name": "Impôts (IS)",
         "offsetgroup": "Impôts (IS)",
         "orientation": "v",
         "showlegend": true,
         "textposition": "auto",
         "type": "bar",
         "x": [
          -2,
          -1,
          0,
          1,
          2,
          3,
          4,
          5,
          6,
          7,
          8,
          9,
          10,
          11,
          12,
          13,
          14,
          15,
          16,
          17,
          18,
          19,
          20,
          21,
          22,
          23,
          24,
          25,
          26,
          27,
          28,
          29,
          30
         ],
         "xaxis": "x",
         "y": [
          0,
          0,
          0,
          0,
          0,
          0,
          0,
          0,
          0,
          0,
          0,
          0,
          0,
          -35460,
          -35520,
          -35580,
          -35640,
          -38700,
          -25500,
          -25500,
          -19500,
          -19500,
          -19500,
          -19500,
          -19500,
          -25500,
          -25500,
          -25500,
          -25500,
          -25500,
          -25500,
          -25500,
          -25500
         ],
         "yaxis": "y"
        },
        {
         "marker": {
          "color": "black"
         },
         "name": "Cash Flow",
         "type": "scatter",
         "x": [
          -2,
          -1,
          0,
          1,
          2,
          3,
          4,
          5,
          6,
          7,
          8,
          9,
          10,
          11,
          12,
          13,
          14,
          15,
          16,
          17,
          18,
          19,
          20,
          21,
          22,
          23,
          24,
          25,
          26,
          27,
          28,
          29,
          30
         ],
         "y": [
          -241333.33333333334,
          -640666.6666666667,
          -640000,
          89666.66666666666,
          90333.33333333334,
          91000,
          91666.66666666666,
          180333.33333333334,
          81200,
          82066.66666666666,
          82933.33333333334,
          83800,
          118000,
          82740,
          82880,
          83020,
          83160,
          40300,
          9500,
          9500,
          65500,
          65500,
          65500,
          65500,
          65500,
          59500,
          59500,
          59500,
          59500,
          59500,
          59500,
          59500,
          59500
         ]
        },
        {
         "marker": {
          "color": "orange"
         },
         "name": "Endettement",
         "type": "scatter",
         "x": [
          -2,
          -1,
          0,
          1,
          2,
          3,
          4,
          5,
          6,
          7,
          8,
          9,
          10,
          11,
          12,
          13,
          14,
          15,
          16,
          17,
          18,
          19,
          20,
          21,
          22,
          23,
          24,
          25,
          26,
          27,
          28,
          29,
          30
         ],
         "y": [
          400000,
          366666.6666666667,
          333333.3333333334,
          300000,
          266666.6666666667,
          233333.33333333334,
          200000,
          266666.6666666667,
          223333.33333333334,
          180000,
          136666.6666666667,
          93333.33333333334,
          50000,
          40000,
          30000,
          20000,
          10000,
          0,
          0,
          0,
          0,
          0,
          0,
          0,
          0,
          0,
          0,
          0,
          0,
          0,
          0,
          0,
          0
         ]
        }
       ],
       "layout": {
        "barmode": "relative",
        "hovermode": "x",
        "legend": {
         "title": {
          "text": "variable"
         },
         "tracegroupgap": 0
        },
        "margin": {
         "t": 60
        },
        "template": {
         "data": {
          "bar": [
           {
            "error_x": {
             "color": "#2a3f5f"
            },
            "error_y": {
             "color": "#2a3f5f"
            },
            "marker": {
             "line": {
              "color": "#E5ECF6",
              "width": 0.5
             },
             "pattern": {
              "fillmode": "overlay",
              "size": 10,
              "solidity": 0.2
             }
            },
            "type": "bar"
           }
          ],
          "barpolar": [
           {
            "marker": {
             "line": {
              "color": "#E5ECF6",
              "width": 0.5
             },
             "pattern": {
              "fillmode": "overlay",
              "size": 10,
              "solidity": 0.2
             }
            },
            "type": "barpolar"
           }
          ],
          "carpet": [
           {
            "aaxis": {
             "endlinecolor": "#2a3f5f",
             "gridcolor": "white",
             "linecolor": "white",
             "minorgridcolor": "white",
             "startlinecolor": "#2a3f5f"
            },
            "baxis": {
             "endlinecolor": "#2a3f5f",
             "gridcolor": "white",
             "linecolor": "white",
             "minorgridcolor": "white",
             "startlinecolor": "#2a3f5f"
            },
            "type": "carpet"
           }
          ],
          "choropleth": [
           {
            "colorbar": {
             "outlinewidth": 0,
             "ticks": ""
            },
            "type": "choropleth"
           }
          ],
          "contour": [
           {
            "colorbar": {
             "outlinewidth": 0,
             "ticks": ""
            },
            "colorscale": [
             [
              0,
              "#0d0887"
             ],
             [
              0.1111111111111111,
              "#46039f"
             ],
             [
              0.2222222222222222,
              "#7201a8"
             ],
             [
              0.3333333333333333,
              "#9c179e"
             ],
             [
              0.4444444444444444,
              "#bd3786"
             ],
             [
              0.5555555555555556,
              "#d8576b"
             ],
             [
              0.6666666666666666,
              "#ed7953"
             ],
             [
              0.7777777777777778,
              "#fb9f3a"
             ],
             [
              0.8888888888888888,
              "#fdca26"
             ],
             [
              1,
              "#f0f921"
             ]
            ],
            "type": "contour"
           }
          ],
          "contourcarpet": [
           {
            "colorbar": {
             "outlinewidth": 0,
             "ticks": ""
            },
            "type": "contourcarpet"
           }
          ],
          "heatmap": [
           {
            "colorbar": {
             "outlinewidth": 0,
             "ticks": ""
            },
            "colorscale": [
             [
              0,
              "#0d0887"
             ],
             [
              0.1111111111111111,
              "#46039f"
             ],
             [
              0.2222222222222222,
              "#7201a8"
             ],
             [
              0.3333333333333333,
              "#9c179e"
             ],
             [
              0.4444444444444444,
              "#bd3786"
             ],
             [
              0.5555555555555556,
              "#d8576b"
             ],
             [
              0.6666666666666666,
              "#ed7953"
             ],
             [
              0.7777777777777778,
              "#fb9f3a"
             ],
             [
              0.8888888888888888,
              "#fdca26"
             ],
             [
              1,
              "#f0f921"
             ]
            ],
            "type": "heatmap"
           }
          ],
          "heatmapgl": [
           {
            "colorbar": {
             "outlinewidth": 0,
             "ticks": ""
            },
            "colorscale": [
             [
              0,
              "#0d0887"
             ],
             [
              0.1111111111111111,
              "#46039f"
             ],
             [
              0.2222222222222222,
              "#7201a8"
             ],
             [
              0.3333333333333333,
              "#9c179e"
             ],
             [
              0.4444444444444444,
              "#bd3786"
             ],
             [
              0.5555555555555556,
              "#d8576b"
             ],
             [
              0.6666666666666666,
              "#ed7953"
             ],
             [
              0.7777777777777778,
              "#fb9f3a"
             ],
             [
              0.8888888888888888,
              "#fdca26"
             ],
             [
              1,
              "#f0f921"
             ]
            ],
            "type": "heatmapgl"
           }
          ],
          "histogram": [
           {
            "marker": {
             "pattern": {
              "fillmode": "overlay",
              "size": 10,
              "solidity": 0.2
             }
            },
            "type": "histogram"
           }
          ],
          "histogram2d": [
           {
            "colorbar": {
             "outlinewidth": 0,
             "ticks": ""
            },
            "colorscale": [
             [
              0,
              "#0d0887"
             ],
             [
              0.1111111111111111,
              "#46039f"
             ],
             [
              0.2222222222222222,
              "#7201a8"
             ],
             [
              0.3333333333333333,
              "#9c179e"
             ],
             [
              0.4444444444444444,
              "#bd3786"
             ],
             [
              0.5555555555555556,
              "#d8576b"
             ],
             [
              0.6666666666666666,
              "#ed7953"
             ],
             [
              0.7777777777777778,
              "#fb9f3a"
             ],
             [
              0.8888888888888888,
              "#fdca26"
             ],
             [
              1,
              "#f0f921"
             ]
            ],
            "type": "histogram2d"
           }
          ],
          "histogram2dcontour": [
           {
            "colorbar": {
             "outlinewidth": 0,
             "ticks": ""
            },
            "colorscale": [
             [
              0,
              "#0d0887"
             ],
             [
              0.1111111111111111,
              "#46039f"
             ],
             [
              0.2222222222222222,
              "#7201a8"
             ],
             [
              0.3333333333333333,
              "#9c179e"
             ],
             [
              0.4444444444444444,
              "#bd3786"
             ],
             [
              0.5555555555555556,
              "#d8576b"
             ],
             [
              0.6666666666666666,
              "#ed7953"
             ],
             [
              0.7777777777777778,
              "#fb9f3a"
             ],
             [
              0.8888888888888888,
              "#fdca26"
             ],
             [
              1,
              "#f0f921"
             ]
            ],
            "type": "histogram2dcontour"
           }
          ],
          "mesh3d": [
           {
            "colorbar": {
             "outlinewidth": 0,
             "ticks": ""
            },
            "type": "mesh3d"
           }
          ],
          "parcoords": [
           {
            "line": {
             "colorbar": {
              "outlinewidth": 0,
              "ticks": ""
             }
            },
            "type": "parcoords"
           }
          ],
          "pie": [
           {
            "automargin": true,
            "type": "pie"
           }
          ],
          "scatter": [
           {
            "fillpattern": {
             "fillmode": "overlay",
             "size": 10,
             "solidity": 0.2
            },
            "type": "scatter"
           }
          ],
          "scatter3d": [
           {
            "line": {
             "colorbar": {
              "outlinewidth": 0,
              "ticks": ""
             }
            },
            "marker": {
             "colorbar": {
              "outlinewidth": 0,
              "ticks": ""
             }
            },
            "type": "scatter3d"
           }
          ],
          "scattercarpet": [
           {
            "marker": {
             "colorbar": {
              "outlinewidth": 0,
              "ticks": ""
             }
            },
            "type": "scattercarpet"
           }
          ],
          "scattergeo": [
           {
            "marker": {
             "colorbar": {
              "outlinewidth": 0,
              "ticks": ""
             }
            },
            "type": "scattergeo"
           }
          ],
          "scattergl": [
           {
            "marker": {
             "colorbar": {
              "outlinewidth": 0,
              "ticks": ""
             }
            },
            "type": "scattergl"
           }
          ],
          "scattermapbox": [
           {
            "marker": {
             "colorbar": {
              "outlinewidth": 0,
              "ticks": ""
             }
            },
            "type": "scattermapbox"
           }
          ],
          "scatterpolar": [
           {
            "marker": {
             "colorbar": {
              "outlinewidth": 0,
              "ticks": ""
             }
            },
            "type": "scatterpolar"
           }
          ],
          "scatterpolargl": [
           {
            "marker": {
             "colorbar": {
              "outlinewidth": 0,
              "ticks": ""
             }
            },
            "type": "scatterpolargl"
           }
          ],
          "scatterternary": [
           {
            "marker": {
             "colorbar": {
              "outlinewidth": 0,
              "ticks": ""
             }
            },
            "type": "scatterternary"
           }
          ],
          "surface": [
           {
            "colorbar": {
             "outlinewidth": 0,
             "ticks": ""
            },
            "colorscale": [
             [
              0,
              "#0d0887"
             ],
             [
              0.1111111111111111,
              "#46039f"
             ],
             [
              0.2222222222222222,
              "#7201a8"
             ],
             [
              0.3333333333333333,
              "#9c179e"
             ],
             [
              0.4444444444444444,
              "#bd3786"
             ],
             [
              0.5555555555555556,
              "#d8576b"
             ],
             [
              0.6666666666666666,
              "#ed7953"
             ],
             [
              0.7777777777777778,
              "#fb9f3a"
             ],
             [
              0.8888888888888888,
              "#fdca26"
             ],
             [
              1,
              "#f0f921"
             ]
            ],
            "type": "surface"
           }
          ],
          "table": [
           {
            "cells": {
             "fill": {
              "color": "#EBF0F8"
             },
             "line": {
              "color": "white"
             }
            },
            "header": {
             "fill": {
              "color": "#C8D4E3"
             },
             "line": {
              "color": "white"
             }
            },
            "type": "table"
           }
          ]
         },
         "layout": {
          "annotationdefaults": {
           "arrowcolor": "#2a3f5f",
           "arrowhead": 0,
           "arrowwidth": 1
          },
          "autotypenumbers": "strict",
          "coloraxis": {
           "colorbar": {
            "outlinewidth": 0,
            "ticks": ""
           }
          },
          "colorscale": {
           "diverging": [
            [
             0,
             "#8e0152"
            ],
            [
             0.1,
             "#c51b7d"
            ],
            [
             0.2,
             "#de77ae"
            ],
            [
             0.3,
             "#f1b6da"
            ],
            [
             0.4,
             "#fde0ef"
            ],
            [
             0.5,
             "#f7f7f7"
            ],
            [
             0.6,
             "#e6f5d0"
            ],
            [
             0.7,
             "#b8e186"
            ],
            [
             0.8,
             "#7fbc41"
            ],
            [
             0.9,
             "#4d9221"
            ],
            [
             1,
             "#276419"
            ]
           ],
           "sequential": [
            [
             0,
             "#0d0887"
            ],
            [
             0.1111111111111111,
             "#46039f"
            ],
            [
             0.2222222222222222,
             "#7201a8"
            ],
            [
             0.3333333333333333,
             "#9c179e"
            ],
            [
             0.4444444444444444,
             "#bd3786"
            ],
            [
             0.5555555555555556,
             "#d8576b"
            ],
            [
             0.6666666666666666,
             "#ed7953"
            ],
            [
             0.7777777777777778,
             "#fb9f3a"
            ],
            [
             0.8888888888888888,
             "#fdca26"
            ],
            [
             1,
             "#f0f921"
            ]
           ],
           "sequentialminus": [
            [
             0,
             "#0d0887"
            ],
            [
             0.1111111111111111,
             "#46039f"
            ],
            [
             0.2222222222222222,
             "#7201a8"
            ],
            [
             0.3333333333333333,
             "#9c179e"
            ],
            [
             0.4444444444444444,
             "#bd3786"
            ],
            [
             0.5555555555555556,
             "#d8576b"
            ],
            [
             0.6666666666666666,
             "#ed7953"
            ],
            [
             0.7777777777777778,
             "#fb9f3a"
            ],
            [
             0.8888888888888888,
             "#fdca26"
            ],
            [
             1,
             "#f0f921"
            ]
           ]
          },
          "colorway": [
           "#636efa",
           "#EF553B",
           "#00cc96",
           "#ab63fa",
           "#FFA15A",
           "#19d3f3",
           "#FF6692",
           "#B6E880",
           "#FF97FF",
           "#FECB52"
          ],
          "font": {
           "color": "#2a3f5f"
          },
          "geo": {
           "bgcolor": "white",
           "lakecolor": "white",
           "landcolor": "#E5ECF6",
           "showlakes": true,
           "showland": true,
           "subunitcolor": "white"
          },
          "hoverlabel": {
           "align": "left"
          },
          "hovermode": "closest",
          "mapbox": {
           "style": "light"
          },
          "paper_bgcolor": "white",
          "plot_bgcolor": "#E5ECF6",
          "polar": {
           "angularaxis": {
            "gridcolor": "white",
            "linecolor": "white",
            "ticks": ""
           },
           "bgcolor": "#E5ECF6",
           "radialaxis": {
            "gridcolor": "white",
            "linecolor": "white",
            "ticks": ""
           }
          },
          "scene": {
           "xaxis": {
            "backgroundcolor": "#E5ECF6",
            "gridcolor": "white",
            "gridwidth": 2,
            "linecolor": "white",
            "showbackground": true,
            "ticks": "",
            "zerolinecolor": "white"
           },
           "yaxis": {
            "backgroundcolor": "#E5ECF6",
            "gridcolor": "white",
            "gridwidth": 2,
            "linecolor": "white",
            "showbackground": true,
            "ticks": "",
            "zerolinecolor": "white"
           },
           "zaxis": {
            "backgroundcolor": "#E5ECF6",
            "gridcolor": "white",
            "gridwidth": 2,
            "linecolor": "white",
            "showbackground": true,
            "ticks": "",
            "zerolinecolor": "white"
           }
          },
          "shapedefaults": {
           "line": {
            "color": "#2a3f5f"
           }
          },
          "ternary": {
           "aaxis": {
            "gridcolor": "white",
            "linecolor": "white",
            "ticks": ""
           },
           "baxis": {
            "gridcolor": "white",
            "linecolor": "white",
            "ticks": ""
           },
           "bgcolor": "#E5ECF6",
           "caxis": {
            "gridcolor": "white",
            "linecolor": "white",
            "ticks": ""
           }
          },
          "title": {
           "x": 0.05
          },
          "xaxis": {
           "automargin": true,
           "gridcolor": "white",
           "linecolor": "white",
           "ticks": "",
           "title": {
            "standoff": 15
           },
           "zerolinecolor": "white",
           "zerolinewidth": 2
          },
          "yaxis": {
           "automargin": true,
           "gridcolor": "white",
           "linecolor": "white",
           "ticks": "",
           "title": {
            "standoff": 15
           },
           "zerolinecolor": "white",
           "zerolinewidth": 2
          }
         }
        },
        "xaxis": {
         "anchor": "y",
         "domain": [
          0,
          1
         ],
         "title": {
          "text": "index"
         }
        },
        "yaxis": {
         "anchor": "x",
         "domain": [
          0,
          1
         ],
         "title": {
          "text": "value"
         }
        }
       }
      }
     },
     "metadata": {},
     "output_type": "display_data"
    }
   ],
   "source": [
    "df = pd.DataFrame(columns=[k for k in range(annee_debut_projet,annee_fin_projet+1)])\n",
    "df.loc[\"Coef. actualisation\"] = [(1+taux_actualisation/100)**k for k in df.columns]\n",
    "\n",
    "df.loc[\"CAPEX\"] = 0\n",
    "for capex in list_capex:\n",
    "    df.loc[\"CAPEX\",capex.annee_debut:capex.anne_fin] += capex.cout_annuel\n",
    "\n",
    "df.loc[\"OPEX\"] = 0\n",
    "for opex in list_opex:\n",
    "    df.loc[\"OPEX\",opex.annee_debut:opex.anne_fin] += opex.montant\n",
    "\n",
    "df.loc[\"Prod. (MWh)\"] = 0\n",
    "for prod in list_prod:\n",
    "    df.loc[\"Prod. (MWh)\",prod.annee_debut:prod.anne_fin] = prod.production\n",
    "\n",
    "df.loc[\"Revenus\"] = 0\n",
    "for prix_MWh in list_prix_MWh:\n",
    "    df.loc[\"Revenus\",prix_MWh.annee_debut:prix_MWh.anne_fin] += prix_MWh.prix_MWh * df.loc[\"Prod. (MWh)\",prix_MWh.annee_debut:prix_MWh.anne_fin]\n",
    "\n",
    "df.loc[\"EBITDA\"] = df.loc[[\"OPEX\",\"Revenus\"]].sum()\n",
    "\n",
    "df.loc[\"Amortissements\"] = 0\n",
    "for capex in list_capex:\n",
    "    df.loc[\"Amortissements\",capex.anne_fin+1:capex.anne_fin+capex.duree_amortissement] += capex.montant/capex.duree_amortissement\n",
    "df.loc[\"EBIT\"] = df.loc[[\"EBITDA\",\"Amortissements\"]].sum()\n",
    "\n",
    "df.loc[\"Dette BOP\"] = 0\n",
    "df.loc[\"Tirage\"]    = 0\n",
    "df.loc[\"Dette EOP\"] = 0\n",
    "df.loc[\"Remboursement\"] = 0\n",
    "\n",
    "for dette in liste_dette:\n",
    "    df.loc[\"Dette BOP\",dette.annee_debut:dette.anne_fin-1] += [dette.remboursement_annuel * (dette.duree - k) for k in range(dette.duree)]\n",
    "    df.loc[\"Tirage\",dette.annee_debut] += dette.montant\n",
    "    df.loc[\"Remboursement\",dette.annee_debut:dette.anne_fin-1] += - dette.remboursement_annuel\n",
    "    df.loc[\"Dette EOP\"] = df.loc[[\"Dette BOP\", \"Remboursement\"]].sum()\n",
    "    df.loc[\"Intérêts financiers\"] = - df.loc[\"Dette BOP\"] * 2 / 100\n",
    "\n",
    "df.loc[\"Résultat avant IS\"] = df.loc[[\"EBIT\",\"Intérêts financiers\",\"Remboursement\"]].sum()\n",
    "df.loc[\"Impôts (IS)\"] = - df.loc[\"Résultat avant IS\"].apply(lambda x : 0 if x < 0 else x) * taux_imposition\n",
    "df.loc[\"Résultat net\"] = df.loc[[\"Résultat avant IS\",\"Impôts (IS)\"]].sum()\n",
    "df.loc[\"Cash Flow\"] = df.loc[[\"OPEX\",\"CAPEX\",\"Revenus\",\"Intérêts financiers\", \"Impôts (IS)\",\"Tirage\",\"Remboursement\"]].sum()\n",
    "df.loc[\"DSCR\"] = -df.loc[[\"EBITDA\",\"Impôts (IS)\"]].sum()/df.loc[[\"Intérêts financiers\",\"Remboursement\"]].sum()\n",
    "\n",
    "fig = df.transpose().plot(kind = \"bar\", y = [\"CAPEX\",\"OPEX\",\"Revenus\",\"Impôts (IS)\"]).update_layout(hovermode='x')\n",
    "fig.add_trace(\n",
    "    go.Scatter(\n",
    "        x = df.columns,\n",
    "        y = df.loc[\"Cash Flow\"],\n",
    "        name = \"Cash Flow\",\n",
    "        marker_color = \"black\"\n",
    "    )\n",
    ")\n",
    "fig.add_trace(\n",
    "    go.Scatter(\n",
    "        x = df.columns,\n",
    "        y = df.loc[\"Dette BOP\"],\n",
    "        name = \"Endettement\",\n",
    "        marker_color = \"orange\"\n",
    "    )\n",
    ")"
   ]
  },
  {
   "cell_type": "code",
   "execution_count": 105,
   "metadata": {},
   "outputs": [
    {
     "data": {
      "application/vnd.plotly.v1+json": {
       "config": {
        "plotlyServerURL": "https://plot.ly"
       },
       "data": [
        {
         "alignmentgroup": "True",
         "hovertemplate": "variable=Dette BOP<br>index=%{x}<br>value=%{y}<extra></extra>",
         "legendgroup": "Dette BOP",
         "marker": {
          "color": "#636efa",
          "pattern": {
           "shape": ""
          }
         },
         "name": "Dette BOP",
         "offsetgroup": "Dette BOP",
         "orientation": "v",
         "showlegend": true,
         "textposition": "auto",
         "type": "bar",
         "x": [
          -2,
          -1,
          0,
          1,
          2,
          3,
          4,
          5,
          6,
          7,
          8,
          9,
          10,
          11,
          12,
          13,
          14,
          15,
          16,
          17,
          18,
          19,
          20,
          21,
          22,
          23,
          24,
          25,
          26,
          27,
          28,
          29,
          30
         ],
         "xaxis": "x",
         "y": [
          400000,
          366666.6666666667,
          333333.3333333334,
          300000,
          266666.6666666667,
          233333.33333333334,
          200000,
          266666.6666666667,
          223333.33333333334,
          180000,
          136666.6666666667,
          93333.33333333334,
          50000,
          40000,
          30000,
          20000,
          10000,
          0,
          0,
          0,
          0,
          0,
          0,
          0,
          0,
          0,
          0,
          0,
          0,
          0,
          0,
          0,
          0
         ],
         "yaxis": "y"
        },
        {
         "alignmentgroup": "True",
         "hovertemplate": "variable=Dette EOP<br>index=%{x}<br>value=%{y}<extra></extra>",
         "legendgroup": "Dette EOP",
         "marker": {
          "color": "#EF553B",
          "pattern": {
           "shape": ""
          }
         },
         "name": "Dette EOP",
         "offsetgroup": "Dette EOP",
         "orientation": "v",
         "showlegend": true,
         "textposition": "auto",
         "type": "bar",
         "x": [
          -2,
          -1,
          0,
          1,
          2,
          3,
          4,
          5,
          6,
          7,
          8,
          9,
          10,
          11,
          12,
          13,
          14,
          15,
          16,
          17,
          18,
          19,
          20,
          21,
          22,
          23,
          24,
          25,
          26,
          27,
          28,
          29,
          30
         ],
         "xaxis": "x",
         "y": [
          366666.6666666667,
          333333.3333333334,
          300000.00000000006,
          266666.6666666667,
          233333.33333333334,
          200000,
          166666.66666666666,
          223333.33333333334,
          180000,
          136666.66666666666,
          93333.33333333334,
          50000.00000000001,
          40000,
          30000,
          20000,
          10000,
          0,
          0,
          0,
          0,
          0,
          0,
          0,
          0,
          0,
          0,
          0,
          0,
          0,
          0,
          0,
          0,
          0
         ],
         "yaxis": "y"
        },
        {
         "alignmentgroup": "True",
         "hovertemplate": "variable=Intérêts financiers<br>index=%{x}<br>value=%{y}<extra></extra>",
         "legendgroup": "Intérêts financiers",
         "marker": {
          "color": "#00cc96",
          "pattern": {
           "shape": ""
          }
         },
         "name": "Intérêts financiers",
         "offsetgroup": "Intérêts financiers",
         "orientation": "v",
         "showlegend": true,
         "textposition": "auto",
         "type": "bar",
         "x": [
          -2,
          -1,
          0,
          1,
          2,
          3,
          4,
          5,
          6,
          7,
          8,
          9,
          10,
          11,
          12,
          13,
          14,
          15,
          16,
          17,
          18,
          19,
          20,
          21,
          22,
          23,
          24,
          25,
          26,
          27,
          28,
          29,
          30
         ],
         "xaxis": "x",
         "y": [
          -8000,
          -7333.333333333334,
          -6666.666666666668,
          -6000,
          -5333.333333333334,
          -4666.666666666667,
          -4000,
          -5333.333333333334,
          -4466.666666666667,
          -3600,
          -2733.333333333334,
          -1866.666666666667,
          -1000,
          -800,
          -600,
          -400,
          -200,
          0,
          0,
          0,
          0,
          0,
          0,
          0,
          0,
          0,
          0,
          0,
          0,
          0,
          0,
          0,
          0
         ],
         "yaxis": "y"
        },
        {
         "alignmentgroup": "True",
         "hovertemplate": "variable=Remboursement<br>index=%{x}<br>value=%{y}<extra></extra>",
         "legendgroup": "Remboursement",
         "marker": {
          "color": "#ab63fa",
          "pattern": {
           "shape": ""
          }
         },
         "name": "Remboursement",
         "offsetgroup": "Remboursement",
         "orientation": "v",
         "showlegend": true,
         "textposition": "auto",
         "type": "bar",
         "x": [
          -2,
          -1,
          0,
          1,
          2,
          3,
          4,
          5,
          6,
          7,
          8,
          9,
          10,
          11,
          12,
          13,
          14,
          15,
          16,
          17,
          18,
          19,
          20,
          21,
          22,
          23,
          24,
          25,
          26,
          27,
          28,
          29,
          30
         ],
         "xaxis": "x",
         "y": [
          -33333.333333333336,
          -33333.333333333336,
          -33333.333333333336,
          -33333.333333333336,
          -33333.333333333336,
          -33333.333333333336,
          -33333.333333333336,
          -43333.333333333336,
          -43333.333333333336,
          -43333.333333333336,
          -43333.333333333336,
          -43333.333333333336,
          -10000,
          -10000,
          -10000,
          -10000,
          -10000,
          0,
          0,
          0,
          0,
          0,
          0,
          0,
          0,
          0,
          0,
          0,
          0,
          0,
          0,
          0,
          0
         ],
         "yaxis": "y"
        },
        {
         "alignmentgroup": "True",
         "hovertemplate": "variable=Tirage<br>index=%{x}<br>value=%{y}<extra></extra>",
         "legendgroup": "Tirage",
         "marker": {
          "color": "#FFA15A",
          "pattern": {
           "shape": ""
          }
         },
         "name": "Tirage",
         "offsetgroup": "Tirage",
         "orientation": "v",
         "showlegend": true,
         "textposition": "auto",
         "type": "bar",
         "x": [
          -2,
          -1,
          0,
          1,
          2,
          3,
          4,
          5,
          6,
          7,
          8,
          9,
          10,
          11,
          12,
          13,
          14,
          15,
          16,
          17,
          18,
          19,
          20,
          21,
          22,
          23,
          24,
          25,
          26,
          27,
          28,
          29,
          30
         ],
         "xaxis": "x",
         "y": [
          400000,
          0,
          0,
          0,
          0,
          0,
          0,
          100000,
          0,
          0,
          0,
          0,
          0,
          0,
          0,
          0,
          0,
          0,
          0,
          0,
          0,
          0,
          0,
          0,
          0,
          0,
          0,
          0,
          0,
          0,
          0,
          0,
          0
         ],
         "yaxis": "y"
        }
       ],
       "layout": {
        "barmode": "group",
        "hovermode": "x",
        "legend": {
         "title": {
          "text": "variable"
         },
         "tracegroupgap": 0
        },
        "margin": {
         "t": 60
        },
        "template": {
         "data": {
          "bar": [
           {
            "error_x": {
             "color": "#2a3f5f"
            },
            "error_y": {
             "color": "#2a3f5f"
            },
            "marker": {
             "line": {
              "color": "#E5ECF6",
              "width": 0.5
             },
             "pattern": {
              "fillmode": "overlay",
              "size": 10,
              "solidity": 0.2
             }
            },
            "type": "bar"
           }
          ],
          "barpolar": [
           {
            "marker": {
             "line": {
              "color": "#E5ECF6",
              "width": 0.5
             },
             "pattern": {
              "fillmode": "overlay",
              "size": 10,
              "solidity": 0.2
             }
            },
            "type": "barpolar"
           }
          ],
          "carpet": [
           {
            "aaxis": {
             "endlinecolor": "#2a3f5f",
             "gridcolor": "white",
             "linecolor": "white",
             "minorgridcolor": "white",
             "startlinecolor": "#2a3f5f"
            },
            "baxis": {
             "endlinecolor": "#2a3f5f",
             "gridcolor": "white",
             "linecolor": "white",
             "minorgridcolor": "white",
             "startlinecolor": "#2a3f5f"
            },
            "type": "carpet"
           }
          ],
          "choropleth": [
           {
            "colorbar": {
             "outlinewidth": 0,
             "ticks": ""
            },
            "type": "choropleth"
           }
          ],
          "contour": [
           {
            "colorbar": {
             "outlinewidth": 0,
             "ticks": ""
            },
            "colorscale": [
             [
              0,
              "#0d0887"
             ],
             [
              0.1111111111111111,
              "#46039f"
             ],
             [
              0.2222222222222222,
              "#7201a8"
             ],
             [
              0.3333333333333333,
              "#9c179e"
             ],
             [
              0.4444444444444444,
              "#bd3786"
             ],
             [
              0.5555555555555556,
              "#d8576b"
             ],
             [
              0.6666666666666666,
              "#ed7953"
             ],
             [
              0.7777777777777778,
              "#fb9f3a"
             ],
             [
              0.8888888888888888,
              "#fdca26"
             ],
             [
              1,
              "#f0f921"
             ]
            ],
            "type": "contour"
           }
          ],
          "contourcarpet": [
           {
            "colorbar": {
             "outlinewidth": 0,
             "ticks": ""
            },
            "type": "contourcarpet"
           }
          ],
          "heatmap": [
           {
            "colorbar": {
             "outlinewidth": 0,
             "ticks": ""
            },
            "colorscale": [
             [
              0,
              "#0d0887"
             ],
             [
              0.1111111111111111,
              "#46039f"
             ],
             [
              0.2222222222222222,
              "#7201a8"
             ],
             [
              0.3333333333333333,
              "#9c179e"
             ],
             [
              0.4444444444444444,
              "#bd3786"
             ],
             [
              0.5555555555555556,
              "#d8576b"
             ],
             [
              0.6666666666666666,
              "#ed7953"
             ],
             [
              0.7777777777777778,
              "#fb9f3a"
             ],
             [
              0.8888888888888888,
              "#fdca26"
             ],
             [
              1,
              "#f0f921"
             ]
            ],
            "type": "heatmap"
           }
          ],
          "heatmapgl": [
           {
            "colorbar": {
             "outlinewidth": 0,
             "ticks": ""
            },
            "colorscale": [
             [
              0,
              "#0d0887"
             ],
             [
              0.1111111111111111,
              "#46039f"
             ],
             [
              0.2222222222222222,
              "#7201a8"
             ],
             [
              0.3333333333333333,
              "#9c179e"
             ],
             [
              0.4444444444444444,
              "#bd3786"
             ],
             [
              0.5555555555555556,
              "#d8576b"
             ],
             [
              0.6666666666666666,
              "#ed7953"
             ],
             [
              0.7777777777777778,
              "#fb9f3a"
             ],
             [
              0.8888888888888888,
              "#fdca26"
             ],
             [
              1,
              "#f0f921"
             ]
            ],
            "type": "heatmapgl"
           }
          ],
          "histogram": [
           {
            "marker": {
             "pattern": {
              "fillmode": "overlay",
              "size": 10,
              "solidity": 0.2
             }
            },
            "type": "histogram"
           }
          ],
          "histogram2d": [
           {
            "colorbar": {
             "outlinewidth": 0,
             "ticks": ""
            },
            "colorscale": [
             [
              0,
              "#0d0887"
             ],
             [
              0.1111111111111111,
              "#46039f"
             ],
             [
              0.2222222222222222,
              "#7201a8"
             ],
             [
              0.3333333333333333,
              "#9c179e"
             ],
             [
              0.4444444444444444,
              "#bd3786"
             ],
             [
              0.5555555555555556,
              "#d8576b"
             ],
             [
              0.6666666666666666,
              "#ed7953"
             ],
             [
              0.7777777777777778,
              "#fb9f3a"
             ],
             [
              0.8888888888888888,
              "#fdca26"
             ],
             [
              1,
              "#f0f921"
             ]
            ],
            "type": "histogram2d"
           }
          ],
          "histogram2dcontour": [
           {
            "colorbar": {
             "outlinewidth": 0,
             "ticks": ""
            },
            "colorscale": [
             [
              0,
              "#0d0887"
             ],
             [
              0.1111111111111111,
              "#46039f"
             ],
             [
              0.2222222222222222,
              "#7201a8"
             ],
             [
              0.3333333333333333,
              "#9c179e"
             ],
             [
              0.4444444444444444,
              "#bd3786"
             ],
             [
              0.5555555555555556,
              "#d8576b"
             ],
             [
              0.6666666666666666,
              "#ed7953"
             ],
             [
              0.7777777777777778,
              "#fb9f3a"
             ],
             [
              0.8888888888888888,
              "#fdca26"
             ],
             [
              1,
              "#f0f921"
             ]
            ],
            "type": "histogram2dcontour"
           }
          ],
          "mesh3d": [
           {
            "colorbar": {
             "outlinewidth": 0,
             "ticks": ""
            },
            "type": "mesh3d"
           }
          ],
          "parcoords": [
           {
            "line": {
             "colorbar": {
              "outlinewidth": 0,
              "ticks": ""
             }
            },
            "type": "parcoords"
           }
          ],
          "pie": [
           {
            "automargin": true,
            "type": "pie"
           }
          ],
          "scatter": [
           {
            "fillpattern": {
             "fillmode": "overlay",
             "size": 10,
             "solidity": 0.2
            },
            "type": "scatter"
           }
          ],
          "scatter3d": [
           {
            "line": {
             "colorbar": {
              "outlinewidth": 0,
              "ticks": ""
             }
            },
            "marker": {
             "colorbar": {
              "outlinewidth": 0,
              "ticks": ""
             }
            },
            "type": "scatter3d"
           }
          ],
          "scattercarpet": [
           {
            "marker": {
             "colorbar": {
              "outlinewidth": 0,
              "ticks": ""
             }
            },
            "type": "scattercarpet"
           }
          ],
          "scattergeo": [
           {
            "marker": {
             "colorbar": {
              "outlinewidth": 0,
              "ticks": ""
             }
            },
            "type": "scattergeo"
           }
          ],
          "scattergl": [
           {
            "marker": {
             "colorbar": {
              "outlinewidth": 0,
              "ticks": ""
             }
            },
            "type": "scattergl"
           }
          ],
          "scattermapbox": [
           {
            "marker": {
             "colorbar": {
              "outlinewidth": 0,
              "ticks": ""
             }
            },
            "type": "scattermapbox"
           }
          ],
          "scatterpolar": [
           {
            "marker": {
             "colorbar": {
              "outlinewidth": 0,
              "ticks": ""
             }
            },
            "type": "scatterpolar"
           }
          ],
          "scatterpolargl": [
           {
            "marker": {
             "colorbar": {
              "outlinewidth": 0,
              "ticks": ""
             }
            },
            "type": "scatterpolargl"
           }
          ],
          "scatterternary": [
           {
            "marker": {
             "colorbar": {
              "outlinewidth": 0,
              "ticks": ""
             }
            },
            "type": "scatterternary"
           }
          ],
          "surface": [
           {
            "colorbar": {
             "outlinewidth": 0,
             "ticks": ""
            },
            "colorscale": [
             [
              0,
              "#0d0887"
             ],
             [
              0.1111111111111111,
              "#46039f"
             ],
             [
              0.2222222222222222,
              "#7201a8"
             ],
             [
              0.3333333333333333,
              "#9c179e"
             ],
             [
              0.4444444444444444,
              "#bd3786"
             ],
             [
              0.5555555555555556,
              "#d8576b"
             ],
             [
              0.6666666666666666,
              "#ed7953"
             ],
             [
              0.7777777777777778,
              "#fb9f3a"
             ],
             [
              0.8888888888888888,
              "#fdca26"
             ],
             [
              1,
              "#f0f921"
             ]
            ],
            "type": "surface"
           }
          ],
          "table": [
           {
            "cells": {
             "fill": {
              "color": "#EBF0F8"
             },
             "line": {
              "color": "white"
             }
            },
            "header": {
             "fill": {
              "color": "#C8D4E3"
             },
             "line": {
              "color": "white"
             }
            },
            "type": "table"
           }
          ]
         },
         "layout": {
          "annotationdefaults": {
           "arrowcolor": "#2a3f5f",
           "arrowhead": 0,
           "arrowwidth": 1
          },
          "autotypenumbers": "strict",
          "coloraxis": {
           "colorbar": {
            "outlinewidth": 0,
            "ticks": ""
           }
          },
          "colorscale": {
           "diverging": [
            [
             0,
             "#8e0152"
            ],
            [
             0.1,
             "#c51b7d"
            ],
            [
             0.2,
             "#de77ae"
            ],
            [
             0.3,
             "#f1b6da"
            ],
            [
             0.4,
             "#fde0ef"
            ],
            [
             0.5,
             "#f7f7f7"
            ],
            [
             0.6,
             "#e6f5d0"
            ],
            [
             0.7,
             "#b8e186"
            ],
            [
             0.8,
             "#7fbc41"
            ],
            [
             0.9,
             "#4d9221"
            ],
            [
             1,
             "#276419"
            ]
           ],
           "sequential": [
            [
             0,
             "#0d0887"
            ],
            [
             0.1111111111111111,
             "#46039f"
            ],
            [
             0.2222222222222222,
             "#7201a8"
            ],
            [
             0.3333333333333333,
             "#9c179e"
            ],
            [
             0.4444444444444444,
             "#bd3786"
            ],
            [
             0.5555555555555556,
             "#d8576b"
            ],
            [
             0.6666666666666666,
             "#ed7953"
            ],
            [
             0.7777777777777778,
             "#fb9f3a"
            ],
            [
             0.8888888888888888,
             "#fdca26"
            ],
            [
             1,
             "#f0f921"
            ]
           ],
           "sequentialminus": [
            [
             0,
             "#0d0887"
            ],
            [
             0.1111111111111111,
             "#46039f"
            ],
            [
             0.2222222222222222,
             "#7201a8"
            ],
            [
             0.3333333333333333,
             "#9c179e"
            ],
            [
             0.4444444444444444,
             "#bd3786"
            ],
            [
             0.5555555555555556,
             "#d8576b"
            ],
            [
             0.6666666666666666,
             "#ed7953"
            ],
            [
             0.7777777777777778,
             "#fb9f3a"
            ],
            [
             0.8888888888888888,
             "#fdca26"
            ],
            [
             1,
             "#f0f921"
            ]
           ]
          },
          "colorway": [
           "#636efa",
           "#EF553B",
           "#00cc96",
           "#ab63fa",
           "#FFA15A",
           "#19d3f3",
           "#FF6692",
           "#B6E880",
           "#FF97FF",
           "#FECB52"
          ],
          "font": {
           "color": "#2a3f5f"
          },
          "geo": {
           "bgcolor": "white",
           "lakecolor": "white",
           "landcolor": "#E5ECF6",
           "showlakes": true,
           "showland": true,
           "subunitcolor": "white"
          },
          "hoverlabel": {
           "align": "left"
          },
          "hovermode": "closest",
          "mapbox": {
           "style": "light"
          },
          "paper_bgcolor": "white",
          "plot_bgcolor": "#E5ECF6",
          "polar": {
           "angularaxis": {
            "gridcolor": "white",
            "linecolor": "white",
            "ticks": ""
           },
           "bgcolor": "#E5ECF6",
           "radialaxis": {
            "gridcolor": "white",
            "linecolor": "white",
            "ticks": ""
           }
          },
          "scene": {
           "xaxis": {
            "backgroundcolor": "#E5ECF6",
            "gridcolor": "white",
            "gridwidth": 2,
            "linecolor": "white",
            "showbackground": true,
            "ticks": "",
            "zerolinecolor": "white"
           },
           "yaxis": {
            "backgroundcolor": "#E5ECF6",
            "gridcolor": "white",
            "gridwidth": 2,
            "linecolor": "white",
            "showbackground": true,
            "ticks": "",
            "zerolinecolor": "white"
           },
           "zaxis": {
            "backgroundcolor": "#E5ECF6",
            "gridcolor": "white",
            "gridwidth": 2,
            "linecolor": "white",
            "showbackground": true,
            "ticks": "",
            "zerolinecolor": "white"
           }
          },
          "shapedefaults": {
           "line": {
            "color": "#2a3f5f"
           }
          },
          "ternary": {
           "aaxis": {
            "gridcolor": "white",
            "linecolor": "white",
            "ticks": ""
           },
           "baxis": {
            "gridcolor": "white",
            "linecolor": "white",
            "ticks": ""
           },
           "bgcolor": "#E5ECF6",
           "caxis": {
            "gridcolor": "white",
            "linecolor": "white",
            "ticks": ""
           }
          },
          "title": {
           "x": 0.05
          },
          "xaxis": {
           "automargin": true,
           "gridcolor": "white",
           "linecolor": "white",
           "ticks": "",
           "title": {
            "standoff": 15
           },
           "zerolinecolor": "white",
           "zerolinewidth": 2
          },
          "yaxis": {
           "automargin": true,
           "gridcolor": "white",
           "linecolor": "white",
           "ticks": "",
           "title": {
            "standoff": 15
           },
           "zerolinecolor": "white",
           "zerolinewidth": 2
          }
         }
        },
        "xaxis": {
         "anchor": "y",
         "domain": [
          0,
          1
         ],
         "title": {
          "text": "index"
         }
        },
        "yaxis": {
         "anchor": "x",
         "domain": [
          0,
          1
         ],
         "title": {
          "text": "value"
         }
        }
       }
      }
     },
     "metadata": {},
     "output_type": "display_data"
    }
   ],
   "source": [
    "df.transpose().plot(kind = \"bar\", y = [\"Dette BOP\",\"Dette EOP\",\"Intérêts financiers\",\"Remboursement\",\"Tirage\"]).update_layout(hovermode='x',barmode='group')"
   ]
  },
  {
   "cell_type": "code",
   "execution_count": 106,
   "metadata": {},
   "outputs": [
    {
     "data": {
      "text/html": [
       "<div>\n",
       "<style scoped>\n",
       "    .dataframe tbody tr th:only-of-type {\n",
       "        vertical-align: middle;\n",
       "    }\n",
       "\n",
       "    .dataframe tbody tr th {\n",
       "        vertical-align: top;\n",
       "    }\n",
       "\n",
       "    .dataframe thead th {\n",
       "        text-align: right;\n",
       "    }\n",
       "</style>\n",
       "<table border=\"1\" class=\"dataframe\">\n",
       "  <thead>\n",
       "    <tr style=\"text-align: right;\">\n",
       "      <th></th>\n",
       "      <th>-2</th>\n",
       "      <th>-1</th>\n",
       "      <th>0</th>\n",
       "      <th>1</th>\n",
       "      <th>2</th>\n",
       "      <th>3</th>\n",
       "      <th>4</th>\n",
       "      <th>5</th>\n",
       "      <th>6</th>\n",
       "      <th>7</th>\n",
       "      <th>...</th>\n",
       "      <th>21</th>\n",
       "      <th>22</th>\n",
       "      <th>23</th>\n",
       "      <th>24</th>\n",
       "      <th>25</th>\n",
       "      <th>26</th>\n",
       "      <th>27</th>\n",
       "      <th>28</th>\n",
       "      <th>29</th>\n",
       "      <th>30</th>\n",
       "    </tr>\n",
       "  </thead>\n",
       "  <tbody>\n",
       "    <tr>\n",
       "      <th>Coef. actualisation</th>\n",
       "      <td>1.0</td>\n",
       "      <td>1.0</td>\n",
       "      <td>1.000000</td>\n",
       "      <td>1.000000</td>\n",
       "      <td>1.000000</td>\n",
       "      <td>1.000000</td>\n",
       "      <td>1.000000</td>\n",
       "      <td>1.000000</td>\n",
       "      <td>1.000000</td>\n",
       "      <td>1.000000</td>\n",
       "      <td>...</td>\n",
       "      <td>1.000000e+00</td>\n",
       "      <td>1.000000e+00</td>\n",
       "      <td>1.000000e+00</td>\n",
       "      <td>1.000000e+00</td>\n",
       "      <td>1.000000e+00</td>\n",
       "      <td>1.000000e+00</td>\n",
       "      <td>1.000000e+00</td>\n",
       "      <td>1.000000e+00</td>\n",
       "      <td>1.000000e+00</td>\n",
       "      <td>1.000000e+00</td>\n",
       "    </tr>\n",
       "    <tr>\n",
       "      <th>CAPEX</th>\n",
       "      <td>-661500.0</td>\n",
       "      <td>-630000.0</td>\n",
       "      <td>-600000.000000</td>\n",
       "      <td>0.000000</td>\n",
       "      <td>0.000000</td>\n",
       "      <td>0.000000</td>\n",
       "      <td>0.000000</td>\n",
       "      <td>0.000000</td>\n",
       "      <td>0.000000</td>\n",
       "      <td>0.000000</td>\n",
       "      <td>...</td>\n",
       "      <td>0.000000e+00</td>\n",
       "      <td>0.000000e+00</td>\n",
       "      <td>0.000000e+00</td>\n",
       "      <td>0.000000e+00</td>\n",
       "      <td>0.000000e+00</td>\n",
       "      <td>0.000000e+00</td>\n",
       "      <td>0.000000e+00</td>\n",
       "      <td>0.000000e+00</td>\n",
       "      <td>0.000000e+00</td>\n",
       "      <td>0.000000e+00</td>\n",
       "    </tr>\n",
       "    <tr>\n",
       "      <th>OPEX</th>\n",
       "      <td>0.0</td>\n",
       "      <td>0.0</td>\n",
       "      <td>0.000000</td>\n",
       "      <td>-34285.714286</td>\n",
       "      <td>-32653.061224</td>\n",
       "      <td>-31098.153547</td>\n",
       "      <td>-29617.289093</td>\n",
       "      <td>-28206.941993</td>\n",
       "      <td>-26863.754279</td>\n",
       "      <td>-25584.527885</td>\n",
       "      <td>...</td>\n",
       "      <td>-1.292193e+04</td>\n",
       "      <td>-1.230660e+04</td>\n",
       "      <td>-1.172057e+04</td>\n",
       "      <td>-1.116244e+04</td>\n",
       "      <td>-1.063090e+04</td>\n",
       "      <td>-1.012467e+04</td>\n",
       "      <td>-9.642539e+03</td>\n",
       "      <td>-9.183371e+03</td>\n",
       "      <td>-8.746068e+03</td>\n",
       "      <td>-8.329588e+03</td>\n",
       "    </tr>\n",
       "    <tr>\n",
       "      <th>Prod. (MWh)</th>\n",
       "      <td>NaN</td>\n",
       "      <td>NaN</td>\n",
       "      <td>NaN</td>\n",
       "      <td>2095.238095</td>\n",
       "      <td>1995.464853</td>\n",
       "      <td>1900.442717</td>\n",
       "      <td>1809.945445</td>\n",
       "      <td>1723.757566</td>\n",
       "      <td>1641.673873</td>\n",
       "      <td>1563.498926</td>\n",
       "      <td>...</td>\n",
       "      <td>7.896732e+02</td>\n",
       "      <td>7.520697e+02</td>\n",
       "      <td>7.162569e+02</td>\n",
       "      <td>6.821494e+02</td>\n",
       "      <td>6.496661e+02</td>\n",
       "      <td>6.187296e+02</td>\n",
       "      <td>5.892663e+02</td>\n",
       "      <td>5.612060e+02</td>\n",
       "      <td>5.344819e+02</td>\n",
       "      <td>5.090304e+02</td>\n",
       "    </tr>\n",
       "    <tr>\n",
       "      <th>Revenus</th>\n",
       "      <td>0.0</td>\n",
       "      <td>0.0</td>\n",
       "      <td>0.000000</td>\n",
       "      <td>157142.857143</td>\n",
       "      <td>149659.863946</td>\n",
       "      <td>142533.203758</td>\n",
       "      <td>135745.908341</td>\n",
       "      <td>129281.817467</td>\n",
       "      <td>123125.540445</td>\n",
       "      <td>117262.419471</td>\n",
       "      <td>...</td>\n",
       "      <td>4.343203e+04</td>\n",
       "      <td>4.136383e+04</td>\n",
       "      <td>3.939413e+04</td>\n",
       "      <td>3.751822e+04</td>\n",
       "      <td>3.573164e+04</td>\n",
       "      <td>3.403013e+04</td>\n",
       "      <td>3.240965e+04</td>\n",
       "      <td>3.086633e+04</td>\n",
       "      <td>2.939650e+04</td>\n",
       "      <td>2.799667e+04</td>\n",
       "    </tr>\n",
       "    <tr>\n",
       "      <th>EBITDA</th>\n",
       "      <td>0.0</td>\n",
       "      <td>0.0</td>\n",
       "      <td>0.000000</td>\n",
       "      <td>122857.142857</td>\n",
       "      <td>117006.802721</td>\n",
       "      <td>111435.050211</td>\n",
       "      <td>106128.619248</td>\n",
       "      <td>101074.875474</td>\n",
       "      <td>96261.786166</td>\n",
       "      <td>91677.891587</td>\n",
       "      <td>...</td>\n",
       "      <td>3.051010e+04</td>\n",
       "      <td>2.905724e+04</td>\n",
       "      <td>2.767356e+04</td>\n",
       "      <td>2.635577e+04</td>\n",
       "      <td>2.510074e+04</td>\n",
       "      <td>2.390546e+04</td>\n",
       "      <td>2.276711e+04</td>\n",
       "      <td>2.168296e+04</td>\n",
       "      <td>2.065044e+04</td>\n",
       "      <td>1.966708e+04</td>\n",
       "    </tr>\n",
       "    <tr>\n",
       "      <th>Amortissements</th>\n",
       "      <td>0.0</td>\n",
       "      <td>0.0</td>\n",
       "      <td>0.000000</td>\n",
       "      <td>-114285.714286</td>\n",
       "      <td>-108843.537415</td>\n",
       "      <td>-103660.511824</td>\n",
       "      <td>-98724.296975</td>\n",
       "      <td>-94023.139976</td>\n",
       "      <td>-89545.847596</td>\n",
       "      <td>-85281.759616</td>\n",
       "      <td>...</td>\n",
       "      <td>-7.178847e+03</td>\n",
       "      <td>-6.836997e+03</td>\n",
       "      <td>0.000000e+00</td>\n",
       "      <td>0.000000e+00</td>\n",
       "      <td>0.000000e+00</td>\n",
       "      <td>0.000000e+00</td>\n",
       "      <td>0.000000e+00</td>\n",
       "      <td>0.000000e+00</td>\n",
       "      <td>0.000000e+00</td>\n",
       "      <td>0.000000e+00</td>\n",
       "    </tr>\n",
       "    <tr>\n",
       "      <th>EBIT</th>\n",
       "      <td>0.0</td>\n",
       "      <td>0.0</td>\n",
       "      <td>0.000000</td>\n",
       "      <td>8571.428571</td>\n",
       "      <td>8163.265306</td>\n",
       "      <td>7774.538387</td>\n",
       "      <td>7404.322273</td>\n",
       "      <td>7051.735498</td>\n",
       "      <td>6715.938570</td>\n",
       "      <td>6396.131971</td>\n",
       "      <td>...</td>\n",
       "      <td>2.333125e+04</td>\n",
       "      <td>2.222024e+04</td>\n",
       "      <td>2.767356e+04</td>\n",
       "      <td>2.635577e+04</td>\n",
       "      <td>2.510074e+04</td>\n",
       "      <td>2.390546e+04</td>\n",
       "      <td>2.276711e+04</td>\n",
       "      <td>2.168296e+04</td>\n",
       "      <td>2.065044e+04</td>\n",
       "      <td>1.966708e+04</td>\n",
       "    </tr>\n",
       "    <tr>\n",
       "      <th>Dette BOP</th>\n",
       "      <td>441000.0</td>\n",
       "      <td>385000.0</td>\n",
       "      <td>333333.333333</td>\n",
       "      <td>285714.285714</td>\n",
       "      <td>241874.527589</td>\n",
       "      <td>201562.106324</td>\n",
       "      <td>164540.494958</td>\n",
       "      <td>208940.311058</td>\n",
       "      <td>166654.771916</td>\n",
       "      <td>127922.639423</td>\n",
       "      <td>...</td>\n",
       "      <td>0.000000e+00</td>\n",
       "      <td>0.000000e+00</td>\n",
       "      <td>0.000000e+00</td>\n",
       "      <td>0.000000e+00</td>\n",
       "      <td>0.000000e+00</td>\n",
       "      <td>0.000000e+00</td>\n",
       "      <td>0.000000e+00</td>\n",
       "      <td>0.000000e+00</td>\n",
       "      <td>0.000000e+00</td>\n",
       "      <td>0.000000e+00</td>\n",
       "    </tr>\n",
       "    <tr>\n",
       "      <th>Tirage</th>\n",
       "      <td>441000.0</td>\n",
       "      <td>0.0</td>\n",
       "      <td>0.000000</td>\n",
       "      <td>0.000000</td>\n",
       "      <td>0.000000</td>\n",
       "      <td>0.000000</td>\n",
       "      <td>0.000000</td>\n",
       "      <td>78352.616647</td>\n",
       "      <td>0.000000</td>\n",
       "      <td>0.000000</td>\n",
       "      <td>...</td>\n",
       "      <td>0.000000e+00</td>\n",
       "      <td>0.000000e+00</td>\n",
       "      <td>0.000000e+00</td>\n",
       "      <td>0.000000e+00</td>\n",
       "      <td>0.000000e+00</td>\n",
       "      <td>0.000000e+00</td>\n",
       "      <td>0.000000e+00</td>\n",
       "      <td>0.000000e+00</td>\n",
       "      <td>0.000000e+00</td>\n",
       "      <td>0.000000e+00</td>\n",
       "    </tr>\n",
       "    <tr>\n",
       "      <th>Dette EOP</th>\n",
       "      <td>404250.0</td>\n",
       "      <td>350000.0</td>\n",
       "      <td>300000.000000</td>\n",
       "      <td>253968.253968</td>\n",
       "      <td>211640.211640</td>\n",
       "      <td>172767.519706</td>\n",
       "      <td>137117.079132</td>\n",
       "      <td>174987.510511</td>\n",
       "      <td>134318.771395</td>\n",
       "      <td>97126.448451</td>\n",
       "      <td>...</td>\n",
       "      <td>0.000000e+00</td>\n",
       "      <td>0.000000e+00</td>\n",
       "      <td>0.000000e+00</td>\n",
       "      <td>0.000000e+00</td>\n",
       "      <td>0.000000e+00</td>\n",
       "      <td>0.000000e+00</td>\n",
       "      <td>0.000000e+00</td>\n",
       "      <td>0.000000e+00</td>\n",
       "      <td>0.000000e+00</td>\n",
       "      <td>0.000000e+00</td>\n",
       "    </tr>\n",
       "    <tr>\n",
       "      <th>Remboursement</th>\n",
       "      <td>-36750.0</td>\n",
       "      <td>-35000.0</td>\n",
       "      <td>-33333.333333</td>\n",
       "      <td>-31746.031746</td>\n",
       "      <td>-30234.315949</td>\n",
       "      <td>-28794.586618</td>\n",
       "      <td>-27423.415826</td>\n",
       "      <td>-33952.800547</td>\n",
       "      <td>-32336.000521</td>\n",
       "      <td>-30796.190972</td>\n",
       "      <td>...</td>\n",
       "      <td>0.000000e+00</td>\n",
       "      <td>0.000000e+00</td>\n",
       "      <td>0.000000e+00</td>\n",
       "      <td>0.000000e+00</td>\n",
       "      <td>0.000000e+00</td>\n",
       "      <td>0.000000e+00</td>\n",
       "      <td>0.000000e+00</td>\n",
       "      <td>0.000000e+00</td>\n",
       "      <td>0.000000e+00</td>\n",
       "      <td>0.000000e+00</td>\n",
       "    </tr>\n",
       "    <tr>\n",
       "      <th>Intérêts financiers</th>\n",
       "      <td>-8820.0</td>\n",
       "      <td>-7700.0</td>\n",
       "      <td>-6666.666667</td>\n",
       "      <td>-5714.285714</td>\n",
       "      <td>-4837.490552</td>\n",
       "      <td>-4031.242126</td>\n",
       "      <td>-3290.809899</td>\n",
       "      <td>-4178.806221</td>\n",
       "      <td>-3333.095438</td>\n",
       "      <td>-2558.452788</td>\n",
       "      <td>...</td>\n",
       "      <td>-0.000000e+00</td>\n",
       "      <td>-0.000000e+00</td>\n",
       "      <td>-0.000000e+00</td>\n",
       "      <td>-0.000000e+00</td>\n",
       "      <td>-0.000000e+00</td>\n",
       "      <td>-0.000000e+00</td>\n",
       "      <td>-0.000000e+00</td>\n",
       "      <td>-0.000000e+00</td>\n",
       "      <td>-0.000000e+00</td>\n",
       "      <td>-0.000000e+00</td>\n",
       "    </tr>\n",
       "    <tr>\n",
       "      <th>Résultat avant IS</th>\n",
       "      <td>-8820.0</td>\n",
       "      <td>-7700.0</td>\n",
       "      <td>-6666.666667</td>\n",
       "      <td>2857.142857</td>\n",
       "      <td>3325.774754</td>\n",
       "      <td>3743.296260</td>\n",
       "      <td>4113.512374</td>\n",
       "      <td>2872.929277</td>\n",
       "      <td>3382.843131</td>\n",
       "      <td>3837.679183</td>\n",
       "      <td>...</td>\n",
       "      <td>2.333125e+04</td>\n",
       "      <td>2.222024e+04</td>\n",
       "      <td>2.767356e+04</td>\n",
       "      <td>2.635577e+04</td>\n",
       "      <td>2.510074e+04</td>\n",
       "      <td>2.390546e+04</td>\n",
       "      <td>2.276711e+04</td>\n",
       "      <td>2.168296e+04</td>\n",
       "      <td>2.065044e+04</td>\n",
       "      <td>1.966708e+04</td>\n",
       "    </tr>\n",
       "    <tr>\n",
       "      <th>Impôts (IS)</th>\n",
       "      <td>-0.0</td>\n",
       "      <td>-0.0</td>\n",
       "      <td>-0.000000</td>\n",
       "      <td>-857.142857</td>\n",
       "      <td>-997.732426</td>\n",
       "      <td>-1122.988878</td>\n",
       "      <td>-1234.053712</td>\n",
       "      <td>-861.878783</td>\n",
       "      <td>-1014.852939</td>\n",
       "      <td>-1151.303755</td>\n",
       "      <td>...</td>\n",
       "      <td>-6.999376e+03</td>\n",
       "      <td>-6.666072e+03</td>\n",
       "      <td>-8.302068e+03</td>\n",
       "      <td>-7.906732e+03</td>\n",
       "      <td>-7.530221e+03</td>\n",
       "      <td>-7.171639e+03</td>\n",
       "      <td>-6.830132e+03</td>\n",
       "      <td>-6.504888e+03</td>\n",
       "      <td>-6.195131e+03</td>\n",
       "      <td>-5.900125e+03</td>\n",
       "    </tr>\n",
       "    <tr>\n",
       "      <th>Résultat net</th>\n",
       "      <td>-8820.0</td>\n",
       "      <td>-7700.0</td>\n",
       "      <td>-6666.666667</td>\n",
       "      <td>2000.000000</td>\n",
       "      <td>2328.042328</td>\n",
       "      <td>2620.307382</td>\n",
       "      <td>2879.458662</td>\n",
       "      <td>2011.050494</td>\n",
       "      <td>2367.990192</td>\n",
       "      <td>2686.375428</td>\n",
       "      <td>...</td>\n",
       "      <td>1.633188e+04</td>\n",
       "      <td>1.555417e+04</td>\n",
       "      <td>1.937149e+04</td>\n",
       "      <td>1.844904e+04</td>\n",
       "      <td>1.757051e+04</td>\n",
       "      <td>1.673382e+04</td>\n",
       "      <td>1.593697e+04</td>\n",
       "      <td>1.517807e+04</td>\n",
       "      <td>1.445531e+04</td>\n",
       "      <td>1.376696e+04</td>\n",
       "    </tr>\n",
       "    <tr>\n",
       "      <th>Cash Flow</th>\n",
       "      <td>-229320.0</td>\n",
       "      <td>-637700.0</td>\n",
       "      <td>-606666.666667</td>\n",
       "      <td>116285.714286</td>\n",
       "      <td>111171.579743</td>\n",
       "      <td>106280.819206</td>\n",
       "      <td>101603.755637</td>\n",
       "      <td>174386.807117</td>\n",
       "      <td>91913.837788</td>\n",
       "      <td>87968.135044</td>\n",
       "      <td>...</td>\n",
       "      <td>2.351072e+04</td>\n",
       "      <td>2.239117e+04</td>\n",
       "      <td>1.937149e+04</td>\n",
       "      <td>1.844904e+04</td>\n",
       "      <td>1.757051e+04</td>\n",
       "      <td>1.673382e+04</td>\n",
       "      <td>1.593697e+04</td>\n",
       "      <td>1.517807e+04</td>\n",
       "      <td>1.445531e+04</td>\n",
       "      <td>1.376696e+04</td>\n",
       "    </tr>\n",
       "    <tr>\n",
       "      <th>DSCR</th>\n",
       "      <td>0.0</td>\n",
       "      <td>0.0</td>\n",
       "      <td>0.000000</td>\n",
       "      <td>3.101695</td>\n",
       "      <td>3.000235</td>\n",
       "      <td>2.902949</td>\n",
       "      <td>2.809676</td>\n",
       "      <td>2.059171</td>\n",
       "      <td>1.992614</td>\n",
       "      <td>1.928834</td>\n",
       "      <td>...</td>\n",
       "      <td>-inf</td>\n",
       "      <td>-inf</td>\n",
       "      <td>-inf</td>\n",
       "      <td>-inf</td>\n",
       "      <td>-inf</td>\n",
       "      <td>-inf</td>\n",
       "      <td>-inf</td>\n",
       "      <td>-inf</td>\n",
       "      <td>-inf</td>\n",
       "      <td>-inf</td>\n",
       "    </tr>\n",
       "  </tbody>\n",
       "</table>\n",
       "<p>18 rows × 33 columns</p>\n",
       "</div>"
      ],
      "text/plain": [
       "                          -2        -1              0              1   \\\n",
       "Coef. actualisation       1.0       1.0       1.000000       1.000000   \n",
       "CAPEX               -661500.0 -630000.0 -600000.000000       0.000000   \n",
       "OPEX                      0.0       0.0       0.000000  -34285.714286   \n",
       "Prod. (MWh)               NaN       NaN            NaN    2095.238095   \n",
       "Revenus                   0.0       0.0       0.000000  157142.857143   \n",
       "EBITDA                    0.0       0.0       0.000000  122857.142857   \n",
       "Amortissements            0.0       0.0       0.000000 -114285.714286   \n",
       "EBIT                      0.0       0.0       0.000000    8571.428571   \n",
       "Dette BOP            441000.0  385000.0  333333.333333  285714.285714   \n",
       "Tirage               441000.0       0.0       0.000000       0.000000   \n",
       "Dette EOP            404250.0  350000.0  300000.000000  253968.253968   \n",
       "Remboursement        -36750.0  -35000.0  -33333.333333  -31746.031746   \n",
       "Intérêts financiers   -8820.0   -7700.0   -6666.666667   -5714.285714   \n",
       "Résultat avant IS     -8820.0   -7700.0   -6666.666667    2857.142857   \n",
       "Impôts (IS)              -0.0      -0.0      -0.000000    -857.142857   \n",
       "Résultat net          -8820.0   -7700.0   -6666.666667    2000.000000   \n",
       "Cash Flow           -229320.0 -637700.0 -606666.666667  116285.714286   \n",
       "DSCR                      0.0       0.0       0.000000       3.101695   \n",
       "\n",
       "                                2              3              4   \\\n",
       "Coef. actualisation       1.000000       1.000000       1.000000   \n",
       "CAPEX                     0.000000       0.000000       0.000000   \n",
       "OPEX                 -32653.061224  -31098.153547  -29617.289093   \n",
       "Prod. (MWh)            1995.464853    1900.442717    1809.945445   \n",
       "Revenus              149659.863946  142533.203758  135745.908341   \n",
       "EBITDA               117006.802721  111435.050211  106128.619248   \n",
       "Amortissements      -108843.537415 -103660.511824  -98724.296975   \n",
       "EBIT                   8163.265306    7774.538387    7404.322273   \n",
       "Dette BOP            241874.527589  201562.106324  164540.494958   \n",
       "Tirage                    0.000000       0.000000       0.000000   \n",
       "Dette EOP            211640.211640  172767.519706  137117.079132   \n",
       "Remboursement        -30234.315949  -28794.586618  -27423.415826   \n",
       "Intérêts financiers   -4837.490552   -4031.242126   -3290.809899   \n",
       "Résultat avant IS      3325.774754    3743.296260    4113.512374   \n",
       "Impôts (IS)            -997.732426   -1122.988878   -1234.053712   \n",
       "Résultat net           2328.042328    2620.307382    2879.458662   \n",
       "Cash Flow            111171.579743  106280.819206  101603.755637   \n",
       "DSCR                      3.000235       2.902949       2.809676   \n",
       "\n",
       "                                5              6              7   ...  \\\n",
       "Coef. actualisation       1.000000       1.000000       1.000000  ...   \n",
       "CAPEX                     0.000000       0.000000       0.000000  ...   \n",
       "OPEX                 -28206.941993  -26863.754279  -25584.527885  ...   \n",
       "Prod. (MWh)            1723.757566    1641.673873    1563.498926  ...   \n",
       "Revenus              129281.817467  123125.540445  117262.419471  ...   \n",
       "EBITDA               101074.875474   96261.786166   91677.891587  ...   \n",
       "Amortissements       -94023.139976  -89545.847596  -85281.759616  ...   \n",
       "EBIT                   7051.735498    6715.938570    6396.131971  ...   \n",
       "Dette BOP            208940.311058  166654.771916  127922.639423  ...   \n",
       "Tirage                78352.616647       0.000000       0.000000  ...   \n",
       "Dette EOP            174987.510511  134318.771395   97126.448451  ...   \n",
       "Remboursement        -33952.800547  -32336.000521  -30796.190972  ...   \n",
       "Intérêts financiers   -4178.806221   -3333.095438   -2558.452788  ...   \n",
       "Résultat avant IS      2872.929277    3382.843131    3837.679183  ...   \n",
       "Impôts (IS)            -861.878783   -1014.852939   -1151.303755  ...   \n",
       "Résultat net           2011.050494    2367.990192    2686.375428  ...   \n",
       "Cash Flow            174386.807117   91913.837788   87968.135044  ...   \n",
       "DSCR                      2.059171       1.992614       1.928834  ...   \n",
       "\n",
       "                               21            22            23            24  \\\n",
       "Coef. actualisation  1.000000e+00  1.000000e+00  1.000000e+00  1.000000e+00   \n",
       "CAPEX                0.000000e+00  0.000000e+00  0.000000e+00  0.000000e+00   \n",
       "OPEX                -1.292193e+04 -1.230660e+04 -1.172057e+04 -1.116244e+04   \n",
       "Prod. (MWh)          7.896732e+02  7.520697e+02  7.162569e+02  6.821494e+02   \n",
       "Revenus              4.343203e+04  4.136383e+04  3.939413e+04  3.751822e+04   \n",
       "EBITDA               3.051010e+04  2.905724e+04  2.767356e+04  2.635577e+04   \n",
       "Amortissements      -7.178847e+03 -6.836997e+03  0.000000e+00  0.000000e+00   \n",
       "EBIT                 2.333125e+04  2.222024e+04  2.767356e+04  2.635577e+04   \n",
       "Dette BOP            0.000000e+00  0.000000e+00  0.000000e+00  0.000000e+00   \n",
       "Tirage               0.000000e+00  0.000000e+00  0.000000e+00  0.000000e+00   \n",
       "Dette EOP            0.000000e+00  0.000000e+00  0.000000e+00  0.000000e+00   \n",
       "Remboursement        0.000000e+00  0.000000e+00  0.000000e+00  0.000000e+00   \n",
       "Intérêts financiers -0.000000e+00 -0.000000e+00 -0.000000e+00 -0.000000e+00   \n",
       "Résultat avant IS    2.333125e+04  2.222024e+04  2.767356e+04  2.635577e+04   \n",
       "Impôts (IS)         -6.999376e+03 -6.666072e+03 -8.302068e+03 -7.906732e+03   \n",
       "Résultat net         1.633188e+04  1.555417e+04  1.937149e+04  1.844904e+04   \n",
       "Cash Flow            2.351072e+04  2.239117e+04  1.937149e+04  1.844904e+04   \n",
       "DSCR                         -inf          -inf          -inf          -inf   \n",
       "\n",
       "                               25            26            27            28  \\\n",
       "Coef. actualisation  1.000000e+00  1.000000e+00  1.000000e+00  1.000000e+00   \n",
       "CAPEX                0.000000e+00  0.000000e+00  0.000000e+00  0.000000e+00   \n",
       "OPEX                -1.063090e+04 -1.012467e+04 -9.642539e+03 -9.183371e+03   \n",
       "Prod. (MWh)          6.496661e+02  6.187296e+02  5.892663e+02  5.612060e+02   \n",
       "Revenus              3.573164e+04  3.403013e+04  3.240965e+04  3.086633e+04   \n",
       "EBITDA               2.510074e+04  2.390546e+04  2.276711e+04  2.168296e+04   \n",
       "Amortissements       0.000000e+00  0.000000e+00  0.000000e+00  0.000000e+00   \n",
       "EBIT                 2.510074e+04  2.390546e+04  2.276711e+04  2.168296e+04   \n",
       "Dette BOP            0.000000e+00  0.000000e+00  0.000000e+00  0.000000e+00   \n",
       "Tirage               0.000000e+00  0.000000e+00  0.000000e+00  0.000000e+00   \n",
       "Dette EOP            0.000000e+00  0.000000e+00  0.000000e+00  0.000000e+00   \n",
       "Remboursement        0.000000e+00  0.000000e+00  0.000000e+00  0.000000e+00   \n",
       "Intérêts financiers -0.000000e+00 -0.000000e+00 -0.000000e+00 -0.000000e+00   \n",
       "Résultat avant IS    2.510074e+04  2.390546e+04  2.276711e+04  2.168296e+04   \n",
       "Impôts (IS)         -7.530221e+03 -7.171639e+03 -6.830132e+03 -6.504888e+03   \n",
       "Résultat net         1.757051e+04  1.673382e+04  1.593697e+04  1.517807e+04   \n",
       "Cash Flow            1.757051e+04  1.673382e+04  1.593697e+04  1.517807e+04   \n",
       "DSCR                         -inf          -inf          -inf          -inf   \n",
       "\n",
       "                               29            30  \n",
       "Coef. actualisation  1.000000e+00  1.000000e+00  \n",
       "CAPEX                0.000000e+00  0.000000e+00  \n",
       "OPEX                -8.746068e+03 -8.329588e+03  \n",
       "Prod. (MWh)          5.344819e+02  5.090304e+02  \n",
       "Revenus              2.939650e+04  2.799667e+04  \n",
       "EBITDA               2.065044e+04  1.966708e+04  \n",
       "Amortissements       0.000000e+00  0.000000e+00  \n",
       "EBIT                 2.065044e+04  1.966708e+04  \n",
       "Dette BOP            0.000000e+00  0.000000e+00  \n",
       "Tirage               0.000000e+00  0.000000e+00  \n",
       "Dette EOP            0.000000e+00  0.000000e+00  \n",
       "Remboursement        0.000000e+00  0.000000e+00  \n",
       "Intérêts financiers -0.000000e+00 -0.000000e+00  \n",
       "Résultat avant IS    2.065044e+04  1.966708e+04  \n",
       "Impôts (IS)         -6.195131e+03 -5.900125e+03  \n",
       "Résultat net         1.445531e+04  1.376696e+04  \n",
       "Cash Flow            1.445531e+04  1.376696e+04  \n",
       "DSCR                         -inf          -inf  \n",
       "\n",
       "[18 rows x 33 columns]"
      ]
     },
     "execution_count": 106,
     "metadata": {},
     "output_type": "execute_result"
    }
   ],
   "source": [
    "dd = df / df.loc[\"Coef. actualisation\"]\n",
    "dd"
   ]
  },
  {
   "cell_type": "code",
   "execution_count": 107,
   "metadata": {},
   "outputs": [
    {
     "data": {
      "application/vnd.plotly.v1+json": {
       "config": {
        "plotlyServerURL": "https://plot.ly"
       },
       "data": [
        {
         "alignmentgroup": "True",
         "hovertemplate": "variable=CAPEX<br>index=%{x}<br>value=%{y}<extra></extra>",
         "legendgroup": "CAPEX",
         "marker": {
          "color": "#636efa",
          "pattern": {
           "shape": ""
          }
         },
         "name": "CAPEX",
         "offsetgroup": "CAPEX",
         "orientation": "v",
         "showlegend": true,
         "textposition": "auto",
         "type": "bar",
         "x": [
          -2,
          -1,
          0,
          1,
          2,
          3,
          4,
          5,
          6,
          7,
          8,
          9,
          10,
          11,
          12,
          13,
          14,
          15,
          16,
          17,
          18,
          19,
          20,
          21,
          22,
          23,
          24,
          25,
          26,
          27,
          28,
          29,
          30
         ],
         "xaxis": "x",
         "y": [
          -661500,
          -630000,
          -600000,
          0,
          0,
          0,
          0,
          0,
          0,
          0,
          0,
          0,
          0,
          0,
          0,
          0,
          0,
          -24050.854904548498,
          -22905.57609957,
          -21814.834380542856,
          0,
          0,
          0,
          0,
          0,
          0,
          0,
          0,
          0,
          0,
          0,
          0,
          0
         ],
         "yaxis": "y"
        },
        {
         "alignmentgroup": "True",
         "hovertemplate": "variable=OPEX<br>index=%{x}<br>value=%{y}<extra></extra>",
         "legendgroup": "OPEX",
         "marker": {
          "color": "#EF553B",
          "pattern": {
           "shape": ""
          }
         },
         "name": "OPEX",
         "offsetgroup": "OPEX",
         "orientation": "v",
         "showlegend": true,
         "textposition": "auto",
         "type": "bar",
         "x": [
          -2,
          -1,
          0,
          1,
          2,
          3,
          4,
          5,
          6,
          7,
          8,
          9,
          10,
          11,
          12,
          13,
          14,
          15,
          16,
          17,
          18,
          19,
          20,
          21,
          22,
          23,
          24,
          25,
          26,
          27,
          28,
          29,
          30
         ],
         "xaxis": "x",
         "y": [
          0,
          0,
          0,
          -34285.71428571428,
          -32653.061224489797,
          -31098.153547133137,
          -29617.289092507744,
          -28206.94199286452,
          -26863.754278918586,
          -25584.52788468437,
          -24366.21703303273,
          -23205.920983840697,
          -22100.87712746733,
          -21048.45440711174,
          -20046.14705439213,
          -19091.5686232306,
          -18182.446307838665,
          -17316.615531274918,
          -16492.014791690402,
          -15706.680753990857,
          -14958.743575229388,
          -14246.422452599414,
          -13568.021383428015,
          -12921.925127074299,
          -12306.595359118379,
          -11720.56700868417,
          -11162.4447701754,
          -10630.899781119428,
          -10124.666458208978,
          -9642.53948400855,
          -9183.370937151,
          -8746.067559191428,
          -8329.588151610882
         ],
         "yaxis": "y"
        },
        {
         "alignmentgroup": "True",
         "hovertemplate": "variable=Revenus<br>index=%{x}<br>value=%{y}<extra></extra>",
         "legendgroup": "Revenus",
         "marker": {
          "color": "#00cc96",
          "pattern": {
           "shape": ""
          }
         },
         "name": "Revenus",
         "offsetgroup": "Revenus",
         "orientation": "v",
         "showlegend": true,
         "textposition": "auto",
         "type": "bar",
         "x": [
          -2,
          -1,
          0,
          1,
          2,
          3,
          4,
          5,
          6,
          7,
          8,
          9,
          10,
          11,
          12,
          13,
          14,
          15,
          16,
          17,
          18,
          19,
          20,
          21,
          22,
          23,
          24,
          25,
          26,
          27,
          28,
          29,
          30
         ],
         "xaxis": "x",
         "y": [
          0,
          0,
          0,
          157142.85714285713,
          149659.86394557822,
          142533.20375769353,
          135745.9083406605,
          129281.81746729571,
          123125.54044504353,
          117262.41947147003,
          111678.49473473335,
          106360.47117593652,
          101295.68683422526,
          96472.08269926214,
          91878.17399929727,
          87503.02285647359,
          83336.21224426056,
          79367.82118501005,
          55431.4941609594,
          52791.899200913715,
          50277.99923896544,
          47883.808799014696,
          45603.62742763305,
          43432.02612155528,
          41363.83440148122,
          39394.12800141068,
          37518.21714420065,
          35731.635375429185,
          34030.12892898018,
          32409.64659902874,
          30866.33009431308,
          29396.504851726742,
          27996.6712873588
         ],
         "yaxis": "y"
        },
        {
         "alignmentgroup": "True",
         "hovertemplate": "variable=Impôts (IS)<br>index=%{x}<br>value=%{y}<extra></extra>",
         "legendgroup": "Impôts (IS)",
         "marker": {
          "color": "#ab63fa",
          "pattern": {
           "shape": ""
          }
         },
         "name": "Impôts (IS)",
         "offsetgroup": "Impôts (IS)",
         "orientation": "v",
         "showlegend": true,
         "textposition": "auto",
         "type": "bar",
         "x": [
          -2,
          -1,
          0,
          1,
          2,
          3,
          4,
          5,
          6,
          7,
          8,
          9,
          10,
          11,
          12,
          13,
          14,
          15,
          16,
          17,
          18,
          19,
          20,
          21,
          22,
          23,
          24,
          25,
          26,
          27,
          28,
          29,
          30
         ],
         "xaxis": "x",
         "y": [
          0,
          0,
          0,
          -857.1428571428571,
          -997.7324263038546,
          -1122.9888780909187,
          -1234.0537121878228,
          -861.8787831153045,
          -1014.8529394258131,
          -1151.3037548107966,
          -1272.4580006139313,
          -1379.4630807060857,
          -1473.391808497822,
          -22486.765458264377,
          -21449.37734819958,
          -20459.79770789546,
          -19515.825703746836,
          -18615.361696120537,
          -11681.843810780701,
          -11125.565534076857,
          -8102.652769915919,
          -7716.812161824683,
          -7349.344916023508,
          -6999.376110498578,
          -6666.072486189122,
          -8302.068297817954,
          -7906.731712207575,
          -7530.220678292928,
          -7171.63874123136,
          -6830.132134506057,
          -6504.887747148625,
          -6195.131187760594,
          -5900.124940724375
         ],
         "yaxis": "y"
        },
        {
         "marker": {
          "color": "black"
         },
         "name": "Cash Flow",
         "type": "scatter",
         "x": [
          -2,
          -1,
          0,
          1,
          2,
          3,
          4,
          5,
          6,
          7,
          8,
          9,
          10,
          11,
          12,
          13,
          14,
          15,
          16,
          17,
          18,
          19,
          20,
          21,
          22,
          23,
          24,
          25,
          26,
          27,
          28,
          29,
          30
         ],
         "y": [
          -229320.00000000003,
          -637700.0000000001,
          -606666.6666666666,
          116285.71428571428,
          111171.57974300832,
          106280.81920598926,
          101603.7556367974,
          174386.80711699667,
          91913.83778838885,
          87968.13504350642,
          84189.79211154161,
          80571.81713444986,
          77107.50464471935,
          52469.11940261688,
          50048.54714579902,
          47739.52798508941,
          45536.92664207595,
          19384.98905306609,
          4352.0594589183,
          4144.818532303143,
          27216.602893820134,
          25920.5741845906,
          24686.261128181526,
          23510.724883982402,
          22391.166556173717,
          19371.49269490856,
          18449.040661817675,
          17570.51491601683,
          16733.82372953984,
          15936.974980514131,
          15178.071410013457,
          14455.30610477472,
          13766.958195023542
         ]
        }
       ],
       "layout": {
        "barmode": "relative",
        "hovermode": "x",
        "legend": {
         "title": {
          "text": "variable"
         },
         "tracegroupgap": 0
        },
        "margin": {
         "t": 60
        },
        "template": {
         "data": {
          "bar": [
           {
            "error_x": {
             "color": "#2a3f5f"
            },
            "error_y": {
             "color": "#2a3f5f"
            },
            "marker": {
             "line": {
              "color": "#E5ECF6",
              "width": 0.5
             },
             "pattern": {
              "fillmode": "overlay",
              "size": 10,
              "solidity": 0.2
             }
            },
            "type": "bar"
           }
          ],
          "barpolar": [
           {
            "marker": {
             "line": {
              "color": "#E5ECF6",
              "width": 0.5
             },
             "pattern": {
              "fillmode": "overlay",
              "size": 10,
              "solidity": 0.2
             }
            },
            "type": "barpolar"
           }
          ],
          "carpet": [
           {
            "aaxis": {
             "endlinecolor": "#2a3f5f",
             "gridcolor": "white",
             "linecolor": "white",
             "minorgridcolor": "white",
             "startlinecolor": "#2a3f5f"
            },
            "baxis": {
             "endlinecolor": "#2a3f5f",
             "gridcolor": "white",
             "linecolor": "white",
             "minorgridcolor": "white",
             "startlinecolor": "#2a3f5f"
            },
            "type": "carpet"
           }
          ],
          "choropleth": [
           {
            "colorbar": {
             "outlinewidth": 0,
             "ticks": ""
            },
            "type": "choropleth"
           }
          ],
          "contour": [
           {
            "colorbar": {
             "outlinewidth": 0,
             "ticks": ""
            },
            "colorscale": [
             [
              0,
              "#0d0887"
             ],
             [
              0.1111111111111111,
              "#46039f"
             ],
             [
              0.2222222222222222,
              "#7201a8"
             ],
             [
              0.3333333333333333,
              "#9c179e"
             ],
             [
              0.4444444444444444,
              "#bd3786"
             ],
             [
              0.5555555555555556,
              "#d8576b"
             ],
             [
              0.6666666666666666,
              "#ed7953"
             ],
             [
              0.7777777777777778,
              "#fb9f3a"
             ],
             [
              0.8888888888888888,
              "#fdca26"
             ],
             [
              1,
              "#f0f921"
             ]
            ],
            "type": "contour"
           }
          ],
          "contourcarpet": [
           {
            "colorbar": {
             "outlinewidth": 0,
             "ticks": ""
            },
            "type": "contourcarpet"
           }
          ],
          "heatmap": [
           {
            "colorbar": {
             "outlinewidth": 0,
             "ticks": ""
            },
            "colorscale": [
             [
              0,
              "#0d0887"
             ],
             [
              0.1111111111111111,
              "#46039f"
             ],
             [
              0.2222222222222222,
              "#7201a8"
             ],
             [
              0.3333333333333333,
              "#9c179e"
             ],
             [
              0.4444444444444444,
              "#bd3786"
             ],
             [
              0.5555555555555556,
              "#d8576b"
             ],
             [
              0.6666666666666666,
              "#ed7953"
             ],
             [
              0.7777777777777778,
              "#fb9f3a"
             ],
             [
              0.8888888888888888,
              "#fdca26"
             ],
             [
              1,
              "#f0f921"
             ]
            ],
            "type": "heatmap"
           }
          ],
          "heatmapgl": [
           {
            "colorbar": {
             "outlinewidth": 0,
             "ticks": ""
            },
            "colorscale": [
             [
              0,
              "#0d0887"
             ],
             [
              0.1111111111111111,
              "#46039f"
             ],
             [
              0.2222222222222222,
              "#7201a8"
             ],
             [
              0.3333333333333333,
              "#9c179e"
             ],
             [
              0.4444444444444444,
              "#bd3786"
             ],
             [
              0.5555555555555556,
              "#d8576b"
             ],
             [
              0.6666666666666666,
              "#ed7953"
             ],
             [
              0.7777777777777778,
              "#fb9f3a"
             ],
             [
              0.8888888888888888,
              "#fdca26"
             ],
             [
              1,
              "#f0f921"
             ]
            ],
            "type": "heatmapgl"
           }
          ],
          "histogram": [
           {
            "marker": {
             "pattern": {
              "fillmode": "overlay",
              "size": 10,
              "solidity": 0.2
             }
            },
            "type": "histogram"
           }
          ],
          "histogram2d": [
           {
            "colorbar": {
             "outlinewidth": 0,
             "ticks": ""
            },
            "colorscale": [
             [
              0,
              "#0d0887"
             ],
             [
              0.1111111111111111,
              "#46039f"
             ],
             [
              0.2222222222222222,
              "#7201a8"
             ],
             [
              0.3333333333333333,
              "#9c179e"
             ],
             [
              0.4444444444444444,
              "#bd3786"
             ],
             [
              0.5555555555555556,
              "#d8576b"
             ],
             [
              0.6666666666666666,
              "#ed7953"
             ],
             [
              0.7777777777777778,
              "#fb9f3a"
             ],
             [
              0.8888888888888888,
              "#fdca26"
             ],
             [
              1,
              "#f0f921"
             ]
            ],
            "type": "histogram2d"
           }
          ],
          "histogram2dcontour": [
           {
            "colorbar": {
             "outlinewidth": 0,
             "ticks": ""
            },
            "colorscale": [
             [
              0,
              "#0d0887"
             ],
             [
              0.1111111111111111,
              "#46039f"
             ],
             [
              0.2222222222222222,
              "#7201a8"
             ],
             [
              0.3333333333333333,
              "#9c179e"
             ],
             [
              0.4444444444444444,
              "#bd3786"
             ],
             [
              0.5555555555555556,
              "#d8576b"
             ],
             [
              0.6666666666666666,
              "#ed7953"
             ],
             [
              0.7777777777777778,
              "#fb9f3a"
             ],
             [
              0.8888888888888888,
              "#fdca26"
             ],
             [
              1,
              "#f0f921"
             ]
            ],
            "type": "histogram2dcontour"
           }
          ],
          "mesh3d": [
           {
            "colorbar": {
             "outlinewidth": 0,
             "ticks": ""
            },
            "type": "mesh3d"
           }
          ],
          "parcoords": [
           {
            "line": {
             "colorbar": {
              "outlinewidth": 0,
              "ticks": ""
             }
            },
            "type": "parcoords"
           }
          ],
          "pie": [
           {
            "automargin": true,
            "type": "pie"
           }
          ],
          "scatter": [
           {
            "fillpattern": {
             "fillmode": "overlay",
             "size": 10,
             "solidity": 0.2
            },
            "type": "scatter"
           }
          ],
          "scatter3d": [
           {
            "line": {
             "colorbar": {
              "outlinewidth": 0,
              "ticks": ""
             }
            },
            "marker": {
             "colorbar": {
              "outlinewidth": 0,
              "ticks": ""
             }
            },
            "type": "scatter3d"
           }
          ],
          "scattercarpet": [
           {
            "marker": {
             "colorbar": {
              "outlinewidth": 0,
              "ticks": ""
             }
            },
            "type": "scattercarpet"
           }
          ],
          "scattergeo": [
           {
            "marker": {
             "colorbar": {
              "outlinewidth": 0,
              "ticks": ""
             }
            },
            "type": "scattergeo"
           }
          ],
          "scattergl": [
           {
            "marker": {
             "colorbar": {
              "outlinewidth": 0,
              "ticks": ""
             }
            },
            "type": "scattergl"
           }
          ],
          "scattermapbox": [
           {
            "marker": {
             "colorbar": {
              "outlinewidth": 0,
              "ticks": ""
             }
            },
            "type": "scattermapbox"
           }
          ],
          "scatterpolar": [
           {
            "marker": {
             "colorbar": {
              "outlinewidth": 0,
              "ticks": ""
             }
            },
            "type": "scatterpolar"
           }
          ],
          "scatterpolargl": [
           {
            "marker": {
             "colorbar": {
              "outlinewidth": 0,
              "ticks": ""
             }
            },
            "type": "scatterpolargl"
           }
          ],
          "scatterternary": [
           {
            "marker": {
             "colorbar": {
              "outlinewidth": 0,
              "ticks": ""
             }
            },
            "type": "scatterternary"
           }
          ],
          "surface": [
           {
            "colorbar": {
             "outlinewidth": 0,
             "ticks": ""
            },
            "colorscale": [
             [
              0,
              "#0d0887"
             ],
             [
              0.1111111111111111,
              "#46039f"
             ],
             [
              0.2222222222222222,
              "#7201a8"
             ],
             [
              0.3333333333333333,
              "#9c179e"
             ],
             [
              0.4444444444444444,
              "#bd3786"
             ],
             [
              0.5555555555555556,
              "#d8576b"
             ],
             [
              0.6666666666666666,
              "#ed7953"
             ],
             [
              0.7777777777777778,
              "#fb9f3a"
             ],
             [
              0.8888888888888888,
              "#fdca26"
             ],
             [
              1,
              "#f0f921"
             ]
            ],
            "type": "surface"
           }
          ],
          "table": [
           {
            "cells": {
             "fill": {
              "color": "#EBF0F8"
             },
             "line": {
              "color": "white"
             }
            },
            "header": {
             "fill": {
              "color": "#C8D4E3"
             },
             "line": {
              "color": "white"
             }
            },
            "type": "table"
           }
          ]
         },
         "layout": {
          "annotationdefaults": {
           "arrowcolor": "#2a3f5f",
           "arrowhead": 0,
           "arrowwidth": 1
          },
          "autotypenumbers": "strict",
          "coloraxis": {
           "colorbar": {
            "outlinewidth": 0,
            "ticks": ""
           }
          },
          "colorscale": {
           "diverging": [
            [
             0,
             "#8e0152"
            ],
            [
             0.1,
             "#c51b7d"
            ],
            [
             0.2,
             "#de77ae"
            ],
            [
             0.3,
             "#f1b6da"
            ],
            [
             0.4,
             "#fde0ef"
            ],
            [
             0.5,
             "#f7f7f7"
            ],
            [
             0.6,
             "#e6f5d0"
            ],
            [
             0.7,
             "#b8e186"
            ],
            [
             0.8,
             "#7fbc41"
            ],
            [
             0.9,
             "#4d9221"
            ],
            [
             1,
             "#276419"
            ]
           ],
           "sequential": [
            [
             0,
             "#0d0887"
            ],
            [
             0.1111111111111111,
             "#46039f"
            ],
            [
             0.2222222222222222,
             "#7201a8"
            ],
            [
             0.3333333333333333,
             "#9c179e"
            ],
            [
             0.4444444444444444,
             "#bd3786"
            ],
            [
             0.5555555555555556,
             "#d8576b"
            ],
            [
             0.6666666666666666,
             "#ed7953"
            ],
            [
             0.7777777777777778,
             "#fb9f3a"
            ],
            [
             0.8888888888888888,
             "#fdca26"
            ],
            [
             1,
             "#f0f921"
            ]
           ],
           "sequentialminus": [
            [
             0,
             "#0d0887"
            ],
            [
             0.1111111111111111,
             "#46039f"
            ],
            [
             0.2222222222222222,
             "#7201a8"
            ],
            [
             0.3333333333333333,
             "#9c179e"
            ],
            [
             0.4444444444444444,
             "#bd3786"
            ],
            [
             0.5555555555555556,
             "#d8576b"
            ],
            [
             0.6666666666666666,
             "#ed7953"
            ],
            [
             0.7777777777777778,
             "#fb9f3a"
            ],
            [
             0.8888888888888888,
             "#fdca26"
            ],
            [
             1,
             "#f0f921"
            ]
           ]
          },
          "colorway": [
           "#636efa",
           "#EF553B",
           "#00cc96",
           "#ab63fa",
           "#FFA15A",
           "#19d3f3",
           "#FF6692",
           "#B6E880",
           "#FF97FF",
           "#FECB52"
          ],
          "font": {
           "color": "#2a3f5f"
          },
          "geo": {
           "bgcolor": "white",
           "lakecolor": "white",
           "landcolor": "#E5ECF6",
           "showlakes": true,
           "showland": true,
           "subunitcolor": "white"
          },
          "hoverlabel": {
           "align": "left"
          },
          "hovermode": "closest",
          "mapbox": {
           "style": "light"
          },
          "paper_bgcolor": "white",
          "plot_bgcolor": "#E5ECF6",
          "polar": {
           "angularaxis": {
            "gridcolor": "white",
            "linecolor": "white",
            "ticks": ""
           },
           "bgcolor": "#E5ECF6",
           "radialaxis": {
            "gridcolor": "white",
            "linecolor": "white",
            "ticks": ""
           }
          },
          "scene": {
           "xaxis": {
            "backgroundcolor": "#E5ECF6",
            "gridcolor": "white",
            "gridwidth": 2,
            "linecolor": "white",
            "showbackground": true,
            "ticks": "",
            "zerolinecolor": "white"
           },
           "yaxis": {
            "backgroundcolor": "#E5ECF6",
            "gridcolor": "white",
            "gridwidth": 2,
            "linecolor": "white",
            "showbackground": true,
            "ticks": "",
            "zerolinecolor": "white"
           },
           "zaxis": {
            "backgroundcolor": "#E5ECF6",
            "gridcolor": "white",
            "gridwidth": 2,
            "linecolor": "white",
            "showbackground": true,
            "ticks": "",
            "zerolinecolor": "white"
           }
          },
          "shapedefaults": {
           "line": {
            "color": "#2a3f5f"
           }
          },
          "ternary": {
           "aaxis": {
            "gridcolor": "white",
            "linecolor": "white",
            "ticks": ""
           },
           "baxis": {
            "gridcolor": "white",
            "linecolor": "white",
            "ticks": ""
           },
           "bgcolor": "#E5ECF6",
           "caxis": {
            "gridcolor": "white",
            "linecolor": "white",
            "ticks": ""
           }
          },
          "title": {
           "x": 0.05
          },
          "xaxis": {
           "automargin": true,
           "gridcolor": "white",
           "linecolor": "white",
           "ticks": "",
           "title": {
            "standoff": 15
           },
           "zerolinecolor": "white",
           "zerolinewidth": 2
          },
          "yaxis": {
           "automargin": true,
           "gridcolor": "white",
           "linecolor": "white",
           "ticks": "",
           "title": {
            "standoff": 15
           },
           "zerolinecolor": "white",
           "zerolinewidth": 2
          }
         }
        },
        "xaxis": {
         "anchor": "y",
         "domain": [
          0,
          1
         ],
         "title": {
          "text": "index"
         }
        },
        "yaxis": {
         "anchor": "x",
         "domain": [
          0,
          1
         ],
         "title": {
          "text": "value"
         }
        }
       }
      }
     },
     "metadata": {},
     "output_type": "display_data"
    }
   ],
   "source": [
    "fig = dd.transpose().plot(kind = \"bar\", y = [\"CAPEX\",\"OPEX\",\"Revenus\",\"Impôts (IS)\"]).update_layout(hovermode='x')\n",
    "fig.add_trace(\n",
    "    go.Scatter(\n",
    "        x = dd.columns,\n",
    "        y = dd.loc[\"Cash Flow\"],\n",
    "        name = \"Cash Flow\",\n",
    "        marker_color = \"black\"\n",
    "    )\n",
    ")"
   ]
  },
  {
   "cell_type": "code",
   "execution_count": 144,
   "metadata": {},
   "outputs": [
    {
     "data": {
      "text/html": [
       "<div>\n",
       "<style scoped>\n",
       "    .dataframe tbody tr th:only-of-type {\n",
       "        vertical-align: middle;\n",
       "    }\n",
       "\n",
       "    .dataframe tbody tr th {\n",
       "        vertical-align: top;\n",
       "    }\n",
       "\n",
       "    .dataframe thead th {\n",
       "        text-align: right;\n",
       "    }\n",
       "</style>\n",
       "<table border=\"1\" class=\"dataframe\">\n",
       "  <thead>\n",
       "    <tr style=\"text-align: right;\">\n",
       "      <th></th>\n",
       "      <th>Type de flux</th>\n",
       "      <th>Année projet</th>\n",
       "      <th>value</th>\n",
       "      <th>Période projet</th>\n",
       "    </tr>\n",
       "  </thead>\n",
       "  <tbody>\n",
       "    <tr>\n",
       "      <th>0</th>\n",
       "      <td>OPEX</td>\n",
       "      <td>-2</td>\n",
       "      <td>0.0</td>\n",
       "      <td>Années négatives</td>\n",
       "    </tr>\n",
       "    <tr>\n",
       "      <th>1</th>\n",
       "      <td>CAPEX</td>\n",
       "      <td>-2</td>\n",
       "      <td>661500.0</td>\n",
       "      <td>Années négatives</td>\n",
       "    </tr>\n",
       "    <tr>\n",
       "      <th>2</th>\n",
       "      <td>Revenus</td>\n",
       "      <td>-2</td>\n",
       "      <td>0.0</td>\n",
       "      <td>Années négatives</td>\n",
       "    </tr>\n",
       "    <tr>\n",
       "      <th>3</th>\n",
       "      <td>Impôts (IS)</td>\n",
       "      <td>-2</td>\n",
       "      <td>0.0</td>\n",
       "      <td>Années négatives</td>\n",
       "    </tr>\n",
       "    <tr>\n",
       "      <th>4</th>\n",
       "      <td>Tirage</td>\n",
       "      <td>-2</td>\n",
       "      <td>441000.0</td>\n",
       "      <td>Années négatives</td>\n",
       "    </tr>\n",
       "    <tr>\n",
       "      <th>...</th>\n",
       "      <td>...</td>\n",
       "      <td>...</td>\n",
       "      <td>...</td>\n",
       "      <td>...</td>\n",
       "    </tr>\n",
       "    <tr>\n",
       "      <th>226</th>\n",
       "      <td>Revenus</td>\n",
       "      <td>30</td>\n",
       "      <td>27997.0</td>\n",
       "      <td>Années 26-30</td>\n",
       "    </tr>\n",
       "    <tr>\n",
       "      <th>227</th>\n",
       "      <td>Impôts (IS)</td>\n",
       "      <td>30</td>\n",
       "      <td>5900.0</td>\n",
       "      <td>Années 26-30</td>\n",
       "    </tr>\n",
       "    <tr>\n",
       "      <th>228</th>\n",
       "      <td>Tirage</td>\n",
       "      <td>30</td>\n",
       "      <td>0.0</td>\n",
       "      <td>Années 26-30</td>\n",
       "    </tr>\n",
       "    <tr>\n",
       "      <th>229</th>\n",
       "      <td>Remboursement</td>\n",
       "      <td>30</td>\n",
       "      <td>0.0</td>\n",
       "      <td>Années 26-30</td>\n",
       "    </tr>\n",
       "    <tr>\n",
       "      <th>230</th>\n",
       "      <td>Intérêts financiers</td>\n",
       "      <td>30</td>\n",
       "      <td>0.0</td>\n",
       "      <td>Années 26-30</td>\n",
       "    </tr>\n",
       "  </tbody>\n",
       "</table>\n",
       "<p>231 rows × 4 columns</p>\n",
       "</div>"
      ],
      "text/plain": [
       "            Type de flux Année projet     value    Période projet\n",
       "0                   OPEX           -2       0.0  Années négatives\n",
       "1                  CAPEX           -2  661500.0  Années négatives\n",
       "2                Revenus           -2       0.0  Années négatives\n",
       "3            Impôts (IS)           -2       0.0  Années négatives\n",
       "4                 Tirage           -2  441000.0  Années négatives\n",
       "..                   ...          ...       ...               ...\n",
       "226              Revenus           30   27997.0      Années 26-30\n",
       "227          Impôts (IS)           30    5900.0      Années 26-30\n",
       "228               Tirage           30       0.0      Années 26-30\n",
       "229        Remboursement           30       0.0      Années 26-30\n",
       "230  Intérêts financiers           30       0.0      Années 26-30\n",
       "\n",
       "[231 rows x 4 columns]"
      ]
     },
     "execution_count": 144,
     "metadata": {},
     "output_type": "execute_result"
    }
   ],
   "source": [
    "def groupement_année(k):\n",
    "    if k<=0:\n",
    "        return \"Années négatives\"\n",
    "    else:\n",
    "        return f\"Années {((k-1)//5)*5+1}-{((k-1)//5+1)*5}\"\n",
    "de = pd.melt(dd.loc[[\"OPEX\",\"CAPEX\",\"Revenus\",\"Impôts (IS)\",\"Tirage\",\"Remboursement\",\"Intérêts financiers\"]].reset_index(),id_vars=\"index\").rename({\"variable\":\"Année projet\",\"index\":\"Type de flux\"},axis=1)\n",
    "de[\"value\"] = de[\"value\"].abs().round()\n",
    "de[\"Période projet\"] = de[\"Année projet\"].apply(groupement_année)\n",
    "de"
   ]
  },
  {
   "cell_type": "code",
   "execution_count": 145,
   "metadata": {},
   "outputs": [
    {
     "data": {
      "application/vnd.plotly.v1+json": {
       "config": {
        "plotlyServerURL": "https://plot.ly"
       },
       "data": [
        {
         "branchvalues": "total",
         "domain": {
          "x": [
           0,
           1
          ],
          "y": [
           0,
           1
          ]
         },
         "hovertemplate": "labels=%{label}<br>value=%{value}<br>parent=%{parent}<br>id=%{id}<extra></extra>",
         "ids": [
          "Ensemble du projet/CAPEX/Années négatives/-2",
          "Ensemble du projet/Impôts (IS)/Années négatives/-2",
          "Ensemble du projet/Intérêts financiers/Années négatives/-2",
          "Ensemble du projet/OPEX/Années négatives/-2",
          "Ensemble du projet/Remboursement/Années négatives/-2",
          "Ensemble du projet/Revenus/Années négatives/-2",
          "Ensemble du projet/Tirage/Années négatives/-2",
          "Ensemble du projet/CAPEX/Années négatives/-1",
          "Ensemble du projet/Impôts (IS)/Années négatives/-1",
          "Ensemble du projet/Intérêts financiers/Années négatives/-1",
          "Ensemble du projet/OPEX/Années négatives/-1",
          "Ensemble du projet/Remboursement/Années négatives/-1",
          "Ensemble du projet/Revenus/Années négatives/-1",
          "Ensemble du projet/Tirage/Années négatives/-1",
          "Ensemble du projet/CAPEX/Années négatives/0",
          "Ensemble du projet/Impôts (IS)/Années négatives/0",
          "Ensemble du projet/Intérêts financiers/Années négatives/0",
          "Ensemble du projet/OPEX/Années négatives/0",
          "Ensemble du projet/Remboursement/Années négatives/0",
          "Ensemble du projet/Revenus/Années négatives/0",
          "Ensemble du projet/Tirage/Années négatives/0",
          "Ensemble du projet/CAPEX/Années 1-5/1",
          "Ensemble du projet/Impôts (IS)/Années 1-5/1",
          "Ensemble du projet/Intérêts financiers/Années 1-5/1",
          "Ensemble du projet/OPEX/Années 1-5/1",
          "Ensemble du projet/Remboursement/Années 1-5/1",
          "Ensemble du projet/Revenus/Années 1-5/1",
          "Ensemble du projet/Tirage/Années 1-5/1",
          "Ensemble du projet/CAPEX/Années 1-5/2",
          "Ensemble du projet/Impôts (IS)/Années 1-5/2",
          "Ensemble du projet/Intérêts financiers/Années 1-5/2",
          "Ensemble du projet/OPEX/Années 1-5/2",
          "Ensemble du projet/Remboursement/Années 1-5/2",
          "Ensemble du projet/Revenus/Années 1-5/2",
          "Ensemble du projet/Tirage/Années 1-5/2",
          "Ensemble du projet/CAPEX/Années 1-5/3",
          "Ensemble du projet/Impôts (IS)/Années 1-5/3",
          "Ensemble du projet/Intérêts financiers/Années 1-5/3",
          "Ensemble du projet/OPEX/Années 1-5/3",
          "Ensemble du projet/Remboursement/Années 1-5/3",
          "Ensemble du projet/Revenus/Années 1-5/3",
          "Ensemble du projet/Tirage/Années 1-5/3",
          "Ensemble du projet/CAPEX/Années 1-5/4",
          "Ensemble du projet/Impôts (IS)/Années 1-5/4",
          "Ensemble du projet/Intérêts financiers/Années 1-5/4",
          "Ensemble du projet/OPEX/Années 1-5/4",
          "Ensemble du projet/Remboursement/Années 1-5/4",
          "Ensemble du projet/Revenus/Années 1-5/4",
          "Ensemble du projet/Tirage/Années 1-5/4",
          "Ensemble du projet/CAPEX/Années 1-5/5",
          "Ensemble du projet/Impôts (IS)/Années 1-5/5",
          "Ensemble du projet/Intérêts financiers/Années 1-5/5",
          "Ensemble du projet/OPEX/Années 1-5/5",
          "Ensemble du projet/Remboursement/Années 1-5/5",
          "Ensemble du projet/Revenus/Années 1-5/5",
          "Ensemble du projet/Tirage/Années 1-5/5",
          "Ensemble du projet/CAPEX/Années 6-10/6",
          "Ensemble du projet/Impôts (IS)/Années 6-10/6",
          "Ensemble du projet/Intérêts financiers/Années 6-10/6",
          "Ensemble du projet/OPEX/Années 6-10/6",
          "Ensemble du projet/Remboursement/Années 6-10/6",
          "Ensemble du projet/Revenus/Années 6-10/6",
          "Ensemble du projet/Tirage/Années 6-10/6",
          "Ensemble du projet/CAPEX/Années 6-10/7",
          "Ensemble du projet/Impôts (IS)/Années 6-10/7",
          "Ensemble du projet/Intérêts financiers/Années 6-10/7",
          "Ensemble du projet/OPEX/Années 6-10/7",
          "Ensemble du projet/Remboursement/Années 6-10/7",
          "Ensemble du projet/Revenus/Années 6-10/7",
          "Ensemble du projet/Tirage/Années 6-10/7",
          "Ensemble du projet/CAPEX/Années 6-10/8",
          "Ensemble du projet/Impôts (IS)/Années 6-10/8",
          "Ensemble du projet/Intérêts financiers/Années 6-10/8",
          "Ensemble du projet/OPEX/Années 6-10/8",
          "Ensemble du projet/Remboursement/Années 6-10/8",
          "Ensemble du projet/Revenus/Années 6-10/8",
          "Ensemble du projet/Tirage/Années 6-10/8",
          "Ensemble du projet/CAPEX/Années 6-10/9",
          "Ensemble du projet/Impôts (IS)/Années 6-10/9",
          "Ensemble du projet/Intérêts financiers/Années 6-10/9",
          "Ensemble du projet/OPEX/Années 6-10/9",
          "Ensemble du projet/Remboursement/Années 6-10/9",
          "Ensemble du projet/Revenus/Années 6-10/9",
          "Ensemble du projet/Tirage/Années 6-10/9",
          "Ensemble du projet/CAPEX/Années 6-10/10",
          "Ensemble du projet/Impôts (IS)/Années 6-10/10",
          "Ensemble du projet/Intérêts financiers/Années 6-10/10",
          "Ensemble du projet/OPEX/Années 6-10/10",
          "Ensemble du projet/Remboursement/Années 6-10/10",
          "Ensemble du projet/Revenus/Années 6-10/10",
          "Ensemble du projet/Tirage/Années 6-10/10",
          "Ensemble du projet/CAPEX/Années 11-15/11",
          "Ensemble du projet/Impôts (IS)/Années 11-15/11",
          "Ensemble du projet/Intérêts financiers/Années 11-15/11",
          "Ensemble du projet/OPEX/Années 11-15/11",
          "Ensemble du projet/Remboursement/Années 11-15/11",
          "Ensemble du projet/Revenus/Années 11-15/11",
          "Ensemble du projet/Tirage/Années 11-15/11",
          "Ensemble du projet/CAPEX/Années 11-15/12",
          "Ensemble du projet/Impôts (IS)/Années 11-15/12",
          "Ensemble du projet/Intérêts financiers/Années 11-15/12",
          "Ensemble du projet/OPEX/Années 11-15/12",
          "Ensemble du projet/Remboursement/Années 11-15/12",
          "Ensemble du projet/Revenus/Années 11-15/12",
          "Ensemble du projet/Tirage/Années 11-15/12",
          "Ensemble du projet/CAPEX/Années 11-15/13",
          "Ensemble du projet/Impôts (IS)/Années 11-15/13",
          "Ensemble du projet/Intérêts financiers/Années 11-15/13",
          "Ensemble du projet/OPEX/Années 11-15/13",
          "Ensemble du projet/Remboursement/Années 11-15/13",
          "Ensemble du projet/Revenus/Années 11-15/13",
          "Ensemble du projet/Tirage/Années 11-15/13",
          "Ensemble du projet/CAPEX/Années 11-15/14",
          "Ensemble du projet/Impôts (IS)/Années 11-15/14",
          "Ensemble du projet/Intérêts financiers/Années 11-15/14",
          "Ensemble du projet/OPEX/Années 11-15/14",
          "Ensemble du projet/Remboursement/Années 11-15/14",
          "Ensemble du projet/Revenus/Années 11-15/14",
          "Ensemble du projet/Tirage/Années 11-15/14",
          "Ensemble du projet/CAPEX/Années 11-15/15",
          "Ensemble du projet/Impôts (IS)/Années 11-15/15",
          "Ensemble du projet/Intérêts financiers/Années 11-15/15",
          "Ensemble du projet/OPEX/Années 11-15/15",
          "Ensemble du projet/Remboursement/Années 11-15/15",
          "Ensemble du projet/Revenus/Années 11-15/15",
          "Ensemble du projet/Tirage/Années 11-15/15",
          "Ensemble du projet/CAPEX/Années 16-20/16",
          "Ensemble du projet/Impôts (IS)/Années 16-20/16",
          "Ensemble du projet/Intérêts financiers/Années 16-20/16",
          "Ensemble du projet/OPEX/Années 16-20/16",
          "Ensemble du projet/Remboursement/Années 16-20/16",
          "Ensemble du projet/Revenus/Années 16-20/16",
          "Ensemble du projet/Tirage/Années 16-20/16",
          "Ensemble du projet/CAPEX/Années 16-20/17",
          "Ensemble du projet/Impôts (IS)/Années 16-20/17",
          "Ensemble du projet/Intérêts financiers/Années 16-20/17",
          "Ensemble du projet/OPEX/Années 16-20/17",
          "Ensemble du projet/Remboursement/Années 16-20/17",
          "Ensemble du projet/Revenus/Années 16-20/17",
          "Ensemble du projet/Tirage/Années 16-20/17",
          "Ensemble du projet/CAPEX/Années 16-20/18",
          "Ensemble du projet/Impôts (IS)/Années 16-20/18",
          "Ensemble du projet/Intérêts financiers/Années 16-20/18",
          "Ensemble du projet/OPEX/Années 16-20/18",
          "Ensemble du projet/Remboursement/Années 16-20/18",
          "Ensemble du projet/Revenus/Années 16-20/18",
          "Ensemble du projet/Tirage/Années 16-20/18",
          "Ensemble du projet/CAPEX/Années 16-20/19",
          "Ensemble du projet/Impôts (IS)/Années 16-20/19",
          "Ensemble du projet/Intérêts financiers/Années 16-20/19",
          "Ensemble du projet/OPEX/Années 16-20/19",
          "Ensemble du projet/Remboursement/Années 16-20/19",
          "Ensemble du projet/Revenus/Années 16-20/19",
          "Ensemble du projet/Tirage/Années 16-20/19",
          "Ensemble du projet/CAPEX/Années 16-20/20",
          "Ensemble du projet/Impôts (IS)/Années 16-20/20",
          "Ensemble du projet/Intérêts financiers/Années 16-20/20",
          "Ensemble du projet/OPEX/Années 16-20/20",
          "Ensemble du projet/Remboursement/Années 16-20/20",
          "Ensemble du projet/Revenus/Années 16-20/20",
          "Ensemble du projet/Tirage/Années 16-20/20",
          "Ensemble du projet/CAPEX/Années 21-25/21",
          "Ensemble du projet/Impôts (IS)/Années 21-25/21",
          "Ensemble du projet/Intérêts financiers/Années 21-25/21",
          "Ensemble du projet/OPEX/Années 21-25/21",
          "Ensemble du projet/Remboursement/Années 21-25/21",
          "Ensemble du projet/Revenus/Années 21-25/21",
          "Ensemble du projet/Tirage/Années 21-25/21",
          "Ensemble du projet/CAPEX/Années 21-25/22",
          "Ensemble du projet/Impôts (IS)/Années 21-25/22",
          "Ensemble du projet/Intérêts financiers/Années 21-25/22",
          "Ensemble du projet/OPEX/Années 21-25/22",
          "Ensemble du projet/Remboursement/Années 21-25/22",
          "Ensemble du projet/Revenus/Années 21-25/22",
          "Ensemble du projet/Tirage/Années 21-25/22",
          "Ensemble du projet/CAPEX/Années 21-25/23",
          "Ensemble du projet/Impôts (IS)/Années 21-25/23",
          "Ensemble du projet/Intérêts financiers/Années 21-25/23",
          "Ensemble du projet/OPEX/Années 21-25/23",
          "Ensemble du projet/Remboursement/Années 21-25/23",
          "Ensemble du projet/Revenus/Années 21-25/23",
          "Ensemble du projet/Tirage/Années 21-25/23",
          "Ensemble du projet/CAPEX/Années 21-25/24",
          "Ensemble du projet/Impôts (IS)/Années 21-25/24",
          "Ensemble du projet/Intérêts financiers/Années 21-25/24",
          "Ensemble du projet/OPEX/Années 21-25/24",
          "Ensemble du projet/Remboursement/Années 21-25/24",
          "Ensemble du projet/Revenus/Années 21-25/24",
          "Ensemble du projet/Tirage/Années 21-25/24",
          "Ensemble du projet/CAPEX/Années 21-25/25",
          "Ensemble du projet/Impôts (IS)/Années 21-25/25",
          "Ensemble du projet/Intérêts financiers/Années 21-25/25",
          "Ensemble du projet/OPEX/Années 21-25/25",
          "Ensemble du projet/Remboursement/Années 21-25/25",
          "Ensemble du projet/Revenus/Années 21-25/25",
          "Ensemble du projet/Tirage/Années 21-25/25",
          "Ensemble du projet/CAPEX/Années 26-30/26",
          "Ensemble du projet/Impôts (IS)/Années 26-30/26",
          "Ensemble du projet/Intérêts financiers/Années 26-30/26",
          "Ensemble du projet/OPEX/Années 26-30/26",
          "Ensemble du projet/Remboursement/Années 26-30/26",
          "Ensemble du projet/Revenus/Années 26-30/26",
          "Ensemble du projet/Tirage/Années 26-30/26",
          "Ensemble du projet/CAPEX/Années 26-30/27",
          "Ensemble du projet/Impôts (IS)/Années 26-30/27",
          "Ensemble du projet/Intérêts financiers/Années 26-30/27",
          "Ensemble du projet/OPEX/Années 26-30/27",
          "Ensemble du projet/Remboursement/Années 26-30/27",
          "Ensemble du projet/Revenus/Années 26-30/27",
          "Ensemble du projet/Tirage/Années 26-30/27",
          "Ensemble du projet/CAPEX/Années 26-30/28",
          "Ensemble du projet/Impôts (IS)/Années 26-30/28",
          "Ensemble du projet/Intérêts financiers/Années 26-30/28",
          "Ensemble du projet/OPEX/Années 26-30/28",
          "Ensemble du projet/Remboursement/Années 26-30/28",
          "Ensemble du projet/Revenus/Années 26-30/28",
          "Ensemble du projet/Tirage/Années 26-30/28",
          "Ensemble du projet/CAPEX/Années 26-30/29",
          "Ensemble du projet/Impôts (IS)/Années 26-30/29",
          "Ensemble du projet/Intérêts financiers/Années 26-30/29",
          "Ensemble du projet/OPEX/Années 26-30/29",
          "Ensemble du projet/Remboursement/Années 26-30/29",
          "Ensemble du projet/Revenus/Années 26-30/29",
          "Ensemble du projet/Tirage/Années 26-30/29",
          "Ensemble du projet/CAPEX/Années 26-30/30",
          "Ensemble du projet/Impôts (IS)/Années 26-30/30",
          "Ensemble du projet/Intérêts financiers/Années 26-30/30",
          "Ensemble du projet/OPEX/Années 26-30/30",
          "Ensemble du projet/Remboursement/Années 26-30/30",
          "Ensemble du projet/Revenus/Années 26-30/30",
          "Ensemble du projet/Tirage/Années 26-30/30",
          "Ensemble du projet/CAPEX/Années 1-5",
          "Ensemble du projet/Impôts (IS)/Années 1-5",
          "Ensemble du projet/Intérêts financiers/Années 1-5",
          "Ensemble du projet/OPEX/Années 1-5",
          "Ensemble du projet/Remboursement/Années 1-5",
          "Ensemble du projet/Revenus/Années 1-5",
          "Ensemble du projet/Tirage/Années 1-5",
          "Ensemble du projet/CAPEX/Années 11-15",
          "Ensemble du projet/Impôts (IS)/Années 11-15",
          "Ensemble du projet/Intérêts financiers/Années 11-15",
          "Ensemble du projet/OPEX/Années 11-15",
          "Ensemble du projet/Remboursement/Années 11-15",
          "Ensemble du projet/Revenus/Années 11-15",
          "Ensemble du projet/Tirage/Années 11-15",
          "Ensemble du projet/CAPEX/Années 16-20",
          "Ensemble du projet/Impôts (IS)/Années 16-20",
          "Ensemble du projet/Intérêts financiers/Années 16-20",
          "Ensemble du projet/OPEX/Années 16-20",
          "Ensemble du projet/Remboursement/Années 16-20",
          "Ensemble du projet/Revenus/Années 16-20",
          "Ensemble du projet/Tirage/Années 16-20",
          "Ensemble du projet/CAPEX/Années 21-25",
          "Ensemble du projet/Impôts (IS)/Années 21-25",
          "Ensemble du projet/Intérêts financiers/Années 21-25",
          "Ensemble du projet/OPEX/Années 21-25",
          "Ensemble du projet/Remboursement/Années 21-25",
          "Ensemble du projet/Revenus/Années 21-25",
          "Ensemble du projet/Tirage/Années 21-25",
          "Ensemble du projet/CAPEX/Années 26-30",
          "Ensemble du projet/Impôts (IS)/Années 26-30",
          "Ensemble du projet/Intérêts financiers/Années 26-30",
          "Ensemble du projet/OPEX/Années 26-30",
          "Ensemble du projet/Remboursement/Années 26-30",
          "Ensemble du projet/Revenus/Années 26-30",
          "Ensemble du projet/Tirage/Années 26-30",
          "Ensemble du projet/CAPEX/Années 6-10",
          "Ensemble du projet/Impôts (IS)/Années 6-10",
          "Ensemble du projet/Intérêts financiers/Années 6-10",
          "Ensemble du projet/OPEX/Années 6-10",
          "Ensemble du projet/Remboursement/Années 6-10",
          "Ensemble du projet/Revenus/Années 6-10",
          "Ensemble du projet/Tirage/Années 6-10",
          "Ensemble du projet/CAPEX/Années négatives",
          "Ensemble du projet/Impôts (IS)/Années négatives",
          "Ensemble du projet/Intérêts financiers/Années négatives",
          "Ensemble du projet/OPEX/Années négatives",
          "Ensemble du projet/Remboursement/Années négatives",
          "Ensemble du projet/Revenus/Années négatives",
          "Ensemble du projet/Tirage/Années négatives",
          "Ensemble du projet/CAPEX",
          "Ensemble du projet/Impôts (IS)",
          "Ensemble du projet/Intérêts financiers",
          "Ensemble du projet/OPEX",
          "Ensemble du projet/Remboursement",
          "Ensemble du projet/Revenus",
          "Ensemble du projet/Tirage",
          "Ensemble du projet"
         ],
         "labels": [
          "-2",
          "-2",
          "-2",
          "-2",
          "-2",
          "-2",
          "-2",
          "-1",
          "-1",
          "-1",
          "-1",
          "-1",
          "-1",
          "-1",
          "0",
          "0",
          "0",
          "0",
          "0",
          "0",
          "0",
          "1",
          "1",
          "1",
          "1",
          "1",
          "1",
          "1",
          "2",
          "2",
          "2",
          "2",
          "2",
          "2",
          "2",
          "3",
          "3",
          "3",
          "3",
          "3",
          "3",
          "3",
          "4",
          "4",
          "4",
          "4",
          "4",
          "4",
          "4",
          "5",
          "5",
          "5",
          "5",
          "5",
          "5",
          "5",
          "6",
          "6",
          "6",
          "6",
          "6",
          "6",
          "6",
          "7",
          "7",
          "7",
          "7",
          "7",
          "7",
          "7",
          "8",
          "8",
          "8",
          "8",
          "8",
          "8",
          "8",
          "9",
          "9",
          "9",
          "9",
          "9",
          "9",
          "9",
          "10",
          "10",
          "10",
          "10",
          "10",
          "10",
          "10",
          "11",
          "11",
          "11",
          "11",
          "11",
          "11",
          "11",
          "12",
          "12",
          "12",
          "12",
          "12",
          "12",
          "12",
          "13",
          "13",
          "13",
          "13",
          "13",
          "13",
          "13",
          "14",
          "14",
          "14",
          "14",
          "14",
          "14",
          "14",
          "15",
          "15",
          "15",
          "15",
          "15",
          "15",
          "15",
          "16",
          "16",
          "16",
          "16",
          "16",
          "16",
          "16",
          "17",
          "17",
          "17",
          "17",
          "17",
          "17",
          "17",
          "18",
          "18",
          "18",
          "18",
          "18",
          "18",
          "18",
          "19",
          "19",
          "19",
          "19",
          "19",
          "19",
          "19",
          "20",
          "20",
          "20",
          "20",
          "20",
          "20",
          "20",
          "21",
          "21",
          "21",
          "21",
          "21",
          "21",
          "21",
          "22",
          "22",
          "22",
          "22",
          "22",
          "22",
          "22",
          "23",
          "23",
          "23",
          "23",
          "23",
          "23",
          "23",
          "24",
          "24",
          "24",
          "24",
          "24",
          "24",
          "24",
          "25",
          "25",
          "25",
          "25",
          "25",
          "25",
          "25",
          "26",
          "26",
          "26",
          "26",
          "26",
          "26",
          "26",
          "27",
          "27",
          "27",
          "27",
          "27",
          "27",
          "27",
          "28",
          "28",
          "28",
          "28",
          "28",
          "28",
          "28",
          "29",
          "29",
          "29",
          "29",
          "29",
          "29",
          "29",
          "30",
          "30",
          "30",
          "30",
          "30",
          "30",
          "30",
          "Années 1-5",
          "Années 1-5",
          "Années 1-5",
          "Années 1-5",
          "Années 1-5",
          "Années 1-5",
          "Années 1-5",
          "Années 11-15",
          "Années 11-15",
          "Années 11-15",
          "Années 11-15",
          "Années 11-15",
          "Années 11-15",
          "Années 11-15",
          "Années 16-20",
          "Années 16-20",
          "Années 16-20",
          "Années 16-20",
          "Années 16-20",
          "Années 16-20",
          "Années 16-20",
          "Années 21-25",
          "Années 21-25",
          "Années 21-25",
          "Années 21-25",
          "Années 21-25",
          "Années 21-25",
          "Années 21-25",
          "Années 26-30",
          "Années 26-30",
          "Années 26-30",
          "Années 26-30",
          "Années 26-30",
          "Années 26-30",
          "Années 26-30",
          "Années 6-10",
          "Années 6-10",
          "Années 6-10",
          "Années 6-10",
          "Années 6-10",
          "Années 6-10",
          "Années 6-10",
          "Années négatives",
          "Années négatives",
          "Années négatives",
          "Années négatives",
          "Années négatives",
          "Années négatives",
          "Années négatives",
          "CAPEX",
          "Impôts (IS)",
          "Intérêts financiers",
          "OPEX",
          "Remboursement",
          "Revenus",
          "Tirage",
          "Ensemble du projet"
         ],
         "maxdepth": 3,
         "name": "",
         "parents": [
          "Ensemble du projet/CAPEX/Années négatives",
          "Ensemble du projet/Impôts (IS)/Années négatives",
          "Ensemble du projet/Intérêts financiers/Années négatives",
          "Ensemble du projet/OPEX/Années négatives",
          "Ensemble du projet/Remboursement/Années négatives",
          "Ensemble du projet/Revenus/Années négatives",
          "Ensemble du projet/Tirage/Années négatives",
          "Ensemble du projet/CAPEX/Années négatives",
          "Ensemble du projet/Impôts (IS)/Années négatives",
          "Ensemble du projet/Intérêts financiers/Années négatives",
          "Ensemble du projet/OPEX/Années négatives",
          "Ensemble du projet/Remboursement/Années négatives",
          "Ensemble du projet/Revenus/Années négatives",
          "Ensemble du projet/Tirage/Années négatives",
          "Ensemble du projet/CAPEX/Années négatives",
          "Ensemble du projet/Impôts (IS)/Années négatives",
          "Ensemble du projet/Intérêts financiers/Années négatives",
          "Ensemble du projet/OPEX/Années négatives",
          "Ensemble du projet/Remboursement/Années négatives",
          "Ensemble du projet/Revenus/Années négatives",
          "Ensemble du projet/Tirage/Années négatives",
          "Ensemble du projet/CAPEX/Années 1-5",
          "Ensemble du projet/Impôts (IS)/Années 1-5",
          "Ensemble du projet/Intérêts financiers/Années 1-5",
          "Ensemble du projet/OPEX/Années 1-5",
          "Ensemble du projet/Remboursement/Années 1-5",
          "Ensemble du projet/Revenus/Années 1-5",
          "Ensemble du projet/Tirage/Années 1-5",
          "Ensemble du projet/CAPEX/Années 1-5",
          "Ensemble du projet/Impôts (IS)/Années 1-5",
          "Ensemble du projet/Intérêts financiers/Années 1-5",
          "Ensemble du projet/OPEX/Années 1-5",
          "Ensemble du projet/Remboursement/Années 1-5",
          "Ensemble du projet/Revenus/Années 1-5",
          "Ensemble du projet/Tirage/Années 1-5",
          "Ensemble du projet/CAPEX/Années 1-5",
          "Ensemble du projet/Impôts (IS)/Années 1-5",
          "Ensemble du projet/Intérêts financiers/Années 1-5",
          "Ensemble du projet/OPEX/Années 1-5",
          "Ensemble du projet/Remboursement/Années 1-5",
          "Ensemble du projet/Revenus/Années 1-5",
          "Ensemble du projet/Tirage/Années 1-5",
          "Ensemble du projet/CAPEX/Années 1-5",
          "Ensemble du projet/Impôts (IS)/Années 1-5",
          "Ensemble du projet/Intérêts financiers/Années 1-5",
          "Ensemble du projet/OPEX/Années 1-5",
          "Ensemble du projet/Remboursement/Années 1-5",
          "Ensemble du projet/Revenus/Années 1-5",
          "Ensemble du projet/Tirage/Années 1-5",
          "Ensemble du projet/CAPEX/Années 1-5",
          "Ensemble du projet/Impôts (IS)/Années 1-5",
          "Ensemble du projet/Intérêts financiers/Années 1-5",
          "Ensemble du projet/OPEX/Années 1-5",
          "Ensemble du projet/Remboursement/Années 1-5",
          "Ensemble du projet/Revenus/Années 1-5",
          "Ensemble du projet/Tirage/Années 1-5",
          "Ensemble du projet/CAPEX/Années 6-10",
          "Ensemble du projet/Impôts (IS)/Années 6-10",
          "Ensemble du projet/Intérêts financiers/Années 6-10",
          "Ensemble du projet/OPEX/Années 6-10",
          "Ensemble du projet/Remboursement/Années 6-10",
          "Ensemble du projet/Revenus/Années 6-10",
          "Ensemble du projet/Tirage/Années 6-10",
          "Ensemble du projet/CAPEX/Années 6-10",
          "Ensemble du projet/Impôts (IS)/Années 6-10",
          "Ensemble du projet/Intérêts financiers/Années 6-10",
          "Ensemble du projet/OPEX/Années 6-10",
          "Ensemble du projet/Remboursement/Années 6-10",
          "Ensemble du projet/Revenus/Années 6-10",
          "Ensemble du projet/Tirage/Années 6-10",
          "Ensemble du projet/CAPEX/Années 6-10",
          "Ensemble du projet/Impôts (IS)/Années 6-10",
          "Ensemble du projet/Intérêts financiers/Années 6-10",
          "Ensemble du projet/OPEX/Années 6-10",
          "Ensemble du projet/Remboursement/Années 6-10",
          "Ensemble du projet/Revenus/Années 6-10",
          "Ensemble du projet/Tirage/Années 6-10",
          "Ensemble du projet/CAPEX/Années 6-10",
          "Ensemble du projet/Impôts (IS)/Années 6-10",
          "Ensemble du projet/Intérêts financiers/Années 6-10",
          "Ensemble du projet/OPEX/Années 6-10",
          "Ensemble du projet/Remboursement/Années 6-10",
          "Ensemble du projet/Revenus/Années 6-10",
          "Ensemble du projet/Tirage/Années 6-10",
          "Ensemble du projet/CAPEX/Années 6-10",
          "Ensemble du projet/Impôts (IS)/Années 6-10",
          "Ensemble du projet/Intérêts financiers/Années 6-10",
          "Ensemble du projet/OPEX/Années 6-10",
          "Ensemble du projet/Remboursement/Années 6-10",
          "Ensemble du projet/Revenus/Années 6-10",
          "Ensemble du projet/Tirage/Années 6-10",
          "Ensemble du projet/CAPEX/Années 11-15",
          "Ensemble du projet/Impôts (IS)/Années 11-15",
          "Ensemble du projet/Intérêts financiers/Années 11-15",
          "Ensemble du projet/OPEX/Années 11-15",
          "Ensemble du projet/Remboursement/Années 11-15",
          "Ensemble du projet/Revenus/Années 11-15",
          "Ensemble du projet/Tirage/Années 11-15",
          "Ensemble du projet/CAPEX/Années 11-15",
          "Ensemble du projet/Impôts (IS)/Années 11-15",
          "Ensemble du projet/Intérêts financiers/Années 11-15",
          "Ensemble du projet/OPEX/Années 11-15",
          "Ensemble du projet/Remboursement/Années 11-15",
          "Ensemble du projet/Revenus/Années 11-15",
          "Ensemble du projet/Tirage/Années 11-15",
          "Ensemble du projet/CAPEX/Années 11-15",
          "Ensemble du projet/Impôts (IS)/Années 11-15",
          "Ensemble du projet/Intérêts financiers/Années 11-15",
          "Ensemble du projet/OPEX/Années 11-15",
          "Ensemble du projet/Remboursement/Années 11-15",
          "Ensemble du projet/Revenus/Années 11-15",
          "Ensemble du projet/Tirage/Années 11-15",
          "Ensemble du projet/CAPEX/Années 11-15",
          "Ensemble du projet/Impôts (IS)/Années 11-15",
          "Ensemble du projet/Intérêts financiers/Années 11-15",
          "Ensemble du projet/OPEX/Années 11-15",
          "Ensemble du projet/Remboursement/Années 11-15",
          "Ensemble du projet/Revenus/Années 11-15",
          "Ensemble du projet/Tirage/Années 11-15",
          "Ensemble du projet/CAPEX/Années 11-15",
          "Ensemble du projet/Impôts (IS)/Années 11-15",
          "Ensemble du projet/Intérêts financiers/Années 11-15",
          "Ensemble du projet/OPEX/Années 11-15",
          "Ensemble du projet/Remboursement/Années 11-15",
          "Ensemble du projet/Revenus/Années 11-15",
          "Ensemble du projet/Tirage/Années 11-15",
          "Ensemble du projet/CAPEX/Années 16-20",
          "Ensemble du projet/Impôts (IS)/Années 16-20",
          "Ensemble du projet/Intérêts financiers/Années 16-20",
          "Ensemble du projet/OPEX/Années 16-20",
          "Ensemble du projet/Remboursement/Années 16-20",
          "Ensemble du projet/Revenus/Années 16-20",
          "Ensemble du projet/Tirage/Années 16-20",
          "Ensemble du projet/CAPEX/Années 16-20",
          "Ensemble du projet/Impôts (IS)/Années 16-20",
          "Ensemble du projet/Intérêts financiers/Années 16-20",
          "Ensemble du projet/OPEX/Années 16-20",
          "Ensemble du projet/Remboursement/Années 16-20",
          "Ensemble du projet/Revenus/Années 16-20",
          "Ensemble du projet/Tirage/Années 16-20",
          "Ensemble du projet/CAPEX/Années 16-20",
          "Ensemble du projet/Impôts (IS)/Années 16-20",
          "Ensemble du projet/Intérêts financiers/Années 16-20",
          "Ensemble du projet/OPEX/Années 16-20",
          "Ensemble du projet/Remboursement/Années 16-20",
          "Ensemble du projet/Revenus/Années 16-20",
          "Ensemble du projet/Tirage/Années 16-20",
          "Ensemble du projet/CAPEX/Années 16-20",
          "Ensemble du projet/Impôts (IS)/Années 16-20",
          "Ensemble du projet/Intérêts financiers/Années 16-20",
          "Ensemble du projet/OPEX/Années 16-20",
          "Ensemble du projet/Remboursement/Années 16-20",
          "Ensemble du projet/Revenus/Années 16-20",
          "Ensemble du projet/Tirage/Années 16-20",
          "Ensemble du projet/CAPEX/Années 16-20",
          "Ensemble du projet/Impôts (IS)/Années 16-20",
          "Ensemble du projet/Intérêts financiers/Années 16-20",
          "Ensemble du projet/OPEX/Années 16-20",
          "Ensemble du projet/Remboursement/Années 16-20",
          "Ensemble du projet/Revenus/Années 16-20",
          "Ensemble du projet/Tirage/Années 16-20",
          "Ensemble du projet/CAPEX/Années 21-25",
          "Ensemble du projet/Impôts (IS)/Années 21-25",
          "Ensemble du projet/Intérêts financiers/Années 21-25",
          "Ensemble du projet/OPEX/Années 21-25",
          "Ensemble du projet/Remboursement/Années 21-25",
          "Ensemble du projet/Revenus/Années 21-25",
          "Ensemble du projet/Tirage/Années 21-25",
          "Ensemble du projet/CAPEX/Années 21-25",
          "Ensemble du projet/Impôts (IS)/Années 21-25",
          "Ensemble du projet/Intérêts financiers/Années 21-25",
          "Ensemble du projet/OPEX/Années 21-25",
          "Ensemble du projet/Remboursement/Années 21-25",
          "Ensemble du projet/Revenus/Années 21-25",
          "Ensemble du projet/Tirage/Années 21-25",
          "Ensemble du projet/CAPEX/Années 21-25",
          "Ensemble du projet/Impôts (IS)/Années 21-25",
          "Ensemble du projet/Intérêts financiers/Années 21-25",
          "Ensemble du projet/OPEX/Années 21-25",
          "Ensemble du projet/Remboursement/Années 21-25",
          "Ensemble du projet/Revenus/Années 21-25",
          "Ensemble du projet/Tirage/Années 21-25",
          "Ensemble du projet/CAPEX/Années 21-25",
          "Ensemble du projet/Impôts (IS)/Années 21-25",
          "Ensemble du projet/Intérêts financiers/Années 21-25",
          "Ensemble du projet/OPEX/Années 21-25",
          "Ensemble du projet/Remboursement/Années 21-25",
          "Ensemble du projet/Revenus/Années 21-25",
          "Ensemble du projet/Tirage/Années 21-25",
          "Ensemble du projet/CAPEX/Années 21-25",
          "Ensemble du projet/Impôts (IS)/Années 21-25",
          "Ensemble du projet/Intérêts financiers/Années 21-25",
          "Ensemble du projet/OPEX/Années 21-25",
          "Ensemble du projet/Remboursement/Années 21-25",
          "Ensemble du projet/Revenus/Années 21-25",
          "Ensemble du projet/Tirage/Années 21-25",
          "Ensemble du projet/CAPEX/Années 26-30",
          "Ensemble du projet/Impôts (IS)/Années 26-30",
          "Ensemble du projet/Intérêts financiers/Années 26-30",
          "Ensemble du projet/OPEX/Années 26-30",
          "Ensemble du projet/Remboursement/Années 26-30",
          "Ensemble du projet/Revenus/Années 26-30",
          "Ensemble du projet/Tirage/Années 26-30",
          "Ensemble du projet/CAPEX/Années 26-30",
          "Ensemble du projet/Impôts (IS)/Années 26-30",
          "Ensemble du projet/Intérêts financiers/Années 26-30",
          "Ensemble du projet/OPEX/Années 26-30",
          "Ensemble du projet/Remboursement/Années 26-30",
          "Ensemble du projet/Revenus/Années 26-30",
          "Ensemble du projet/Tirage/Années 26-30",
          "Ensemble du projet/CAPEX/Années 26-30",
          "Ensemble du projet/Impôts (IS)/Années 26-30",
          "Ensemble du projet/Intérêts financiers/Années 26-30",
          "Ensemble du projet/OPEX/Années 26-30",
          "Ensemble du projet/Remboursement/Années 26-30",
          "Ensemble du projet/Revenus/Années 26-30",
          "Ensemble du projet/Tirage/Années 26-30",
          "Ensemble du projet/CAPEX/Années 26-30",
          "Ensemble du projet/Impôts (IS)/Années 26-30",
          "Ensemble du projet/Intérêts financiers/Années 26-30",
          "Ensemble du projet/OPEX/Années 26-30",
          "Ensemble du projet/Remboursement/Années 26-30",
          "Ensemble du projet/Revenus/Années 26-30",
          "Ensemble du projet/Tirage/Années 26-30",
          "Ensemble du projet/CAPEX/Années 26-30",
          "Ensemble du projet/Impôts (IS)/Années 26-30",
          "Ensemble du projet/Intérêts financiers/Années 26-30",
          "Ensemble du projet/OPEX/Années 26-30",
          "Ensemble du projet/Remboursement/Années 26-30",
          "Ensemble du projet/Revenus/Années 26-30",
          "Ensemble du projet/Tirage/Années 26-30",
          "Ensemble du projet/CAPEX",
          "Ensemble du projet/Impôts (IS)",
          "Ensemble du projet/Intérêts financiers",
          "Ensemble du projet/OPEX",
          "Ensemble du projet/Remboursement",
          "Ensemble du projet/Revenus",
          "Ensemble du projet/Tirage",
          "Ensemble du projet/CAPEX",
          "Ensemble du projet/Impôts (IS)",
          "Ensemble du projet/Intérêts financiers",
          "Ensemble du projet/OPEX",
          "Ensemble du projet/Remboursement",
          "Ensemble du projet/Revenus",
          "Ensemble du projet/Tirage",
          "Ensemble du projet/CAPEX",
          "Ensemble du projet/Impôts (IS)",
          "Ensemble du projet/Intérêts financiers",
          "Ensemble du projet/OPEX",
          "Ensemble du projet/Remboursement",
          "Ensemble du projet/Revenus",
          "Ensemble du projet/Tirage",
          "Ensemble du projet/CAPEX",
          "Ensemble du projet/Impôts (IS)",
          "Ensemble du projet/Intérêts financiers",
          "Ensemble du projet/OPEX",
          "Ensemble du projet/Remboursement",
          "Ensemble du projet/Revenus",
          "Ensemble du projet/Tirage",
          "Ensemble du projet/CAPEX",
          "Ensemble du projet/Impôts (IS)",
          "Ensemble du projet/Intérêts financiers",
          "Ensemble du projet/OPEX",
          "Ensemble du projet/Remboursement",
          "Ensemble du projet/Revenus",
          "Ensemble du projet/Tirage",
          "Ensemble du projet/CAPEX",
          "Ensemble du projet/Impôts (IS)",
          "Ensemble du projet/Intérêts financiers",
          "Ensemble du projet/OPEX",
          "Ensemble du projet/Remboursement",
          "Ensemble du projet/Revenus",
          "Ensemble du projet/Tirage",
          "Ensemble du projet/CAPEX",
          "Ensemble du projet/Impôts (IS)",
          "Ensemble du projet/Intérêts financiers",
          "Ensemble du projet/OPEX",
          "Ensemble du projet/Remboursement",
          "Ensemble du projet/Revenus",
          "Ensemble du projet/Tirage",
          "Ensemble du projet",
          "Ensemble du projet",
          "Ensemble du projet",
          "Ensemble du projet",
          "Ensemble du projet",
          "Ensemble du projet",
          "Ensemble du projet",
          ""
         ],
         "root": {
          "color": "lightgrey"
         },
         "textinfo": "label+value",
         "type": "treemap",
         "values": [
          661500,
          0,
          8820,
          0,
          36750,
          0,
          441000,
          630000,
          0,
          7700,
          0,
          35000,
          0,
          0,
          600000,
          0,
          6667,
          0,
          33333,
          0,
          0,
          0,
          857,
          5714,
          34286,
          31746,
          157143,
          0,
          0,
          998,
          4837,
          32653,
          30234,
          149660,
          0,
          0,
          1123,
          4031,
          31098,
          28795,
          142533,
          0,
          0,
          1234,
          3291,
          29617,
          27423,
          135746,
          0,
          0,
          862,
          4179,
          28207,
          33953,
          129282,
          78353,
          0,
          1015,
          3333,
          26864,
          32336,
          123126,
          0,
          0,
          1151,
          2558,
          25585,
          30796,
          117262,
          0,
          0,
          1272,
          1850,
          24366,
          29330,
          111678,
          0,
          0,
          1379,
          1203,
          23206,
          27933,
          106360,
          0,
          0,
          1473,
          614,
          22101,
          6139,
          101296,
          0,
          0,
          22487,
          468,
          21048,
          5847,
          96472,
          0,
          0,
          21449,
          334,
          20046,
          5568,
          91878,
          0,
          0,
          20460,
          212,
          19092,
          5303,
          87503,
          0,
          0,
          19516,
          101,
          18182,
          5051,
          83336,
          0,
          24051,
          18615,
          0,
          17317,
          0,
          79368,
          0,
          22906,
          11682,
          0,
          16492,
          0,
          55431,
          0,
          21815,
          11126,
          0,
          15707,
          0,
          52792,
          0,
          0,
          8103,
          0,
          14959,
          0,
          50278,
          0,
          0,
          7717,
          0,
          14246,
          0,
          47884,
          0,
          0,
          7349,
          0,
          13568,
          0,
          45604,
          0,
          0,
          6999,
          0,
          12922,
          0,
          43432,
          0,
          0,
          6666,
          0,
          12307,
          0,
          41364,
          0,
          0,
          8302,
          0,
          11721,
          0,
          39394,
          0,
          0,
          7907,
          0,
          11162,
          0,
          37518,
          0,
          0,
          7530,
          0,
          10631,
          0,
          35732,
          0,
          0,
          7172,
          0,
          10125,
          0,
          34030,
          0,
          0,
          6830,
          0,
          9643,
          0,
          32410,
          0,
          0,
          6505,
          0,
          9183,
          0,
          30866,
          0,
          0,
          6195,
          0,
          8746,
          0,
          29397,
          0,
          0,
          5900,
          0,
          8330,
          0,
          27997,
          0,
          0,
          5074,
          22052,
          155861,
          152151,
          714364,
          78353,
          24051,
          102527,
          1115,
          95685,
          21769,
          438557,
          0,
          44721,
          45977,
          0,
          74972,
          0,
          251989,
          0,
          0,
          37404,
          0,
          58743,
          0,
          197440,
          0,
          0,
          32602,
          0,
          46027,
          0,
          154700,
          0,
          0,
          6290,
          9558,
          122122,
          126534,
          559722,
          0,
          1891500,
          0,
          23187,
          0,
          105083,
          0,
          441000,
          1960272,
          229874,
          55912,
          553410,
          405537,
          2316772,
          519353,
          6041130
         ]
        }
       ],
       "layout": {
        "legend": {
         "tracegroupgap": 0
        },
        "margin": {
         "t": 60
        },
        "template": {
         "data": {
          "bar": [
           {
            "error_x": {
             "color": "#2a3f5f"
            },
            "error_y": {
             "color": "#2a3f5f"
            },
            "marker": {
             "line": {
              "color": "#E5ECF6",
              "width": 0.5
             },
             "pattern": {
              "fillmode": "overlay",
              "size": 10,
              "solidity": 0.2
             }
            },
            "type": "bar"
           }
          ],
          "barpolar": [
           {
            "marker": {
             "line": {
              "color": "#E5ECF6",
              "width": 0.5
             },
             "pattern": {
              "fillmode": "overlay",
              "size": 10,
              "solidity": 0.2
             }
            },
            "type": "barpolar"
           }
          ],
          "carpet": [
           {
            "aaxis": {
             "endlinecolor": "#2a3f5f",
             "gridcolor": "white",
             "linecolor": "white",
             "minorgridcolor": "white",
             "startlinecolor": "#2a3f5f"
            },
            "baxis": {
             "endlinecolor": "#2a3f5f",
             "gridcolor": "white",
             "linecolor": "white",
             "minorgridcolor": "white",
             "startlinecolor": "#2a3f5f"
            },
            "type": "carpet"
           }
          ],
          "choropleth": [
           {
            "colorbar": {
             "outlinewidth": 0,
             "ticks": ""
            },
            "type": "choropleth"
           }
          ],
          "contour": [
           {
            "colorbar": {
             "outlinewidth": 0,
             "ticks": ""
            },
            "colorscale": [
             [
              0,
              "#0d0887"
             ],
             [
              0.1111111111111111,
              "#46039f"
             ],
             [
              0.2222222222222222,
              "#7201a8"
             ],
             [
              0.3333333333333333,
              "#9c179e"
             ],
             [
              0.4444444444444444,
              "#bd3786"
             ],
             [
              0.5555555555555556,
              "#d8576b"
             ],
             [
              0.6666666666666666,
              "#ed7953"
             ],
             [
              0.7777777777777778,
              "#fb9f3a"
             ],
             [
              0.8888888888888888,
              "#fdca26"
             ],
             [
              1,
              "#f0f921"
             ]
            ],
            "type": "contour"
           }
          ],
          "contourcarpet": [
           {
            "colorbar": {
             "outlinewidth": 0,
             "ticks": ""
            },
            "type": "contourcarpet"
           }
          ],
          "heatmap": [
           {
            "colorbar": {
             "outlinewidth": 0,
             "ticks": ""
            },
            "colorscale": [
             [
              0,
              "#0d0887"
             ],
             [
              0.1111111111111111,
              "#46039f"
             ],
             [
              0.2222222222222222,
              "#7201a8"
             ],
             [
              0.3333333333333333,
              "#9c179e"
             ],
             [
              0.4444444444444444,
              "#bd3786"
             ],
             [
              0.5555555555555556,
              "#d8576b"
             ],
             [
              0.6666666666666666,
              "#ed7953"
             ],
             [
              0.7777777777777778,
              "#fb9f3a"
             ],
             [
              0.8888888888888888,
              "#fdca26"
             ],
             [
              1,
              "#f0f921"
             ]
            ],
            "type": "heatmap"
           }
          ],
          "heatmapgl": [
           {
            "colorbar": {
             "outlinewidth": 0,
             "ticks": ""
            },
            "colorscale": [
             [
              0,
              "#0d0887"
             ],
             [
              0.1111111111111111,
              "#46039f"
             ],
             [
              0.2222222222222222,
              "#7201a8"
             ],
             [
              0.3333333333333333,
              "#9c179e"
             ],
             [
              0.4444444444444444,
              "#bd3786"
             ],
             [
              0.5555555555555556,
              "#d8576b"
             ],
             [
              0.6666666666666666,
              "#ed7953"
             ],
             [
              0.7777777777777778,
              "#fb9f3a"
             ],
             [
              0.8888888888888888,
              "#fdca26"
             ],
             [
              1,
              "#f0f921"
             ]
            ],
            "type": "heatmapgl"
           }
          ],
          "histogram": [
           {
            "marker": {
             "pattern": {
              "fillmode": "overlay",
              "size": 10,
              "solidity": 0.2
             }
            },
            "type": "histogram"
           }
          ],
          "histogram2d": [
           {
            "colorbar": {
             "outlinewidth": 0,
             "ticks": ""
            },
            "colorscale": [
             [
              0,
              "#0d0887"
             ],
             [
              0.1111111111111111,
              "#46039f"
             ],
             [
              0.2222222222222222,
              "#7201a8"
             ],
             [
              0.3333333333333333,
              "#9c179e"
             ],
             [
              0.4444444444444444,
              "#bd3786"
             ],
             [
              0.5555555555555556,
              "#d8576b"
             ],
             [
              0.6666666666666666,
              "#ed7953"
             ],
             [
              0.7777777777777778,
              "#fb9f3a"
             ],
             [
              0.8888888888888888,
              "#fdca26"
             ],
             [
              1,
              "#f0f921"
             ]
            ],
            "type": "histogram2d"
           }
          ],
          "histogram2dcontour": [
           {
            "colorbar": {
             "outlinewidth": 0,
             "ticks": ""
            },
            "colorscale": [
             [
              0,
              "#0d0887"
             ],
             [
              0.1111111111111111,
              "#46039f"
             ],
             [
              0.2222222222222222,
              "#7201a8"
             ],
             [
              0.3333333333333333,
              "#9c179e"
             ],
             [
              0.4444444444444444,
              "#bd3786"
             ],
             [
              0.5555555555555556,
              "#d8576b"
             ],
             [
              0.6666666666666666,
              "#ed7953"
             ],
             [
              0.7777777777777778,
              "#fb9f3a"
             ],
             [
              0.8888888888888888,
              "#fdca26"
             ],
             [
              1,
              "#f0f921"
             ]
            ],
            "type": "histogram2dcontour"
           }
          ],
          "mesh3d": [
           {
            "colorbar": {
             "outlinewidth": 0,
             "ticks": ""
            },
            "type": "mesh3d"
           }
          ],
          "parcoords": [
           {
            "line": {
             "colorbar": {
              "outlinewidth": 0,
              "ticks": ""
             }
            },
            "type": "parcoords"
           }
          ],
          "pie": [
           {
            "automargin": true,
            "type": "pie"
           }
          ],
          "scatter": [
           {
            "fillpattern": {
             "fillmode": "overlay",
             "size": 10,
             "solidity": 0.2
            },
            "type": "scatter"
           }
          ],
          "scatter3d": [
           {
            "line": {
             "colorbar": {
              "outlinewidth": 0,
              "ticks": ""
             }
            },
            "marker": {
             "colorbar": {
              "outlinewidth": 0,
              "ticks": ""
             }
            },
            "type": "scatter3d"
           }
          ],
          "scattercarpet": [
           {
            "marker": {
             "colorbar": {
              "outlinewidth": 0,
              "ticks": ""
             }
            },
            "type": "scattercarpet"
           }
          ],
          "scattergeo": [
           {
            "marker": {
             "colorbar": {
              "outlinewidth": 0,
              "ticks": ""
             }
            },
            "type": "scattergeo"
           }
          ],
          "scattergl": [
           {
            "marker": {
             "colorbar": {
              "outlinewidth": 0,
              "ticks": ""
             }
            },
            "type": "scattergl"
           }
          ],
          "scattermapbox": [
           {
            "marker": {
             "colorbar": {
              "outlinewidth": 0,
              "ticks": ""
             }
            },
            "type": "scattermapbox"
           }
          ],
          "scatterpolar": [
           {
            "marker": {
             "colorbar": {
              "outlinewidth": 0,
              "ticks": ""
             }
            },
            "type": "scatterpolar"
           }
          ],
          "scatterpolargl": [
           {
            "marker": {
             "colorbar": {
              "outlinewidth": 0,
              "ticks": ""
             }
            },
            "type": "scatterpolargl"
           }
          ],
          "scatterternary": [
           {
            "marker": {
             "colorbar": {
              "outlinewidth": 0,
              "ticks": ""
             }
            },
            "type": "scatterternary"
           }
          ],
          "surface": [
           {
            "colorbar": {
             "outlinewidth": 0,
             "ticks": ""
            },
            "colorscale": [
             [
              0,
              "#0d0887"
             ],
             [
              0.1111111111111111,
              "#46039f"
             ],
             [
              0.2222222222222222,
              "#7201a8"
             ],
             [
              0.3333333333333333,
              "#9c179e"
             ],
             [
              0.4444444444444444,
              "#bd3786"
             ],
             [
              0.5555555555555556,
              "#d8576b"
             ],
             [
              0.6666666666666666,
              "#ed7953"
             ],
             [
              0.7777777777777778,
              "#fb9f3a"
             ],
             [
              0.8888888888888888,
              "#fdca26"
             ],
             [
              1,
              "#f0f921"
             ]
            ],
            "type": "surface"
           }
          ],
          "table": [
           {
            "cells": {
             "fill": {
              "color": "#EBF0F8"
             },
             "line": {
              "color": "white"
             }
            },
            "header": {
             "fill": {
              "color": "#C8D4E3"
             },
             "line": {
              "color": "white"
             }
            },
            "type": "table"
           }
          ]
         },
         "layout": {
          "annotationdefaults": {
           "arrowcolor": "#2a3f5f",
           "arrowhead": 0,
           "arrowwidth": 1
          },
          "autotypenumbers": "strict",
          "coloraxis": {
           "colorbar": {
            "outlinewidth": 0,
            "ticks": ""
           }
          },
          "colorscale": {
           "diverging": [
            [
             0,
             "#8e0152"
            ],
            [
             0.1,
             "#c51b7d"
            ],
            [
             0.2,
             "#de77ae"
            ],
            [
             0.3,
             "#f1b6da"
            ],
            [
             0.4,
             "#fde0ef"
            ],
            [
             0.5,
             "#f7f7f7"
            ],
            [
             0.6,
             "#e6f5d0"
            ],
            [
             0.7,
             "#b8e186"
            ],
            [
             0.8,
             "#7fbc41"
            ],
            [
             0.9,
             "#4d9221"
            ],
            [
             1,
             "#276419"
            ]
           ],
           "sequential": [
            [
             0,
             "#0d0887"
            ],
            [
             0.1111111111111111,
             "#46039f"
            ],
            [
             0.2222222222222222,
             "#7201a8"
            ],
            [
             0.3333333333333333,
             "#9c179e"
            ],
            [
             0.4444444444444444,
             "#bd3786"
            ],
            [
             0.5555555555555556,
             "#d8576b"
            ],
            [
             0.6666666666666666,
             "#ed7953"
            ],
            [
             0.7777777777777778,
             "#fb9f3a"
            ],
            [
             0.8888888888888888,
             "#fdca26"
            ],
            [
             1,
             "#f0f921"
            ]
           ],
           "sequentialminus": [
            [
             0,
             "#0d0887"
            ],
            [
             0.1111111111111111,
             "#46039f"
            ],
            [
             0.2222222222222222,
             "#7201a8"
            ],
            [
             0.3333333333333333,
             "#9c179e"
            ],
            [
             0.4444444444444444,
             "#bd3786"
            ],
            [
             0.5555555555555556,
             "#d8576b"
            ],
            [
             0.6666666666666666,
             "#ed7953"
            ],
            [
             0.7777777777777778,
             "#fb9f3a"
            ],
            [
             0.8888888888888888,
             "#fdca26"
            ],
            [
             1,
             "#f0f921"
            ]
           ]
          },
          "colorway": [
           "#636efa",
           "#EF553B",
           "#00cc96",
           "#ab63fa",
           "#FFA15A",
           "#19d3f3",
           "#FF6692",
           "#B6E880",
           "#FF97FF",
           "#FECB52"
          ],
          "font": {
           "color": "#2a3f5f"
          },
          "geo": {
           "bgcolor": "white",
           "lakecolor": "white",
           "landcolor": "#E5ECF6",
           "showlakes": true,
           "showland": true,
           "subunitcolor": "white"
          },
          "hoverlabel": {
           "align": "left"
          },
          "hovermode": "closest",
          "mapbox": {
           "style": "light"
          },
          "paper_bgcolor": "white",
          "plot_bgcolor": "#E5ECF6",
          "polar": {
           "angularaxis": {
            "gridcolor": "white",
            "linecolor": "white",
            "ticks": ""
           },
           "bgcolor": "#E5ECF6",
           "radialaxis": {
            "gridcolor": "white",
            "linecolor": "white",
            "ticks": ""
           }
          },
          "scene": {
           "xaxis": {
            "backgroundcolor": "#E5ECF6",
            "gridcolor": "white",
            "gridwidth": 2,
            "linecolor": "white",
            "showbackground": true,
            "ticks": "",
            "zerolinecolor": "white"
           },
           "yaxis": {
            "backgroundcolor": "#E5ECF6",
            "gridcolor": "white",
            "gridwidth": 2,
            "linecolor": "white",
            "showbackground": true,
            "ticks": "",
            "zerolinecolor": "white"
           },
           "zaxis": {
            "backgroundcolor": "#E5ECF6",
            "gridcolor": "white",
            "gridwidth": 2,
            "linecolor": "white",
            "showbackground": true,
            "ticks": "",
            "zerolinecolor": "white"
           }
          },
          "shapedefaults": {
           "line": {
            "color": "#2a3f5f"
           }
          },
          "ternary": {
           "aaxis": {
            "gridcolor": "white",
            "linecolor": "white",
            "ticks": ""
           },
           "baxis": {
            "gridcolor": "white",
            "linecolor": "white",
            "ticks": ""
           },
           "bgcolor": "#E5ECF6",
           "caxis": {
            "gridcolor": "white",
            "linecolor": "white",
            "ticks": ""
           }
          },
          "title": {
           "x": 0.05
          },
          "xaxis": {
           "automargin": true,
           "gridcolor": "white",
           "linecolor": "white",
           "ticks": "",
           "title": {
            "standoff": 15
           },
           "zerolinecolor": "white",
           "zerolinewidth": 2
          },
          "yaxis": {
           "automargin": true,
           "gridcolor": "white",
           "linecolor": "white",
           "ticks": "",
           "title": {
            "standoff": 15
           },
           "zerolinecolor": "white",
           "zerolinewidth": 2
          }
         }
        },
        "title": {
         "text": "Valeur actualisé des flux du projet"
        }
       }
      }
     },
     "metadata": {},
     "output_type": "display_data"
    }
   ],
   "source": [
    "fig = px.treemap(\n",
    "    de, \n",
    "    path = [px.Constant(\"Ensemble du projet\"), \"Type de flux\", \"Période projet\", \"Année projet\"], \n",
    "    values=\"value\",\n",
    "    maxdepth=3\n",
    ")\n",
    "fig.data[0].textinfo = 'label+value'\n",
    "fig.update_traces(root_color=\"lightgrey\")\n",
    "fig.update_layout(title = \"Valeur actualisé des flux du projet\")\n",
    "fig.show()"
   ]
  },
  {
   "cell_type": "code",
   "execution_count": 10,
   "metadata": {},
   "outputs": [
    {
     "data": {
      "text/plain": [
       "9.999999999999986"
      ]
     },
     "execution_count": 10,
     "metadata": {},
     "output_type": "execute_result"
    }
   ],
   "source": [
    "npf.irr([30,-10*1.1,-10*1.1**2,-10*1.1**3])*100"
   ]
  },
  {
   "cell_type": "code",
   "execution_count": 152,
   "metadata": {},
   "outputs": [
    {
     "data": {
      "application/vnd.plotly.v1+json": {
       "config": {
        "plotlyServerURL": "https://plot.ly"
       },
       "data": [
        {
         "name": "CAPEX",
         "type": "bar",
         "x": [
          "Positif",
          "Négatif"
         ],
         "y": [
          0,
          1960271.2653846615
         ]
        },
        {
         "name": "OPEX",
         "type": "bar",
         "x": [
          "Positif",
          "Négatif"
         ],
         "y": [
          0,
          553408.2369677819
         ]
        },
        {
         "name": "Revenus",
         "type": "bar",
         "x": [
          "Positif",
          "Négatif"
         ],
         "y": [
          2316771.527932768,
          0
         ]
        },
        {
         "name": "Impôts (IS)",
         "type": "bar",
         "x": [
          "Positif",
          "Négatif"
         ],
         "y": [
          0,
          229874.99738412083
         ]
        },
        {
         "name": "Tirage",
         "type": "bar",
         "x": [
          "Positif",
          "Négatif"
         ],
         "y": [
          519352.61664684594,
          0
         ]
        },
        {
         "name": "Remboursement",
         "type": "bar",
         "x": [
          "Positif",
          "Négatif"
         ],
         "y": [
          0,
          405537.62688074104
         ]
        },
        {
         "name": "Intérêts financiers",
         "type": "bar",
         "x": [
          "Positif",
          "Négatif"
         ],
         "y": [
          0,
          55913.04823937884
         ]
        }
       ],
       "layout": {
        "barmode": "relative",
        "template": {
         "data": {
          "bar": [
           {
            "error_x": {
             "color": "#2a3f5f"
            },
            "error_y": {
             "color": "#2a3f5f"
            },
            "marker": {
             "line": {
              "color": "#E5ECF6",
              "width": 0.5
             },
             "pattern": {
              "fillmode": "overlay",
              "size": 10,
              "solidity": 0.2
             }
            },
            "type": "bar"
           }
          ],
          "barpolar": [
           {
            "marker": {
             "line": {
              "color": "#E5ECF6",
              "width": 0.5
             },
             "pattern": {
              "fillmode": "overlay",
              "size": 10,
              "solidity": 0.2
             }
            },
            "type": "barpolar"
           }
          ],
          "carpet": [
           {
            "aaxis": {
             "endlinecolor": "#2a3f5f",
             "gridcolor": "white",
             "linecolor": "white",
             "minorgridcolor": "white",
             "startlinecolor": "#2a3f5f"
            },
            "baxis": {
             "endlinecolor": "#2a3f5f",
             "gridcolor": "white",
             "linecolor": "white",
             "minorgridcolor": "white",
             "startlinecolor": "#2a3f5f"
            },
            "type": "carpet"
           }
          ],
          "choropleth": [
           {
            "colorbar": {
             "outlinewidth": 0,
             "ticks": ""
            },
            "type": "choropleth"
           }
          ],
          "contour": [
           {
            "colorbar": {
             "outlinewidth": 0,
             "ticks": ""
            },
            "colorscale": [
             [
              0,
              "#0d0887"
             ],
             [
              0.1111111111111111,
              "#46039f"
             ],
             [
              0.2222222222222222,
              "#7201a8"
             ],
             [
              0.3333333333333333,
              "#9c179e"
             ],
             [
              0.4444444444444444,
              "#bd3786"
             ],
             [
              0.5555555555555556,
              "#d8576b"
             ],
             [
              0.6666666666666666,
              "#ed7953"
             ],
             [
              0.7777777777777778,
              "#fb9f3a"
             ],
             [
              0.8888888888888888,
              "#fdca26"
             ],
             [
              1,
              "#f0f921"
             ]
            ],
            "type": "contour"
           }
          ],
          "contourcarpet": [
           {
            "colorbar": {
             "outlinewidth": 0,
             "ticks": ""
            },
            "type": "contourcarpet"
           }
          ],
          "heatmap": [
           {
            "colorbar": {
             "outlinewidth": 0,
             "ticks": ""
            },
            "colorscale": [
             [
              0,
              "#0d0887"
             ],
             [
              0.1111111111111111,
              "#46039f"
             ],
             [
              0.2222222222222222,
              "#7201a8"
             ],
             [
              0.3333333333333333,
              "#9c179e"
             ],
             [
              0.4444444444444444,
              "#bd3786"
             ],
             [
              0.5555555555555556,
              "#d8576b"
             ],
             [
              0.6666666666666666,
              "#ed7953"
             ],
             [
              0.7777777777777778,
              "#fb9f3a"
             ],
             [
              0.8888888888888888,
              "#fdca26"
             ],
             [
              1,
              "#f0f921"
             ]
            ],
            "type": "heatmap"
           }
          ],
          "heatmapgl": [
           {
            "colorbar": {
             "outlinewidth": 0,
             "ticks": ""
            },
            "colorscale": [
             [
              0,
              "#0d0887"
             ],
             [
              0.1111111111111111,
              "#46039f"
             ],
             [
              0.2222222222222222,
              "#7201a8"
             ],
             [
              0.3333333333333333,
              "#9c179e"
             ],
             [
              0.4444444444444444,
              "#bd3786"
             ],
             [
              0.5555555555555556,
              "#d8576b"
             ],
             [
              0.6666666666666666,
              "#ed7953"
             ],
             [
              0.7777777777777778,
              "#fb9f3a"
             ],
             [
              0.8888888888888888,
              "#fdca26"
             ],
             [
              1,
              "#f0f921"
             ]
            ],
            "type": "heatmapgl"
           }
          ],
          "histogram": [
           {
            "marker": {
             "pattern": {
              "fillmode": "overlay",
              "size": 10,
              "solidity": 0.2
             }
            },
            "type": "histogram"
           }
          ],
          "histogram2d": [
           {
            "colorbar": {
             "outlinewidth": 0,
             "ticks": ""
            },
            "colorscale": [
             [
              0,
              "#0d0887"
             ],
             [
              0.1111111111111111,
              "#46039f"
             ],
             [
              0.2222222222222222,
              "#7201a8"
             ],
             [
              0.3333333333333333,
              "#9c179e"
             ],
             [
              0.4444444444444444,
              "#bd3786"
             ],
             [
              0.5555555555555556,
              "#d8576b"
             ],
             [
              0.6666666666666666,
              "#ed7953"
             ],
             [
              0.7777777777777778,
              "#fb9f3a"
             ],
             [
              0.8888888888888888,
              "#fdca26"
             ],
             [
              1,
              "#f0f921"
             ]
            ],
            "type": "histogram2d"
           }
          ],
          "histogram2dcontour": [
           {
            "colorbar": {
             "outlinewidth": 0,
             "ticks": ""
            },
            "colorscale": [
             [
              0,
              "#0d0887"
             ],
             [
              0.1111111111111111,
              "#46039f"
             ],
             [
              0.2222222222222222,
              "#7201a8"
             ],
             [
              0.3333333333333333,
              "#9c179e"
             ],
             [
              0.4444444444444444,
              "#bd3786"
             ],
             [
              0.5555555555555556,
              "#d8576b"
             ],
             [
              0.6666666666666666,
              "#ed7953"
             ],
             [
              0.7777777777777778,
              "#fb9f3a"
             ],
             [
              0.8888888888888888,
              "#fdca26"
             ],
             [
              1,
              "#f0f921"
             ]
            ],
            "type": "histogram2dcontour"
           }
          ],
          "mesh3d": [
           {
            "colorbar": {
             "outlinewidth": 0,
             "ticks": ""
            },
            "type": "mesh3d"
           }
          ],
          "parcoords": [
           {
            "line": {
             "colorbar": {
              "outlinewidth": 0,
              "ticks": ""
             }
            },
            "type": "parcoords"
           }
          ],
          "pie": [
           {
            "automargin": true,
            "type": "pie"
           }
          ],
          "scatter": [
           {
            "fillpattern": {
             "fillmode": "overlay",
             "size": 10,
             "solidity": 0.2
            },
            "type": "scatter"
           }
          ],
          "scatter3d": [
           {
            "line": {
             "colorbar": {
              "outlinewidth": 0,
              "ticks": ""
             }
            },
            "marker": {
             "colorbar": {
              "outlinewidth": 0,
              "ticks": ""
             }
            },
            "type": "scatter3d"
           }
          ],
          "scattercarpet": [
           {
            "marker": {
             "colorbar": {
              "outlinewidth": 0,
              "ticks": ""
             }
            },
            "type": "scattercarpet"
           }
          ],
          "scattergeo": [
           {
            "marker": {
             "colorbar": {
              "outlinewidth": 0,
              "ticks": ""
             }
            },
            "type": "scattergeo"
           }
          ],
          "scattergl": [
           {
            "marker": {
             "colorbar": {
              "outlinewidth": 0,
              "ticks": ""
             }
            },
            "type": "scattergl"
           }
          ],
          "scattermapbox": [
           {
            "marker": {
             "colorbar": {
              "outlinewidth": 0,
              "ticks": ""
             }
            },
            "type": "scattermapbox"
           }
          ],
          "scatterpolar": [
           {
            "marker": {
             "colorbar": {
              "outlinewidth": 0,
              "ticks": ""
             }
            },
            "type": "scatterpolar"
           }
          ],
          "scatterpolargl": [
           {
            "marker": {
             "colorbar": {
              "outlinewidth": 0,
              "ticks": ""
             }
            },
            "type": "scatterpolargl"
           }
          ],
          "scatterternary": [
           {
            "marker": {
             "colorbar": {
              "outlinewidth": 0,
              "ticks": ""
             }
            },
            "type": "scatterternary"
           }
          ],
          "surface": [
           {
            "colorbar": {
             "outlinewidth": 0,
             "ticks": ""
            },
            "colorscale": [
             [
              0,
              "#0d0887"
             ],
             [
              0.1111111111111111,
              "#46039f"
             ],
             [
              0.2222222222222222,
              "#7201a8"
             ],
             [
              0.3333333333333333,
              "#9c179e"
             ],
             [
              0.4444444444444444,
              "#bd3786"
             ],
             [
              0.5555555555555556,
              "#d8576b"
             ],
             [
              0.6666666666666666,
              "#ed7953"
             ],
             [
              0.7777777777777778,
              "#fb9f3a"
             ],
             [
              0.8888888888888888,
              "#fdca26"
             ],
             [
              1,
              "#f0f921"
             ]
            ],
            "type": "surface"
           }
          ],
          "table": [
           {
            "cells": {
             "fill": {
              "color": "#EBF0F8"
             },
             "line": {
              "color": "white"
             }
            },
            "header": {
             "fill": {
              "color": "#C8D4E3"
             },
             "line": {
              "color": "white"
             }
            },
            "type": "table"
           }
          ]
         },
         "layout": {
          "annotationdefaults": {
           "arrowcolor": "#2a3f5f",
           "arrowhead": 0,
           "arrowwidth": 1
          },
          "autotypenumbers": "strict",
          "coloraxis": {
           "colorbar": {
            "outlinewidth": 0,
            "ticks": ""
           }
          },
          "colorscale": {
           "diverging": [
            [
             0,
             "#8e0152"
            ],
            [
             0.1,
             "#c51b7d"
            ],
            [
             0.2,
             "#de77ae"
            ],
            [
             0.3,
             "#f1b6da"
            ],
            [
             0.4,
             "#fde0ef"
            ],
            [
             0.5,
             "#f7f7f7"
            ],
            [
             0.6,
             "#e6f5d0"
            ],
            [
             0.7,
             "#b8e186"
            ],
            [
             0.8,
             "#7fbc41"
            ],
            [
             0.9,
             "#4d9221"
            ],
            [
             1,
             "#276419"
            ]
           ],
           "sequential": [
            [
             0,
             "#0d0887"
            ],
            [
             0.1111111111111111,
             "#46039f"
            ],
            [
             0.2222222222222222,
             "#7201a8"
            ],
            [
             0.3333333333333333,
             "#9c179e"
            ],
            [
             0.4444444444444444,
             "#bd3786"
            ],
            [
             0.5555555555555556,
             "#d8576b"
            ],
            [
             0.6666666666666666,
             "#ed7953"
            ],
            [
             0.7777777777777778,
             "#fb9f3a"
            ],
            [
             0.8888888888888888,
             "#fdca26"
            ],
            [
             1,
             "#f0f921"
            ]
           ],
           "sequentialminus": [
            [
             0,
             "#0d0887"
            ],
            [
             0.1111111111111111,
             "#46039f"
            ],
            [
             0.2222222222222222,
             "#7201a8"
            ],
            [
             0.3333333333333333,
             "#9c179e"
            ],
            [
             0.4444444444444444,
             "#bd3786"
            ],
            [
             0.5555555555555556,
             "#d8576b"
            ],
            [
             0.6666666666666666,
             "#ed7953"
            ],
            [
             0.7777777777777778,
             "#fb9f3a"
            ],
            [
             0.8888888888888888,
             "#fdca26"
            ],
            [
             1,
             "#f0f921"
            ]
           ]
          },
          "colorway": [
           "#636efa",
           "#EF553B",
           "#00cc96",
           "#ab63fa",
           "#FFA15A",
           "#19d3f3",
           "#FF6692",
           "#B6E880",
           "#FF97FF",
           "#FECB52"
          ],
          "font": {
           "color": "#2a3f5f"
          },
          "geo": {
           "bgcolor": "white",
           "lakecolor": "white",
           "landcolor": "#E5ECF6",
           "showlakes": true,
           "showland": true,
           "subunitcolor": "white"
          },
          "hoverlabel": {
           "align": "left"
          },
          "hovermode": "closest",
          "mapbox": {
           "style": "light"
          },
          "paper_bgcolor": "white",
          "plot_bgcolor": "#E5ECF6",
          "polar": {
           "angularaxis": {
            "gridcolor": "white",
            "linecolor": "white",
            "ticks": ""
           },
           "bgcolor": "#E5ECF6",
           "radialaxis": {
            "gridcolor": "white",
            "linecolor": "white",
            "ticks": ""
           }
          },
          "scene": {
           "xaxis": {
            "backgroundcolor": "#E5ECF6",
            "gridcolor": "white",
            "gridwidth": 2,
            "linecolor": "white",
            "showbackground": true,
            "ticks": "",
            "zerolinecolor": "white"
           },
           "yaxis": {
            "backgroundcolor": "#E5ECF6",
            "gridcolor": "white",
            "gridwidth": 2,
            "linecolor": "white",
            "showbackground": true,
            "ticks": "",
            "zerolinecolor": "white"
           },
           "zaxis": {
            "backgroundcolor": "#E5ECF6",
            "gridcolor": "white",
            "gridwidth": 2,
            "linecolor": "white",
            "showbackground": true,
            "ticks": "",
            "zerolinecolor": "white"
           }
          },
          "shapedefaults": {
           "line": {
            "color": "#2a3f5f"
           }
          },
          "ternary": {
           "aaxis": {
            "gridcolor": "white",
            "linecolor": "white",
            "ticks": ""
           },
           "baxis": {
            "gridcolor": "white",
            "linecolor": "white",
            "ticks": ""
           },
           "bgcolor": "#E5ECF6",
           "caxis": {
            "gridcolor": "white",
            "linecolor": "white",
            "ticks": ""
           }
          },
          "title": {
           "x": 0.05
          },
          "xaxis": {
           "automargin": true,
           "gridcolor": "white",
           "linecolor": "white",
           "ticks": "",
           "title": {
            "standoff": 15
           },
           "zerolinecolor": "white",
           "zerolinewidth": 2
          },
          "yaxis": {
           "automargin": true,
           "gridcolor": "white",
           "linecolor": "white",
           "ticks": "",
           "title": {
            "standoff": 15
           },
           "zerolinecolor": "white",
           "zerolinewidth": 2
          }
         }
        },
        "title": {
         "text": "Valeur actualisée net des flux financiers du projet"
        },
        "xaxis": {
         "title": {
          "text": "Valeur (€)"
         }
        }
       }
      }
     },
     "metadata": {},
     "output_type": "display_data"
    }
   ],
   "source": [
    "aa = pd.DataFrame(dd.loc[[\"CAPEX\",\"OPEX\",\"Revenus\",\"Impôts (IS)\",\"Tirage\",\"Remboursement\",\"Intérêts financiers\"]].sum(1),columns=[\"Initial\"])\n",
    "aa[\"Positif\"] = dd.sum(1).apply(lambda x : 0 if x < 0 else x)\n",
    "aa[\"Négatif\"] = -dd.sum(1).apply(lambda x : 0 if x > 0 else x)\n",
    "fig = go.Figure()\n",
    "list_to_show = [\"CAPEX\",\"OPEX\",\"Revenus\",\"Impôts (IS)\",\"Tirage\",\"Remboursement\",\"Intérêts financiers\"]\n",
    "for flux in list_to_show:\n",
    "    fig.add_trace(\n",
    "        go.Bar(\n",
    "        x = aa[[\"Positif\",\"Négatif\"]].columns,\n",
    "        y = aa[[\"Positif\",\"Négatif\"]].loc[flux],\n",
    "        name = flux\n",
    "        )\n",
    "    )\n",
    "\n",
    "    fig.update_layout(\n",
    "    barmode = \"relative\",\n",
    "    title = \"Valeur actualisée net des flux financiers du projet\",\n",
    "    xaxis_title = \"Valeur (€)\"\n",
    "    )\n",
    "\n",
    "fig.show()"
   ]
  },
  {
   "cell_type": "code",
   "execution_count": 151,
   "metadata": {},
   "outputs": [
    {
     "data": {
      "text/html": [
       "<div>\n",
       "<style scoped>\n",
       "    .dataframe tbody tr th:only-of-type {\n",
       "        vertical-align: middle;\n",
       "    }\n",
       "\n",
       "    .dataframe tbody tr th {\n",
       "        vertical-align: top;\n",
       "    }\n",
       "\n",
       "    .dataframe thead th {\n",
       "        text-align: right;\n",
       "    }\n",
       "</style>\n",
       "<table border=\"1\" class=\"dataframe\">\n",
       "  <thead>\n",
       "    <tr style=\"text-align: right;\">\n",
       "      <th></th>\n",
       "      <th>Initial</th>\n",
       "      <th>Positif</th>\n",
       "      <th>Négatif</th>\n",
       "    </tr>\n",
       "  </thead>\n",
       "  <tbody>\n",
       "    <tr>\n",
       "      <th>CAPEX</th>\n",
       "      <td>-1.960271e+06</td>\n",
       "      <td>0.000000e+00</td>\n",
       "      <td>1.960271e+06</td>\n",
       "    </tr>\n",
       "    <tr>\n",
       "      <th>OPEX</th>\n",
       "      <td>-5.534082e+05</td>\n",
       "      <td>0.000000e+00</td>\n",
       "      <td>5.534082e+05</td>\n",
       "    </tr>\n",
       "    <tr>\n",
       "      <th>Revenus</th>\n",
       "      <td>2.316772e+06</td>\n",
       "      <td>2.316772e+06</td>\n",
       "      <td>-0.000000e+00</td>\n",
       "    </tr>\n",
       "    <tr>\n",
       "      <th>Impôts (IS)</th>\n",
       "      <td>-2.298750e+05</td>\n",
       "      <td>0.000000e+00</td>\n",
       "      <td>2.298750e+05</td>\n",
       "    </tr>\n",
       "    <tr>\n",
       "      <th>Tirage</th>\n",
       "      <td>5.193526e+05</td>\n",
       "      <td>5.193526e+05</td>\n",
       "      <td>-0.000000e+00</td>\n",
       "    </tr>\n",
       "    <tr>\n",
       "      <th>Remboursement</th>\n",
       "      <td>-4.055376e+05</td>\n",
       "      <td>0.000000e+00</td>\n",
       "      <td>4.055376e+05</td>\n",
       "    </tr>\n",
       "    <tr>\n",
       "      <th>Intérêts financiers</th>\n",
       "      <td>-5.591305e+04</td>\n",
       "      <td>0.000000e+00</td>\n",
       "      <td>5.591305e+04</td>\n",
       "    </tr>\n",
       "  </tbody>\n",
       "</table>\n",
       "</div>"
      ],
      "text/plain": [
       "                          Initial       Positif       Négatif\n",
       "CAPEX               -1.960271e+06  0.000000e+00  1.960271e+06\n",
       "OPEX                -5.534082e+05  0.000000e+00  5.534082e+05\n",
       "Revenus              2.316772e+06  2.316772e+06 -0.000000e+00\n",
       "Impôts (IS)         -2.298750e+05  0.000000e+00  2.298750e+05\n",
       "Tirage               5.193526e+05  5.193526e+05 -0.000000e+00\n",
       "Remboursement       -4.055376e+05  0.000000e+00  4.055376e+05\n",
       "Intérêts financiers -5.591305e+04  0.000000e+00  5.591305e+04"
      ]
     },
     "execution_count": 151,
     "metadata": {},
     "output_type": "execute_result"
    }
   ],
   "source": [
    "aa"
   ]
  },
  {
   "cell_type": "code",
   "execution_count": 111,
   "metadata": {},
   "outputs": [],
   "source": [
    "import numpy_financial as npf"
   ]
  },
  {
   "cell_type": "code",
   "execution_count": 112,
   "metadata": {},
   "outputs": [
    {
     "data": {
      "text/plain": [
       "36656.59660367117"
      ]
     },
     "execution_count": 112,
     "metadata": {},
     "output_type": "execute_result"
    }
   ],
   "source": [
    "npf.npv(5/100,df.loc[\"Cash Flow\"])*(1+5/100)**2"
   ]
  },
  {
   "cell_type": "code",
   "execution_count": 113,
   "metadata": {},
   "outputs": [
    {
     "data": {
      "text/plain": [
       "5.258755981310093"
      ]
     },
     "execution_count": 113,
     "metadata": {},
     "output_type": "execute_result"
    }
   ],
   "source": [
    "npf.irr(df.loc[\"Cash Flow\"])*100"
   ]
  },
  {
   "cell_type": "code",
   "execution_count": 1,
   "metadata": {},
   "outputs": [
    {
     "ename": "ModuleNotFoundError",
     "evalue": "No module named 'streamlit_static_pages'",
     "output_type": "error",
     "traceback": [
      "\u001b[1;31m---------------------------------------------------------------------------\u001b[0m",
      "\u001b[1;31mModuleNotFoundError\u001b[0m                       Traceback (most recent call last)",
      "Cell \u001b[1;32mIn[1], line 1\u001b[0m\n\u001b[1;32m----> 1\u001b[0m \u001b[39mimport\u001b[39;00m \u001b[39mstreamlit_static_pages\u001b[39;00m \u001b[39mas\u001b[39;00m \u001b[39mstatic\u001b[39;00m\n",
      "\u001b[1;31mModuleNotFoundError\u001b[0m: No module named 'streamlit_static_pages'"
     ]
    }
   ],
   "source": [
    "import streamlit_static_pages as static"
   ]
  }
 ],
 "metadata": {
  "kernelspec": {
   "display_name": "Python 3",
   "language": "python",
   "name": "python3"
  },
  "language_info": {
   "codemirror_mode": {
    "name": "ipython",
    "version": 3
   },
   "file_extension": ".py",
   "mimetype": "text/x-python",
   "name": "python",
   "nbconvert_exporter": "python",
   "pygments_lexer": "ipython3",
   "version": "3.10.10"
  },
  "orig_nbformat": 4,
  "vscode": {
   "interpreter": {
    "hash": "487aeb59b838e470f58a3ecb1b55052a6f8068d9a2c619d70f6c7b7ccef94692"
   }
  }
 },
 "nbformat": 4,
 "nbformat_minor": 2
}
